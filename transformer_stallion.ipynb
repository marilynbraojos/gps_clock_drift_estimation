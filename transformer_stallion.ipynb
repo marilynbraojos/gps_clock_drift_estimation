{
 "cells": [
  {
   "cell_type": "markdown",
   "id": "ebb3d81a",
   "metadata": {},
   "source": [
    "# Temporal Fusion Transformer Tutorial for Time Series Forecasting using Pytorch Lightning"
   ]
  },
  {
   "cell_type": "code",
   "execution_count": 1,
   "id": "9b9d0ce1",
   "metadata": {},
   "outputs": [],
   "source": [
    "mat_filepath = \"../gps_datasets/test_transformer/smooth_data_full.mat\"\n",
    "csv_filepath = \"../gps_datasets/test_transformer/combined_data.csv\""
   ]
  },
  {
   "cell_type": "code",
   "execution_count": 2,
   "id": "90f77c87",
   "metadata": {},
   "outputs": [],
   "source": [
    "import copy\n",
    "import matplotlib.pyplot as plt\n",
    "import numpy as np\n",
    "import pandas as pd\n",
    "import pickle\n",
    "\n",
    "import warnings\n",
    "warnings.filterwarnings(\"ignore\")\n",
    "\n",
    "import os\n",
    "os.environ[\"PYTORCH_ENABLE_MPS_FALLBACK\"] = \"1\"\n",
    "\n",
    "from scipy.io import loadmat\n",
    "from pathlib import Path\n",
    "\n",
    "import torch\n",
    "\n",
    "import lightning.pytorch as pl \n",
    "from lightning.pytorch.callbacks import EarlyStopping, LearningRateMonitor \n",
    "from lightning.pytorch.loggers import TensorBoardLogger\n",
    "from lightning.pytorch.tuner import Tuner\n",
    "\n",
    "from pytorch_forecasting.models.temporal_fusion_transformer.tuning import optimize_hyperparameters\n",
    "from pytorch_forecasting import Baseline, TemporalFusionTransformer, TimeSeriesDataSet\n",
    "from pytorch_forecasting.data import GroupNormalizer\n",
    "from pytorch_forecasting.metrics import MAE, SMAPE, PoissonLoss, QuantileLoss\n",
    "from pytorch_forecasting.models.temporal_fusion_transformer.tuning import (\n",
    "    optimize_hyperparameters,\n",
    ")"
   ]
  },
  {
   "cell_type": "markdown",
   "id": "f8365b7d",
   "metadata": {},
   "source": [
    "## Converting .mat file to .csv"
   ]
  },
  {
   "cell_type": "code",
   "execution_count": 3,
   "id": "e53a56c5",
   "metadata": {},
   "outputs": [],
   "source": [
    "mat = loadmat(mat_filepath)"
   ]
  },
  {
   "cell_type": "code",
   "execution_count": 4,
   "id": "74e36597",
   "metadata": {},
   "outputs": [
    {
     "name": "stdout",
     "output_type": "stream",
     "text": [
      "dict_keys(['__header__', '__version__', '__globals__', 'original_correction_value', 'processed_broadcast_clock_bias', 'processed_correction_value', 'None', 'processed_final_clock_bias', '__function_workspace__'])\n"
     ]
    }
   ],
   "source": [
    "print(mat.keys())"
   ]
  },
  {
   "cell_type": "code",
   "execution_count": 5,
   "id": "c74c2d10",
   "metadata": {},
   "outputs": [],
   "source": [
    "mat = {k: v for k, v in mat.items() if not k.startswith('__') and not k.endswith('__') and k != \"None\"}"
   ]
  },
  {
   "cell_type": "code",
   "execution_count": 6,
   "id": "d5e73094",
   "metadata": {},
   "outputs": [
    {
     "name": "stdout",
     "output_type": "stream",
     "text": [
      "{'original_correction_value': array([[ 3.77025300e-10,  2.07725515e-10,  1.66652731e-10, ...,\n",
      "        -4.01776400e-10, -1.93164357e-10, -3.62395213e-10]]), 'processed_broadcast_clock_bias': array([[-4.46614809e-04, -4.46614687e-04, -4.46614564e-04, ...,\n",
      "        -6.26967326e-05, -6.26965621e-05, -6.26963915e-05]]), 'processed_correction_value': array([[4.17033936e-10, 4.17040428e-10, 4.17053207e-10, ...,\n",
      "        1.30038358e-09, 1.30044855e-09, 1.30050543e-09]]), 'processed_final_clock_bias': array([[-4.46614432e-04, -4.46614479e-04, -4.46614397e-04, ...,\n",
      "        -6.26971344e-05, -6.26967552e-05, -6.26967539e-05]])}\n"
     ]
    }
   ],
   "source": [
    "print(mat)"
   ]
  },
  {
   "cell_type": "code",
   "execution_count": 7,
   "id": "b1b9ef26",
   "metadata": {},
   "outputs": [],
   "source": [
    "data = pd.DataFrame({k: pd.Series(v[0]) for k, v in mat.items()})"
   ]
  },
  {
   "cell_type": "code",
   "execution_count": 8,
   "id": "5dcfea00",
   "metadata": {},
   "outputs": [],
   "source": [
    "data.to_csv(csv_filepath, index = False)"
   ]
  },
  {
   "cell_type": "markdown",
   "id": "a46eaa99",
   "metadata": {},
   "source": [
    "## Convert CSV to Pandas DataFrame"
   ]
  },
  {
   "cell_type": "code",
   "execution_count": 9,
   "id": "85b8286f",
   "metadata": {},
   "outputs": [],
   "source": [
    "df = pd.read_csv(csv_filepath)"
   ]
  },
  {
   "cell_type": "code",
   "execution_count": 10,
   "id": "ce367dab",
   "metadata": {},
   "outputs": [
    {
     "data": {
      "text/html": [
       "<div>\n",
       "<style scoped>\n",
       "    .dataframe tbody tr th:only-of-type {\n",
       "        vertical-align: middle;\n",
       "    }\n",
       "\n",
       "    .dataframe tbody tr th {\n",
       "        vertical-align: top;\n",
       "    }\n",
       "\n",
       "    .dataframe thead th {\n",
       "        text-align: right;\n",
       "    }\n",
       "</style>\n",
       "<table border=\"1\" class=\"dataframe\">\n",
       "  <thead>\n",
       "    <tr style=\"text-align: right;\">\n",
       "      <th></th>\n",
       "      <th>original_correction_value</th>\n",
       "      <th>processed_broadcast_clock_bias</th>\n",
       "      <th>processed_correction_value</th>\n",
       "      <th>processed_final_clock_bias</th>\n",
       "    </tr>\n",
       "  </thead>\n",
       "  <tbody>\n",
       "    <tr>\n",
       "      <th>0</th>\n",
       "      <td>3.770253e-10</td>\n",
       "      <td>-0.000447</td>\n",
       "      <td>4.170339e-10</td>\n",
       "      <td>-0.000447</td>\n",
       "    </tr>\n",
       "    <tr>\n",
       "      <th>1</th>\n",
       "      <td>2.077255e-10</td>\n",
       "      <td>-0.000447</td>\n",
       "      <td>4.170404e-10</td>\n",
       "      <td>-0.000447</td>\n",
       "    </tr>\n",
       "    <tr>\n",
       "      <th>2</th>\n",
       "      <td>1.666527e-10</td>\n",
       "      <td>-0.000447</td>\n",
       "      <td>4.170532e-10</td>\n",
       "      <td>-0.000447</td>\n",
       "    </tr>\n",
       "    <tr>\n",
       "      <th>3</th>\n",
       "      <td>1.995279e-10</td>\n",
       "      <td>-0.000447</td>\n",
       "      <td>4.170637e-10</td>\n",
       "      <td>-0.000447</td>\n",
       "    </tr>\n",
       "    <tr>\n",
       "      <th>4</th>\n",
       "      <td>1.381092e-10</td>\n",
       "      <td>-0.000447</td>\n",
       "      <td>4.170739e-10</td>\n",
       "      <td>-0.000447</td>\n",
       "    </tr>\n",
       "    <tr>\n",
       "      <th>...</th>\n",
       "      <td>...</td>\n",
       "      <td>...</td>\n",
       "      <td>...</td>\n",
       "      <td>...</td>\n",
       "    </tr>\n",
       "    <tr>\n",
       "      <th>2100715</th>\n",
       "      <td>-3.507794e-10</td>\n",
       "      <td>-0.000063</td>\n",
       "      <td>1.300274e-09</td>\n",
       "      <td>-0.000063</td>\n",
       "    </tr>\n",
       "    <tr>\n",
       "      <th>2100716</th>\n",
       "      <td>-3.300659e-10</td>\n",
       "      <td>-0.000063</td>\n",
       "      <td>1.300327e-09</td>\n",
       "      <td>-0.000063</td>\n",
       "    </tr>\n",
       "    <tr>\n",
       "      <th>2100717</th>\n",
       "      <td>-4.017764e-10</td>\n",
       "      <td>-0.000063</td>\n",
       "      <td>1.300384e-09</td>\n",
       "      <td>-0.000063</td>\n",
       "    </tr>\n",
       "    <tr>\n",
       "      <th>2100718</th>\n",
       "      <td>-1.931644e-10</td>\n",
       "      <td>-0.000063</td>\n",
       "      <td>1.300449e-09</td>\n",
       "      <td>-0.000063</td>\n",
       "    </tr>\n",
       "    <tr>\n",
       "      <th>2100719</th>\n",
       "      <td>-3.623952e-10</td>\n",
       "      <td>-0.000063</td>\n",
       "      <td>1.300505e-09</td>\n",
       "      <td>-0.000063</td>\n",
       "    </tr>\n",
       "  </tbody>\n",
       "</table>\n",
       "<p>2100720 rows × 4 columns</p>\n",
       "</div>"
      ],
      "text/plain": [
       "         original_correction_value  processed_broadcast_clock_bias  \\\n",
       "0                     3.770253e-10                       -0.000447   \n",
       "1                     2.077255e-10                       -0.000447   \n",
       "2                     1.666527e-10                       -0.000447   \n",
       "3                     1.995279e-10                       -0.000447   \n",
       "4                     1.381092e-10                       -0.000447   \n",
       "...                            ...                             ...   \n",
       "2100715              -3.507794e-10                       -0.000063   \n",
       "2100716              -3.300659e-10                       -0.000063   \n",
       "2100717              -4.017764e-10                       -0.000063   \n",
       "2100718              -1.931644e-10                       -0.000063   \n",
       "2100719              -3.623952e-10                       -0.000063   \n",
       "\n",
       "         processed_correction_value  processed_final_clock_bias  \n",
       "0                      4.170339e-10                   -0.000447  \n",
       "1                      4.170404e-10                   -0.000447  \n",
       "2                      4.170532e-10                   -0.000447  \n",
       "3                      4.170637e-10                   -0.000447  \n",
       "4                      4.170739e-10                   -0.000447  \n",
       "...                             ...                         ...  \n",
       "2100715                1.300274e-09                   -0.000063  \n",
       "2100716                1.300327e-09                   -0.000063  \n",
       "2100717                1.300384e-09                   -0.000063  \n",
       "2100718                1.300449e-09                   -0.000063  \n",
       "2100719                1.300505e-09                   -0.000063  \n",
       "\n",
       "[2100720 rows x 4 columns]"
      ]
     },
     "metadata": {},
     "output_type": "display_data"
    }
   ],
   "source": [
    "display(df)"
   ]
  },
  {
   "cell_type": "code",
   "execution_count": 11,
   "id": "132f5758",
   "metadata": {},
   "outputs": [
    {
     "data": {
      "text/html": [
       "<div>\n",
       "<style scoped>\n",
       "    .dataframe tbody tr th:only-of-type {\n",
       "        vertical-align: middle;\n",
       "    }\n",
       "\n",
       "    .dataframe tbody tr th {\n",
       "        vertical-align: top;\n",
       "    }\n",
       "\n",
       "    .dataframe thead th {\n",
       "        text-align: right;\n",
       "    }\n",
       "</style>\n",
       "<table border=\"1\" class=\"dataframe\">\n",
       "  <thead>\n",
       "    <tr style=\"text-align: right;\">\n",
       "      <th></th>\n",
       "      <th>original_correction_value</th>\n",
       "      <th>processed_broadcast_clock_bias</th>\n",
       "      <th>processed_correction_value</th>\n",
       "      <th>processed_final_clock_bias</th>\n",
       "    </tr>\n",
       "  </thead>\n",
       "  <tbody>\n",
       "    <tr>\n",
       "      <th>count</th>\n",
       "      <td>2.100720e+06</td>\n",
       "      <td>2.100720e+06</td>\n",
       "      <td>2.100720e+06</td>\n",
       "      <td>2.100720e+06</td>\n",
       "    </tr>\n",
       "    <tr>\n",
       "      <th>mean</th>\n",
       "      <td>1.489596e-09</td>\n",
       "      <td>-2.675219e-04</td>\n",
       "      <td>1.489886e-09</td>\n",
       "      <td>-2.675205e-04</td>\n",
       "    </tr>\n",
       "    <tr>\n",
       "      <th>std</th>\n",
       "      <td>9.923194e-10</td>\n",
       "      <td>1.165445e-04</td>\n",
       "      <td>3.113392e-10</td>\n",
       "      <td>1.165444e-04</td>\n",
       "    </tr>\n",
       "    <tr>\n",
       "      <th>min</th>\n",
       "      <td>-1.412022e-09</td>\n",
       "      <td>-4.466148e-04</td>\n",
       "      <td>4.114572e-10</td>\n",
       "      <td>-4.466145e-04</td>\n",
       "    </tr>\n",
       "    <tr>\n",
       "      <th>25%</th>\n",
       "      <td>8.530563e-10</td>\n",
       "      <td>-3.733339e-04</td>\n",
       "      <td>1.348769e-09</td>\n",
       "      <td>-3.733313e-04</td>\n",
       "    </tr>\n",
       "    <tr>\n",
       "      <th>50%</th>\n",
       "      <td>1.511792e-09</td>\n",
       "      <td>-2.774303e-04</td>\n",
       "      <td>1.503959e-09</td>\n",
       "      <td>-2.774293e-04</td>\n",
       "    </tr>\n",
       "    <tr>\n",
       "      <th>75%</th>\n",
       "      <td>2.145862e-09</td>\n",
       "      <td>-1.624731e-04</td>\n",
       "      <td>1.660942e-09</td>\n",
       "      <td>-1.624717e-04</td>\n",
       "    </tr>\n",
       "    <tr>\n",
       "      <th>max</th>\n",
       "      <td>4.312638e-09</td>\n",
       "      <td>-6.269639e-05</td>\n",
       "      <td>2.751367e-09</td>\n",
       "      <td>-6.269675e-05</td>\n",
       "    </tr>\n",
       "  </tbody>\n",
       "</table>\n",
       "</div>"
      ],
      "text/plain": [
       "       original_correction_value  processed_broadcast_clock_bias  \\\n",
       "count               2.100720e+06                    2.100720e+06   \n",
       "mean                1.489596e-09                   -2.675219e-04   \n",
       "std                 9.923194e-10                    1.165445e-04   \n",
       "min                -1.412022e-09                   -4.466148e-04   \n",
       "25%                 8.530563e-10                   -3.733339e-04   \n",
       "50%                 1.511792e-09                   -2.774303e-04   \n",
       "75%                 2.145862e-09                   -1.624731e-04   \n",
       "max                 4.312638e-09                   -6.269639e-05   \n",
       "\n",
       "       processed_correction_value  processed_final_clock_bias  \n",
       "count                2.100720e+06                2.100720e+06  \n",
       "mean                 1.489886e-09               -2.675205e-04  \n",
       "std                  3.113392e-10                1.165444e-04  \n",
       "min                  4.114572e-10               -4.466145e-04  \n",
       "25%                  1.348769e-09               -3.733313e-04  \n",
       "50%                  1.503959e-09               -2.774293e-04  \n",
       "75%                  1.660942e-09               -1.624717e-04  \n",
       "max                  2.751367e-09               -6.269675e-05  "
      ]
     },
     "execution_count": 11,
     "metadata": {},
     "output_type": "execute_result"
    }
   ],
   "source": [
    "df.describe()"
   ]
  },
  {
   "cell_type": "markdown",
   "id": "f0bb2384",
   "metadata": {},
   "source": [
    "## Plot DataFrame Info"
   ]
  },
  {
   "cell_type": "code",
   "execution_count": 17,
   "id": "788ae12d",
   "metadata": {},
   "outputs": [
    {
     "data": {
      "text/plain": [
       "Text(0.5, 1.0, 'Plot')"
      ]
     },
     "execution_count": 17,
     "metadata": {},
     "output_type": "execute_result"
    },
    {
     "data": {
      "image/png": "[encoded data removed]",
      "text/plain": [
       "<Figure size 1300x500 with 2 Axes>"
      ]
     },
     "metadata": {},
     "output_type": "display_data"
    }
   ],
   "source": [
    "plt.style.use('ggplot')\n",
    "plt.rcParams['figure.figsize'] = [13,5]\n",
    "\n",
    "data_ax1 = df.processed_broadcast_clock_bias\n",
    "data_ax2 = df.processed_correction_value\n",
    "fig, ax1 = plt.subplots()\n",
    "        \n",
    "ax1.set_ylabel('Broadcast Clock Bias', color = 'tab:red')\n",
    "ax1.plot(data_ax1, color = 'tab:red', linewidth= 1)\n",
    "ax1.tick_params(axis = 'y',\n",
    "                labelcolor= 'tab:red',\n",
    "                length = 6, \n",
    "                width = 1, \n",
    "                grid_alpha=0.5)\n",
    "    \n",
    "ax2 = ax1.twinx()\n",
    "ax2.set_ylabel('Clock Correction Value', color = 'tab:blue')\n",
    "ax2.plot(data_ax2, color = 'tab:blue', linewidth = 1)\n",
    "ax2.tick_params(axis='y', labelcolor = 'tab:blue')\n",
    "fig.tight_layout()\n",
    "plt.title(\"Plot\", fontsize = 15)"
   ]
  },
  {
   "cell_type": "markdown",
   "id": "c7ecaecf",
   "metadata": {},
   "source": [
    "## Implementing Toy Transformer"
   ]
  },
  {
   "cell_type": "code",
   "execution_count": 18,
   "id": "0f97b9d2",
   "metadata": {},
   "outputs": [],
   "source": [
    "data = df"
   ]
  },
  {
   "cell_type": "code",
   "execution_count": 19,
   "id": "2f2a5adc",
   "metadata": {},
   "outputs": [],
   "source": [
    "data['time_idx'] = range(len(df))\n",
    "data['satellite_id'] = 0"
   ]
  },
  {
   "cell_type": "code",
   "execution_count": 20,
   "id": "18adf727",
   "metadata": {},
   "outputs": [
    {
     "data": {
      "text/html": [
       "<div>\n",
       "<style scoped>\n",
       "    .dataframe tbody tr th:only-of-type {\n",
       "        vertical-align: middle;\n",
       "    }\n",
       "\n",
       "    .dataframe tbody tr th {\n",
       "        vertical-align: top;\n",
       "    }\n",
       "\n",
       "    .dataframe thead th {\n",
       "        text-align: right;\n",
       "    }\n",
       "</style>\n",
       "<table border=\"1\" class=\"dataframe\">\n",
       "  <thead>\n",
       "    <tr style=\"text-align: right;\">\n",
       "      <th></th>\n",
       "      <th>original_correction_value</th>\n",
       "      <th>processed_broadcast_clock_bias</th>\n",
       "      <th>processed_correction_value</th>\n",
       "      <th>processed_final_clock_bias</th>\n",
       "      <th>time_idx</th>\n",
       "      <th>satellite_id</th>\n",
       "    </tr>\n",
       "  </thead>\n",
       "  <tbody>\n",
       "    <tr>\n",
       "      <th>1548236</th>\n",
       "      <td>1.605602e-10</td>\n",
       "      <td>-0.000168</td>\n",
       "      <td>1.283278e-09</td>\n",
       "      <td>-0.000168</td>\n",
       "      <td>1548236</td>\n",
       "      <td>0</td>\n",
       "    </tr>\n",
       "    <tr>\n",
       "      <th>1402147</th>\n",
       "      <td>5.085995e-10</td>\n",
       "      <td>-0.000201</td>\n",
       "      <td>1.280398e-09</td>\n",
       "      <td>-0.000201</td>\n",
       "      <td>1402147</td>\n",
       "      <td>0</td>\n",
       "    </tr>\n",
       "    <tr>\n",
       "      <th>461863</th>\n",
       "      <td>2.981507e-09</td>\n",
       "      <td>-0.000383</td>\n",
       "      <td>1.611610e-09</td>\n",
       "      <td>-0.000383</td>\n",
       "      <td>461863</td>\n",
       "      <td>0</td>\n",
       "    </tr>\n",
       "    <tr>\n",
       "      <th>1842982</th>\n",
       "      <td>1.212947e-09</td>\n",
       "      <td>-0.000109</td>\n",
       "      <td>1.306207e-09</td>\n",
       "      <td>-0.000109</td>\n",
       "      <td>1842982</td>\n",
       "      <td>0</td>\n",
       "    </tr>\n",
       "    <tr>\n",
       "      <th>1724641</th>\n",
       "      <td>2.947033e-09</td>\n",
       "      <td>-0.000132</td>\n",
       "      <td>1.416555e-09</td>\n",
       "      <td>-0.000132</td>\n",
       "      <td>1724641</td>\n",
       "      <td>0</td>\n",
       "    </tr>\n",
       "    <tr>\n",
       "      <th>...</th>\n",
       "      <td>...</td>\n",
       "      <td>...</td>\n",
       "      <td>...</td>\n",
       "      <td>...</td>\n",
       "      <td>...</td>\n",
       "      <td>...</td>\n",
       "    </tr>\n",
       "    <tr>\n",
       "      <th>1684876</th>\n",
       "      <td>-7.847669e-10</td>\n",
       "      <td>-0.000140</td>\n",
       "      <td>1.553641e-09</td>\n",
       "      <td>-0.000140</td>\n",
       "      <td>1684876</td>\n",
       "      <td>0</td>\n",
       "    </tr>\n",
       "    <tr>\n",
       "      <th>1277503</th>\n",
       "      <td>2.498069e-09</td>\n",
       "      <td>-0.000229</td>\n",
       "      <td>1.427550e-09</td>\n",
       "      <td>-0.000229</td>\n",
       "      <td>1277503</td>\n",
       "      <td>0</td>\n",
       "    </tr>\n",
       "    <tr>\n",
       "      <th>602090</th>\n",
       "      <td>1.419363e-10</td>\n",
       "      <td>-0.000361</td>\n",
       "      <td>1.729017e-09</td>\n",
       "      <td>-0.000361</td>\n",
       "      <td>602090</td>\n",
       "      <td>0</td>\n",
       "    </tr>\n",
       "    <tr>\n",
       "      <th>1150588</th>\n",
       "      <td>1.530716e-09</td>\n",
       "      <td>-0.000256</td>\n",
       "      <td>1.495353e-09</td>\n",
       "      <td>-0.000256</td>\n",
       "      <td>1150588</td>\n",
       "      <td>0</td>\n",
       "    </tr>\n",
       "    <tr>\n",
       "      <th>1679400</th>\n",
       "      <td>1.580135e-09</td>\n",
       "      <td>-0.000141</td>\n",
       "      <td>1.438512e-09</td>\n",
       "      <td>-0.000141</td>\n",
       "      <td>1679400</td>\n",
       "      <td>0</td>\n",
       "    </tr>\n",
       "  </tbody>\n",
       "</table>\n",
       "<p>100 rows × 6 columns</p>\n",
       "</div>"
      ],
      "text/plain": [
       "         original_correction_value  processed_broadcast_clock_bias  \\\n",
       "1548236               1.605602e-10                       -0.000168   \n",
       "1402147               5.085995e-10                       -0.000201   \n",
       "461863                2.981507e-09                       -0.000383   \n",
       "1842982               1.212947e-09                       -0.000109   \n",
       "1724641               2.947033e-09                       -0.000132   \n",
       "...                            ...                             ...   \n",
       "1684876              -7.847669e-10                       -0.000140   \n",
       "1277503               2.498069e-09                       -0.000229   \n",
       "602090                1.419363e-10                       -0.000361   \n",
       "1150588               1.530716e-09                       -0.000256   \n",
       "1679400               1.580135e-09                       -0.000141   \n",
       "\n",
       "         processed_correction_value  processed_final_clock_bias  time_idx  \\\n",
       "1548236                1.283278e-09                   -0.000168   1548236   \n",
       "1402147                1.280398e-09                   -0.000201   1402147   \n",
       "461863                 1.611610e-09                   -0.000383    461863   \n",
       "1842982                1.306207e-09                   -0.000109   1842982   \n",
       "1724641                1.416555e-09                   -0.000132   1724641   \n",
       "...                             ...                         ...       ...   \n",
       "1684876                1.553641e-09                   -0.000140   1684876   \n",
       "1277503                1.427550e-09                   -0.000229   1277503   \n",
       "602090                 1.729017e-09                   -0.000361    602090   \n",
       "1150588                1.495353e-09                   -0.000256   1150588   \n",
       "1679400                1.438512e-09                   -0.000141   1679400   \n",
       "\n",
       "         satellite_id  \n",
       "1548236             0  \n",
       "1402147             0  \n",
       "461863              0  \n",
       "1842982             0  \n",
       "1724641             0  \n",
       "...               ...  \n",
       "1684876             0  \n",
       "1277503             0  \n",
       "602090              0  \n",
       "1150588             0  \n",
       "1679400             0  \n",
       "\n",
       "[100 rows x 6 columns]"
      ]
     },
     "execution_count": 20,
     "metadata": {},
     "output_type": "execute_result"
    }
   ],
   "source": [
    "data.sample(100, random_state=0)"
   ]
  },
  {
   "cell_type": "code",
   "execution_count": 21,
   "id": "68877b09",
   "metadata": {},
   "outputs": [
    {
     "data": {
      "text/html": [
       "<div>\n",
       "<style scoped>\n",
       "    .dataframe tbody tr th:only-of-type {\n",
       "        vertical-align: middle;\n",
       "    }\n",
       "\n",
       "    .dataframe tbody tr th {\n",
       "        vertical-align: top;\n",
       "    }\n",
       "\n",
       "    .dataframe thead th {\n",
       "        text-align: right;\n",
       "    }\n",
       "</style>\n",
       "<table border=\"1\" class=\"dataframe\">\n",
       "  <thead>\n",
       "    <tr style=\"text-align: right;\">\n",
       "      <th></th>\n",
       "      <th>original_correction_value</th>\n",
       "      <th>processed_broadcast_clock_bias</th>\n",
       "      <th>processed_correction_value</th>\n",
       "      <th>processed_final_clock_bias</th>\n",
       "      <th>time_idx</th>\n",
       "      <th>satellite_id</th>\n",
       "    </tr>\n",
       "  </thead>\n",
       "  <tbody>\n",
       "    <tr>\n",
       "      <th>count</th>\n",
       "      <td>2.100720e+06</td>\n",
       "      <td>2.100720e+06</td>\n",
       "      <td>2.100720e+06</td>\n",
       "      <td>2.100720e+06</td>\n",
       "      <td>2.100720e+06</td>\n",
       "      <td>2100720.0</td>\n",
       "    </tr>\n",
       "    <tr>\n",
       "      <th>mean</th>\n",
       "      <td>1.489596e-09</td>\n",
       "      <td>-2.675219e-04</td>\n",
       "      <td>1.489886e-09</td>\n",
       "      <td>-2.675205e-04</td>\n",
       "      <td>1.050360e+06</td>\n",
       "      <td>0.0</td>\n",
       "    </tr>\n",
       "    <tr>\n",
       "      <th>std</th>\n",
       "      <td>9.923194e-10</td>\n",
       "      <td>1.165445e-04</td>\n",
       "      <td>3.113392e-10</td>\n",
       "      <td>1.165444e-04</td>\n",
       "      <td>6.064258e+05</td>\n",
       "      <td>0.0</td>\n",
       "    </tr>\n",
       "    <tr>\n",
       "      <th>min</th>\n",
       "      <td>-1.412022e-09</td>\n",
       "      <td>-4.466148e-04</td>\n",
       "      <td>4.114572e-10</td>\n",
       "      <td>-4.466145e-04</td>\n",
       "      <td>0.000000e+00</td>\n",
       "      <td>0.0</td>\n",
       "    </tr>\n",
       "    <tr>\n",
       "      <th>25%</th>\n",
       "      <td>8.530563e-10</td>\n",
       "      <td>-3.733339e-04</td>\n",
       "      <td>1.348769e-09</td>\n",
       "      <td>-3.733313e-04</td>\n",
       "      <td>5.251798e+05</td>\n",
       "      <td>0.0</td>\n",
       "    </tr>\n",
       "    <tr>\n",
       "      <th>50%</th>\n",
       "      <td>1.511792e-09</td>\n",
       "      <td>-2.774303e-04</td>\n",
       "      <td>1.503959e-09</td>\n",
       "      <td>-2.774293e-04</td>\n",
       "      <td>1.050360e+06</td>\n",
       "      <td>0.0</td>\n",
       "    </tr>\n",
       "    <tr>\n",
       "      <th>75%</th>\n",
       "      <td>2.145862e-09</td>\n",
       "      <td>-1.624731e-04</td>\n",
       "      <td>1.660942e-09</td>\n",
       "      <td>-1.624717e-04</td>\n",
       "      <td>1.575539e+06</td>\n",
       "      <td>0.0</td>\n",
       "    </tr>\n",
       "    <tr>\n",
       "      <th>max</th>\n",
       "      <td>4.312638e-09</td>\n",
       "      <td>-6.269639e-05</td>\n",
       "      <td>2.751367e-09</td>\n",
       "      <td>-6.269675e-05</td>\n",
       "      <td>2.100719e+06</td>\n",
       "      <td>0.0</td>\n",
       "    </tr>\n",
       "  </tbody>\n",
       "</table>\n",
       "</div>"
      ],
      "text/plain": [
       "       original_correction_value  processed_broadcast_clock_bias  \\\n",
       "count               2.100720e+06                    2.100720e+06   \n",
       "mean                1.489596e-09                   -2.675219e-04   \n",
       "std                 9.923194e-10                    1.165445e-04   \n",
       "min                -1.412022e-09                   -4.466148e-04   \n",
       "25%                 8.530563e-10                   -3.733339e-04   \n",
       "50%                 1.511792e-09                   -2.774303e-04   \n",
       "75%                 2.145862e-09                   -1.624731e-04   \n",
       "max                 4.312638e-09                   -6.269639e-05   \n",
       "\n",
       "       processed_correction_value  processed_final_clock_bias      time_idx  \\\n",
       "count                2.100720e+06                2.100720e+06  2.100720e+06   \n",
       "mean                 1.489886e-09               -2.675205e-04  1.050360e+06   \n",
       "std                  3.113392e-10                1.165444e-04  6.064258e+05   \n",
       "min                  4.114572e-10               -4.466145e-04  0.000000e+00   \n",
       "25%                  1.348769e-09               -3.733313e-04  5.251798e+05   \n",
       "50%                  1.503959e-09               -2.774293e-04  1.050360e+06   \n",
       "75%                  1.660942e-09               -1.624717e-04  1.575539e+06   \n",
       "max                  2.751367e-09               -6.269675e-05  2.100719e+06   \n",
       "\n",
       "       satellite_id  \n",
       "count     2100720.0  \n",
       "mean            0.0  \n",
       "std             0.0  \n",
       "min             0.0  \n",
       "25%             0.0  \n",
       "50%             0.0  \n",
       "75%             0.0  \n",
       "max             0.0  "
      ]
     },
     "execution_count": 21,
     "metadata": {},
     "output_type": "execute_result"
    }
   ],
   "source": [
    "data.describe()"
   ]
  },
  {
   "cell_type": "code",
   "execution_count": 22,
   "id": "d93b713f",
   "metadata": {},
   "outputs": [],
   "source": [
    "max_prediction_length = 120 # the length of the forecasting \n",
    "max_encoder_length = 240 # how much past data is used to create predictions\n",
    "training_cutoff = data[\"time_idx\"].max() - max_prediction_length"
   ]
  },
  {
   "cell_type": "code",
   "execution_count": 23,
   "id": "793275f8",
   "metadata": {},
   "outputs": [],
   "source": [
    "training = TimeSeriesDataSet(\n",
    "    data[lambda x: x.time_idx <= training_cutoff],\n",
    "    time_idx=\"time_idx\",\n",
    "    target=\"processed_correction_value\",\n",
    "    group_ids=[\"satellite_id\"],\n",
    "    min_encoder_length=max_encoder_length\n",
    "    // 2,  # keep encoder length long (as it is in the validation set)\n",
    "    max_encoder_length=max_encoder_length,\n",
    "    min_prediction_length=1,\n",
    "    max_prediction_length=max_prediction_length,\n",
    "    static_categoricals=[],\n",
    "    static_reals=[],\n",
    "    time_varying_known_categoricals=[],\n",
    "    time_varying_known_reals=[\"time_idx\"],\n",
    "    time_varying_unknown_categoricals=[],\n",
    "    time_varying_unknown_reals=[\n",
    "        \"processed_broadcast_clock_bias\",\n",
    "        \"processed_final_clock_bias\",\n",
    "        \"processed_correction_value\",\n",
    "    ],\n",
    "    target_normalizer=GroupNormalizer(\n",
    "        groups=[\"satellite_id\"], transformation=\"softplus\"\n",
    "    ),  # use softplus and normalize by group\n",
    "    add_relative_time_idx=True,\n",
    "    add_target_scales=True,\n",
    "    add_encoder_length=True,\n",
    ")"
   ]
  },
  {
   "cell_type": "code",
   "execution_count": 24,
   "id": "bc8b2e6a",
   "metadata": {},
   "outputs": [],
   "source": [
    "validation = TimeSeriesDataSet.from_dataset(\n",
    "    training, data, predict=True, stop_randomization=True\n",
    ")\n"
   ]
  },
  {
   "cell_type": "code",
   "execution_count": 25,
   "id": "352f6664",
   "metadata": {},
   "outputs": [],
   "source": [
    "# create dataloaders for model\n",
    "batch_size = 128  # set this between 32 to 128\n",
    "train_dataloader = training.to_dataloader(\n",
    "    train=True, batch_size=batch_size, num_workers=0\n",
    ")\n",
    "val_dataloader = validation.to_dataloader(\n",
    "    train=False, batch_size=batch_size * 10, num_workers=0\n",
    ")"
   ]
  },
  {
   "cell_type": "code",
   "execution_count": 26,
   "id": "99fba77f",
   "metadata": {},
   "outputs": [
    {
     "name": "stderr",
     "output_type": "stream",
     "text": [
      "Using default `ModelCheckpoint`. Consider installing `litmodels` package to enable `LitModelCheckpoint` for automatic upload to the Lightning model registry.\n",
      "GPU available: True (mps), used: True\n",
      "TPU available: False, using: 0 TPU cores\n",
      "HPU available: False, using: 0 HPUs\n"
     ]
    },
    {
     "data": {
      "text/plain": [
       "tensor(4.0407e-12, device='mps:0')"
      ]
     },
     "execution_count": 26,
     "metadata": {},
     "output_type": "execute_result"
    }
   ],
   "source": [
    "baseline_predictions = Baseline().predict(val_dataloader, return_y=True)\n",
    "MAE()(baseline_predictions.output, baseline_predictions.y)"
   ]
  },
  {
   "cell_type": "code",
   "execution_count": 27,
   "id": "e3544f26",
   "metadata": {},
   "outputs": [
    {
     "name": "stderr",
     "output_type": "stream",
     "text": [
      "Seed set to 42\n",
      "Using default `ModelCheckpoint`. Consider installing `litmodels` package to enable `LitModelCheckpoint` for automatic upload to the Lightning model registry.\n",
      "GPU available: True (mps), used: False\n",
      "TPU available: False, using: 0 TPU cores\n",
      "HPU available: False, using: 0 HPUs\n"
     ]
    }
   ],
   "source": [
    "# configure network and trainer\n",
    "pl.seed_everything(42) # https://pytorch-lightning.readthedocs.io/en/1.7.7/api/pytorch_lightning.utilities.seed.html\n",
    "\n",
    "trainer = pl.Trainer(\n",
    "    accelerator=\"cpu\",\n",
    "    gradient_clip_val=0.1,\n",
    ")\n"
   ]
  },
  {
   "cell_type": "code",
   "execution_count": 28,
   "id": "283799e6",
   "metadata": {},
   "outputs": [
    {
     "name": "stdout",
     "output_type": "stream",
     "text": [
      "Number of parameters in network: 7.6k\n"
     ]
    }
   ],
   "source": [
    "tft = TemporalFusionTransformer.from_dataset(\n",
    "    training,\n",
    "    # not meaningful for finding the learning rate but otherwise very important\n",
    "    learning_rate=0.03,\n",
    "    hidden_size=8,  # most important hyperparameter apart from learning rate\n",
    "    # number of attention heads. Set to up to 4 for large datasets\n",
    "    attention_head_size=1,\n",
    "    dropout=0.1,  # between 0.1 and 0.3 are good values\n",
    "    hidden_continuous_size=8,  # set to <= hidden_size\n",
    "    loss=QuantileLoss(), # suitable for probabilistic forecasting \n",
    "    optimizer=\"ranger\", # combines the RAdam+ Lookahead - this often leads to a fast convergence\n",
    "    # reduce learning rate if no improvement in validation loss after x epochs\n",
    "    # reduce_on_plateau_patience=1000,\n",
    ")\n",
    "print(f\"Number of parameters in network: {tft.size() / 1e3:.1f}k\")\n"
   ]
  },
  {
   "cell_type": "code",
   "execution_count": 29,
   "id": "b9e0e14b",
   "metadata": {},
   "outputs": [
    {
     "name": "stderr",
     "output_type": "stream",
     "text": [
      "Finding best initial lr:  73%|███████▎  | 73/100 [03:53<01:26,  3.20s/it]\n",
      "LR finder stopped early after 73 steps due to diverging loss.\n",
      "Learning rate set to 0.000331131121482591\n",
      "Restoring states from the checkpoint path at /Users/marilyn/Library/Mobile Documents/com~apple~CloudDocs/Documents/doctorate/ssdl/gps_clock_drift_estimation/.lr_find_f9ad79d6-50e3-42f0-8ce1-b6a47b912c2f.ckpt\n",
      "Restored all states from the checkpoint at /Users/marilyn/Library/Mobile Documents/com~apple~CloudDocs/Documents/doctorate/ssdl/gps_clock_drift_estimation/.lr_find_f9ad79d6-50e3-42f0-8ce1-b6a47b912c2f.ckpt\n"
     ]
    },
    {
     "name": "stdout",
     "output_type": "stream",
     "text": [
      "suggested learning rate: 0.000331131121482591\n"
     ]
    },
    {
     "data": {
      "image/png": "[encoded data removed]",
      "text/plain": [
       "<Figure size 1300x500 with 1 Axes>"
      ]
     },
     "metadata": {},
     "output_type": "display_data"
    }
   ],
   "source": [
    "# find optimal learning rate\n",
    "\n",
    "\n",
    "# learning rate tuning to choose an effective learning rate \n",
    "res = Tuner(trainer).lr_find(\n",
    "    tft,\n",
    "    train_dataloaders=train_dataloader,\n",
    "    val_dataloaders=val_dataloader,\n",
    "    max_lr=10.0,\n",
    "    min_lr=1e-6,\n",
    ")\n",
    "\n",
    "print(f\"suggested learning rate: {res.suggestion()}\")\n",
    "fig = res.plot(show=True, suggest=True)\n",
    "fig.show()"
   ]
  },
  {
   "cell_type": "code",
   "execution_count": 30,
   "id": "6b246442",
   "metadata": {},
   "outputs": [
    {
     "name": "stderr",
     "output_type": "stream",
     "text": [
      "Using default `ModelCheckpoint`. Consider installing `litmodels` package to enable `LitModelCheckpoint` for automatic upload to the Lightning model registry.\n",
      "GPU available: True (mps), used: False\n",
      "TPU available: False, using: 0 TPU cores\n",
      "HPU available: False, using: 0 HPUs\n"
     ]
    },
    {
     "name": "stdout",
     "output_type": "stream",
     "text": [
      "Number of parameters in network: 19.9k\n"
     ]
    }
   ],
   "source": [
    "# configure network and trainer\n",
    "early_stop_callback = EarlyStopping(\n",
    "    monitor=\"val_loss\", min_delta=1e-4, patience=10, verbose=False, mode=\"min\"\n",
    ")\n",
    "lr_logger = LearningRateMonitor()  # log the learning rate\n",
    "logger = TensorBoardLogger(\"lightning_logs\")  # logging results to a tensorboard\n",
    "\n",
    "trainer = pl.Trainer(\n",
    "    max_epochs=10, # changed from 50 to 10\n",
    "    accelerator=\"cpu\",\n",
    "    enable_model_summary=True,\n",
    "    gradient_clip_val=0.1,\n",
    "    limit_train_batches=50,  # coment in for training, running valiation every 30 batches\n",
    "    # fast_dev_run=True,  # comment in to check that networkor dataset has no serious bugs\n",
    "    callbacks=[lr_logger, early_stop_callback],\n",
    "    logger=logger,\n",
    ")\n",
    "\n",
    "tft = TemporalFusionTransformer.from_dataset(\n",
    "    training,\n",
    "    learning_rate=0.03,\n",
    "    hidden_size=16,\n",
    "    attention_head_size=2,\n",
    "    dropout=0.1,\n",
    "    hidden_continuous_size=8,\n",
    "    loss=QuantileLoss(),\n",
    "    log_interval=10,  # uncomment for learning rate finder and otherwise, e.g. to 10 for logging every 10 batches\n",
    "    optimizer=\"ranger\",\n",
    "    reduce_on_plateau_patience=4,\n",
    ")\n",
    "print(f\"Number of parameters in network: {tft.size() / 1e3:.1f}k\")"
   ]
  },
  {
   "cell_type": "code",
   "execution_count": 31,
   "id": "56ad39c7",
   "metadata": {},
   "outputs": [
    {
     "name": "stderr",
     "output_type": "stream",
     "text": [
      "\n",
      "   | Name                               | Type                            | Params | Mode \n",
      "------------------------------------------------------------------------------------------------\n",
      "0  | loss                               | QuantileLoss                    | 0      | train\n",
      "1  | logging_metrics                    | ModuleList                      | 0      | train\n",
      "2  | input_embeddings                   | MultiEmbedding                  | 0      | train\n",
      "3  | prescalers                         | ModuleDict                      | 128    | train\n",
      "4  | static_variable_selection          | VariableSelectionNetwork        | 1.7 K  | train\n",
      "5  | encoder_variable_selection         | VariableSelectionNetwork        | 3.0 K  | train\n",
      "6  | decoder_variable_selection         | VariableSelectionNetwork        | 1.2 K  | train\n",
      "7  | static_context_variable_selection  | GatedResidualNetwork            | 1.1 K  | train\n",
      "8  | static_context_initial_hidden_lstm | GatedResidualNetwork            | 1.1 K  | train\n",
      "9  | static_context_initial_cell_lstm   | GatedResidualNetwork            | 1.1 K  | train\n",
      "10 | static_context_enrichment          | GatedResidualNetwork            | 1.1 K  | train\n",
      "11 | lstm_encoder                       | LSTM                            | 2.2 K  | train\n",
      "12 | lstm_decoder                       | LSTM                            | 2.2 K  | train\n",
      "13 | post_lstm_gate_encoder             | GatedLinearUnit                 | 544    | train\n",
      "14 | post_lstm_add_norm_encoder         | AddNorm                         | 32     | train\n",
      "15 | static_enrichment                  | GatedResidualNetwork            | 1.4 K  | train\n",
      "16 | multihead_attn                     | InterpretableMultiHeadAttention | 808    | train\n",
      "17 | post_attn_gate_norm                | GateAddNorm                     | 576    | train\n",
      "18 | pos_wise_ff                        | GatedResidualNetwork            | 1.1 K  | train\n",
      "19 | pre_output_gate_norm               | GateAddNorm                     | 576    | train\n",
      "20 | output_layer                       | Linear                          | 119    | train\n",
      "------------------------------------------------------------------------------------------------\n",
      "19.9 K    Trainable params\n",
      "0         Non-trainable params\n",
      "19.9 K    Total params\n",
      "0.079     Total estimated model params size (MB)\n",
      "305       Modules in train mode\n",
      "0         Modules in eval mode\n"
     ]
    },
    {
     "name": "stdout",
     "output_type": "stream",
     "text": [
      "Epoch 9: 100%|██████████| 50/50 [03:26<00:00,  0.24it/s, v_num=0, train_loss_step=1.22e-10, val_loss=9.97e-11, train_loss_epoch=1.29e-10]"
     ]
    },
    {
     "name": "stderr",
     "output_type": "stream",
     "text": [
      "`Trainer.fit` stopped: `max_epochs=10` reached.\n"
     ]
    },
    {
     "name": "stdout",
     "output_type": "stream",
     "text": [
      "Epoch 9: 100%|██████████| 50/50 [03:26<00:00,  0.24it/s, v_num=0, train_loss_step=1.22e-10, val_loss=9.97e-11, train_loss_epoch=1.29e-10]\n"
     ]
    }
   ],
   "source": [
    "# fit network\n",
    "trainer.fit(\n",
    "    tft,\n",
    "    train_dataloaders=train_dataloader,\n",
    "    val_dataloaders=val_dataloader,\n",
    ")"
   ]
  },
  {
   "cell_type": "markdown",
   "id": "614be010",
   "metadata": {},
   "source": [
    "# Hyperparameter Tuning \n",
    "\n",
    "Hyperparameter tuning is done with optuna - which is directly built into pytorch-forecasting. "
   ]
  },
  {
   "cell_type": "code",
   "execution_count": null,
   "id": "907fbfb0",
   "metadata": {},
   "outputs": [],
   "source": []
  },
  {
   "cell_type": "code",
   "execution_count": 32,
   "id": "eac255fb",
   "metadata": {},
   "outputs": [
    {
     "name": "stderr",
     "output_type": "stream",
     "text": [
      "[I 2025-05-14 16:00:31,461] A new study created in memory with name: no-name-e9728551-2159-477f-8b1c-4233e8308b9a\n",
      "GPU available: True (mps), used: True\n",
      "TPU available: False, using: 0 TPU cores\n",
      "HPU available: False, using: 0 HPUs\n",
      "`Trainer.fit` stopped: `max_epochs=5` reached.\n",
      "[I 2025-05-14 16:03:00,761] Trial 0 finished with value: 1.296991625210353e-09 and parameters: {'gradient_clip_val': 0.05040410878811946, 'hidden_size': 23, 'dropout': 0.2660027919080969, 'hidden_continuous_size': 11, 'attention_head_size': 4, 'learning_rate': 0.0042255374385107465}. Best is trial 0 with value: 1.296991625210353e-09.\n",
      "GPU available: True (mps), used: True\n",
      "TPU available: False, using: 0 TPU cores\n",
      "HPU available: False, using: 0 HPUs\n",
      "`Trainer.fit` stopped: `max_epochs=5` reached.\n",
      "[I 2025-05-14 16:05:01,774] Trial 1 finished with value: 1.296991625210353e-09 and parameters: {'gradient_clip_val': 0.060551797785382916, 'hidden_size': 8, 'dropout': 0.15128327791800966, 'hidden_continuous_size': 8, 'attention_head_size': 4, 'learning_rate': 0.007653098150691896}. Best is trial 0 with value: 1.296991625210353e-09.\n",
      "GPU available: True (mps), used: True\n",
      "TPU available: False, using: 0 TPU cores\n",
      "HPU available: False, using: 0 HPUs\n",
      "`Trainer.fit` stopped: `max_epochs=5` reached.\n",
      "[I 2025-05-14 16:07:18,384] Trial 2 finished with value: 1.296991625210353e-09 and parameters: {'gradient_clip_val': 0.033577791811701035, 'hidden_size': 22, 'dropout': 0.17703502388654976, 'hidden_continuous_size': 21, 'attention_head_size': 4, 'learning_rate': 0.016052294898541847}. Best is trial 0 with value: 1.296991625210353e-09.\n"
     ]
    },
    {
     "name": "stdout",
     "output_type": "stream",
     "text": [
      "{'gradient_clip_val': 0.05040410878811946, 'hidden_size': 23, 'dropout': 0.2660027919080969, 'hidden_continuous_size': 11, 'attention_head_size': 4, 'learning_rate': 0.0042255374385107465}\n"
     ]
    }
   ],
   "source": [
    "# create study\n",
    "study = optimize_hyperparameters(\n",
    "    train_dataloader,\n",
    "    val_dataloader,\n",
    "    model_path=\"optuna_test\",\n",
    "    n_trials=3,\n",
    "    max_epochs=5,\n",
    "    gradient_clip_val_range=(0.01, 1.0),\n",
    "    hidden_size_range=(8, 128),\n",
    "    hidden_continuous_size_range=(8, 128),\n",
    "    attention_head_size_range=(1, 4),\n",
    "    learning_rate_range=(0.001, 0.1),\n",
    "    dropout_range=(0.1, 0.3),\n",
    "    trainer_kwargs=dict(limit_train_batches=30),\n",
    "    reduce_on_plateau_patience=4,\n",
    "    use_learning_rate_finder=False,  # use Optuna to find ideal learning rate or use in-built learning rate finder\n",
    ")\n",
    "\n",
    "# save study results - also we can resume tuning at a later point in time\n",
    "with open(\"test_study.pkl\", \"wb\") as fout:\n",
    "    pickle.dump(study, fout)\n",
    "\n",
    "# show best hyperparameters\n",
    "print(study.best_trial.params)"
   ]
  },
  {
   "cell_type": "markdown",
   "id": "637a0bb7",
   "metadata": {},
   "source": [
    "https://www.reddit.com/r/pytorch/comments/1335lwu/pytorch_enable_mps_fallback_help/"
   ]
  },
  {
   "cell_type": "markdown",
   "id": "4672ea13",
   "metadata": {},
   "source": [
    "# Evaluate Performance \n",
    "\n",
    "PyTorch lightning automatically checkpoints training and therefore we can retrieve the best model and load it. \n",
    "\n",
    "After training, we can make predictions with predict(). This method allows a very fine-grained control over what it returns so that we can easily match the predictions to the pandas dataframe. "
   ]
  },
  {
   "cell_type": "code",
   "execution_count": 33,
   "id": "e839b804",
   "metadata": {},
   "outputs": [],
   "source": [
    "# load the best model according to the validation loss\n",
    "# (given that we use early stopping, this is not necessarily the last epoch)\n",
    "best_model_path = trainer.checkpoint_callback.best_model_path\n",
    "best_tft = TemporalFusionTransformer.load_from_checkpoint(best_model_path)"
   ]
  },
  {
   "cell_type": "code",
   "execution_count": 34,
   "id": "883ba1be",
   "metadata": {},
   "outputs": [
    {
     "name": "stderr",
     "output_type": "stream",
     "text": [
      "Using default `ModelCheckpoint`. Consider installing `litmodels` package to enable `LitModelCheckpoint` for automatic upload to the Lightning model registry.\n",
      "GPU available: True (mps), used: False\n",
      "TPU available: False, using: 0 TPU cores\n",
      "HPU available: False, using: 0 HPUs\n"
     ]
    },
    {
     "data": {
      "text/plain": [
       "tensor(2.1983e-10)"
      ]
     },
     "execution_count": 34,
     "metadata": {},
     "output_type": "execute_result"
    }
   ],
   "source": [
    "# calcualte mean absolute error on validation set\n",
    "predictions = best_tft.predict(\n",
    "    val_dataloader, return_y=True, trainer_kwargs=dict(accelerator=\"cpu\")\n",
    ")\n",
    "MAE()(predictions.output, predictions.y)"
   ]
  },
  {
   "cell_type": "code",
   "execution_count": 35,
   "id": "ba342b9e",
   "metadata": {},
   "outputs": [
    {
     "name": "stderr",
     "output_type": "stream",
     "text": [
      "Using default `ModelCheckpoint`. Consider installing `litmodels` package to enable `LitModelCheckpoint` for automatic upload to the Lightning model registry.\n",
      "GPU available: True (mps), used: False\n",
      "TPU available: False, using: 0 TPU cores\n",
      "HPU available: False, using: 0 HPUs\n"
     ]
    }
   ],
   "source": [
    "# raw predictions are a dictionary from which all kind of information including quantiles can be extracted\n",
    "raw_predictions = best_tft.predict(\n",
    "    val_dataloader, mode=\"raw\", return_x=True, trainer_kwargs=dict(accelerator=\"cpu\")\n",
    ")"
   ]
  },
  {
   "cell_type": "code",
   "execution_count": 36,
   "id": "41bd087b",
   "metadata": {},
   "outputs": [
    {
     "ename": "IndexError",
     "evalue": "index 1 is out of bounds for dimension 0 with size 1",
     "output_type": "error",
     "traceback": [
      "\u001b[0;31m---------------------------------------------------------------------------\u001b[0m",
      "\u001b[0;31mIndexError\u001b[0m                                Traceback (most recent call last)",
      "Cell \u001b[0;32mIn[36], line 2\u001b[0m\n\u001b[1;32m      1\u001b[0m \u001b[38;5;28;01mfor\u001b[39;00m idx \u001b[38;5;129;01min\u001b[39;00m \u001b[38;5;28mrange\u001b[39m(\u001b[38;5;241m10\u001b[39m):  \u001b[38;5;66;03m# plot 10 examples\u001b[39;00m\n\u001b[0;32m----> 2\u001b[0m     \u001b[43mbest_tft\u001b[49m\u001b[38;5;241;43m.\u001b[39;49m\u001b[43mplot_prediction\u001b[49m\u001b[43m(\u001b[49m\n\u001b[1;32m      3\u001b[0m \u001b[43m        \u001b[49m\u001b[43mraw_predictions\u001b[49m\u001b[38;5;241;43m.\u001b[39;49m\u001b[43mx\u001b[49m\u001b[43m,\u001b[49m\u001b[43m \u001b[49m\u001b[43mraw_predictions\u001b[49m\u001b[38;5;241;43m.\u001b[39;49m\u001b[43moutput\u001b[49m\u001b[43m,\u001b[49m\u001b[43m \u001b[49m\u001b[43midx\u001b[49m\u001b[38;5;241;43m=\u001b[39;49m\u001b[43midx\u001b[49m\u001b[43m,\u001b[49m\u001b[43m \u001b[49m\u001b[43madd_loss_to_title\u001b[49m\u001b[38;5;241;43m=\u001b[39;49m\u001b[38;5;28;43;01mTrue\u001b[39;49;00m\n\u001b[1;32m      4\u001b[0m \u001b[43m    \u001b[49m\u001b[43m)\u001b[49m\n",
      "File \u001b[0;32m~/anaconda3/envs/toy_transformer/lib/python3.10/site-packages/pytorch_forecasting/models/temporal_fusion_transformer/_tft.py:870\u001b[0m, in \u001b[0;36mTemporalFusionTransformer.plot_prediction\u001b[0;34m(self, x, out, idx, plot_attention, add_loss_to_title, show_future_observed, ax, **kwargs)\u001b[0m\n\u001b[1;32m    854\u001b[0m \u001b[38;5;250m\u001b[39m\u001b[38;5;124;03m\"\"\"\u001b[39;00m\n\u001b[1;32m    855\u001b[0m \u001b[38;5;124;03mPlot actuals vs prediction and attention\u001b[39;00m\n\u001b[1;32m    856\u001b[0m \n\u001b[0;32m   (...)\u001b[0m\n\u001b[1;32m    867\u001b[0m \u001b[38;5;124;03m    plt.Figure: matplotlib figure\u001b[39;00m\n\u001b[1;32m    868\u001b[0m \u001b[38;5;124;03m\"\"\"\u001b[39;00m\n\u001b[1;32m    869\u001b[0m \u001b[38;5;66;03m# plot prediction as normal\u001b[39;00m\n\u001b[0;32m--> 870\u001b[0m fig \u001b[38;5;241m=\u001b[39m \u001b[38;5;28;43msuper\u001b[39;49m\u001b[43m(\u001b[49m\u001b[43m)\u001b[49m\u001b[38;5;241;43m.\u001b[39;49m\u001b[43mplot_prediction\u001b[49m\u001b[43m(\u001b[49m\n\u001b[1;32m    871\u001b[0m \u001b[43m    \u001b[49m\u001b[43mx\u001b[49m\u001b[43m,\u001b[49m\n\u001b[1;32m    872\u001b[0m \u001b[43m    \u001b[49m\u001b[43mout\u001b[49m\u001b[43m,\u001b[49m\n\u001b[1;32m    873\u001b[0m \u001b[43m    \u001b[49m\u001b[43midx\u001b[49m\u001b[38;5;241;43m=\u001b[39;49m\u001b[43midx\u001b[49m\u001b[43m,\u001b[49m\n\u001b[1;32m    874\u001b[0m \u001b[43m    \u001b[49m\u001b[43madd_loss_to_title\u001b[49m\u001b[38;5;241;43m=\u001b[39;49m\u001b[43madd_loss_to_title\u001b[49m\u001b[43m,\u001b[49m\n\u001b[1;32m    875\u001b[0m \u001b[43m    \u001b[49m\u001b[43mshow_future_observed\u001b[49m\u001b[38;5;241;43m=\u001b[39;49m\u001b[43mshow_future_observed\u001b[49m\u001b[43m,\u001b[49m\n\u001b[1;32m    876\u001b[0m \u001b[43m    \u001b[49m\u001b[43max\u001b[49m\u001b[38;5;241;43m=\u001b[39;49m\u001b[43max\u001b[49m\u001b[43m,\u001b[49m\n\u001b[1;32m    877\u001b[0m \u001b[43m    \u001b[49m\u001b[38;5;241;43m*\u001b[39;49m\u001b[38;5;241;43m*\u001b[39;49m\u001b[43mkwargs\u001b[49m\u001b[43m,\u001b[49m\n\u001b[1;32m    878\u001b[0m \u001b[43m\u001b[49m\u001b[43m)\u001b[49m\n\u001b[1;32m    880\u001b[0m \u001b[38;5;66;03m# add attention on secondary axis\u001b[39;00m\n\u001b[1;32m    881\u001b[0m \u001b[38;5;28;01mif\u001b[39;00m plot_attention:\n",
      "File \u001b[0;32m~/anaconda3/envs/toy_transformer/lib/python3.10/site-packages/pytorch_forecasting/models/base_model.py:1186\u001b[0m, in \u001b[0;36mBaseModel.plot_prediction\u001b[0;34m(self, x, out, idx, add_loss_to_title, show_future_observed, ax, quantiles_kwargs, prediction_kwargs)\u001b[0m\n\u001b[1;32m   1182\u001b[0m figs \u001b[38;5;241m=\u001b[39m []\n\u001b[1;32m   1183\u001b[0m \u001b[38;5;28;01mfor\u001b[39;00m y_raw, y_hat, y_quantile, encoder_target, decoder_target \u001b[38;5;129;01min\u001b[39;00m \u001b[38;5;28mzip\u001b[39m(\n\u001b[1;32m   1184\u001b[0m     y_raws, y_hats, y_quantiles, encoder_targets, decoder_targets\n\u001b[1;32m   1185\u001b[0m ):\n\u001b[0;32m-> 1186\u001b[0m     y_all \u001b[38;5;241m=\u001b[39m torch\u001b[38;5;241m.\u001b[39mcat([\u001b[43mencoder_target\u001b[49m\u001b[43m[\u001b[49m\u001b[43midx\u001b[49m\u001b[43m]\u001b[49m, decoder_target[idx]])\n\u001b[1;32m   1187\u001b[0m     max_encoder_length \u001b[38;5;241m=\u001b[39m x[\u001b[38;5;124m\"\u001b[39m\u001b[38;5;124mencoder_lengths\u001b[39m\u001b[38;5;124m\"\u001b[39m]\u001b[38;5;241m.\u001b[39mmax()\n\u001b[1;32m   1188\u001b[0m     y \u001b[38;5;241m=\u001b[39m torch\u001b[38;5;241m.\u001b[39mcat(\n\u001b[1;32m   1189\u001b[0m         (\n\u001b[1;32m   1190\u001b[0m             y_all[: x[\u001b[38;5;124m\"\u001b[39m\u001b[38;5;124mencoder_lengths\u001b[39m\u001b[38;5;124m\"\u001b[39m][idx]],\n\u001b[0;32m   (...)\u001b[0m\n\u001b[1;32m   1196\u001b[0m         ),\n\u001b[1;32m   1197\u001b[0m     )\n",
      "\u001b[0;31mIndexError\u001b[0m: index 1 is out of bounds for dimension 0 with size 1"
     ]
    },
    {
     "data": {
      "image/png": "[encoded data removed]",
      "text/plain": [
       "<Figure size 1300x500 with 2 Axes>"
      ]
     },
     "metadata": {},
     "output_type": "display_data"
    }
   ],
   "source": [
    "for idx in range(10):  # plot 10 examples\n",
    "    best_tft.plot_prediction(\n",
    "        raw_predictions.x, raw_predictions.output, idx=idx, add_loss_to_title=True\n",
    "    )"
   ]
  },
  {
   "cell_type": "code",
   "execution_count": null,
   "id": "45ef0b61",
   "metadata": {},
   "outputs": [],
   "source": [
    "# calcualte metric by which to display\n",
    "predictions = best_tft.predict(\n",
    "    val_dataloader, return_y=True, trainer_kwargs=dict(accelerator=\"cpu\")\n",
    ")\n",
    "mean_losses = SMAPE(reduction=\"none\").loss(predictions.output, predictions.y[0]).mean(1)\n",
    "indices = mean_losses.argsort(descending=True)  # sort losses\n",
    "for idx in range(10):  # plot 10 examples\n",
    "    best_tft.plot_prediction(\n",
    "        raw_predictions.x,\n",
    "        raw_predictions.output,\n",
    "        idx=indices[idx],\n",
    "        add_loss_to_title=SMAPE(quantiles=best_tft.loss.quantiles),\n",
    "    )"
   ]
  },
  {
   "cell_type": "code",
   "execution_count": null,
   "id": "f78c0289",
   "metadata": {},
   "outputs": [],
   "source": [
    "predictions = best_tft.predict(\n",
    "    val_dataloader, return_x=True, trainer_kwargs=dict(accelerator=\"cpu\")\n",
    ")\n",
    "predictions_vs_actuals = best_tft.calculate_prediction_actual_by_variable(\n",
    "    predictions.x, predictions.output\n",
    ")\n",
    "best_tft.plot_prediction_actual_by_variable(predictions_vs_actuals)"
   ]
  },
  {
   "cell_type": "code",
   "execution_count": null,
   "id": "a0426b39",
   "metadata": {},
   "outputs": [],
   "source": [
    "best_tft.predict(\n",
    "    training.filter(\n",
    "        lambda x: (x.agency == \"Agency_01\")\n",
    "        & (x.sku == \"SKU_01\")\n",
    "        & (x.time_idx_first_prediction == 15)\n",
    "    ),\n",
    "    mode=\"quantiles\",\n",
    "    trainer_kwargs=dict(accelerator=\"cpu\"),\n",
    ")"
   ]
  },
  {
   "cell_type": "code",
   "execution_count": null,
   "id": "739380cb",
   "metadata": {},
   "outputs": [],
   "source": [
    "raw_prediction = best_tft.predict(\n",
    "    training.filter(\n",
    "        lambda x: (x.agency == \"Agency_01\")\n",
    "        & (x.sku == \"SKU_01\")\n",
    "        & (x.time_idx_first_prediction == 15)\n",
    "    ),\n",
    "    mode=\"raw\",\n",
    "    return_x=True,\n",
    "    trainer_kwargs=dict(accelerator=\"cpu\"),\n",
    ")\n",
    "best_tft.plot_prediction(raw_prediction.x, raw_prediction.output, idx=0)"
   ]
  },
  {
   "cell_type": "code",
   "execution_count": null,
   "id": "b42ed279",
   "metadata": {},
   "outputs": [],
   "source": [
    "# select last 24 months from data (max_encoder_length is 24)\n",
    "encoder_data = data[lambda x: x.time_idx > x.time_idx.max() - max_encoder_length]\n",
    "\n",
    "# select last known data point and create decoder data from it by repeating it and incrementing the month\n",
    "# in a real world dataset, we should not just forward fill the covariates but specify them to account\n",
    "# for changes in special days and prices (which you absolutely should do but we are too lazy here)\n",
    "last_data = data[lambda x: x.time_idx == x.time_idx.max()]\n",
    "decoder_data = pd.concat(\n",
    "    [\n",
    "        last_data.assign(date=lambda x: x.date + pd.offsets.MonthBegin(i))\n",
    "        for i in range(1, max_prediction_length + 1)\n",
    "    ],\n",
    "    ignore_index=True,\n",
    ")\n",
    "\n",
    "# add time index consistent with \"data\"\n",
    "decoder_data[\"time_idx\"] = (\n",
    "    decoder_data[\"date\"].dt.year * 12 + decoder_data[\"date\"].dt.month\n",
    ")\n",
    "decoder_data[\"time_idx\"] += (\n",
    "    encoder_data[\"time_idx\"].max() + 1 - decoder_data[\"time_idx\"].min()\n",
    ")\n",
    "\n",
    "# adjust additional time feature(s)\n",
    "decoder_data[\"month\"] = decoder_data.date.dt.month.astype(str).astype(\n",
    "    \"category\"\n",
    ")  # categories have be strings\n",
    "\n",
    "# combine encoder and decoder data\n",
    "new_prediction_data = pd.concat([encoder_data, decoder_data], ignore_index=True)"
   ]
  },
  {
   "cell_type": "code",
   "execution_count": null,
   "id": "e7c551a5",
   "metadata": {},
   "outputs": [],
   "source": [
    "new_raw_predictions = best_tft.predict(\n",
    "    new_prediction_data,\n",
    "    mode=\"raw\",\n",
    "    return_x=True,\n",
    "    trainer_kwargs=dict(accelerator=\"cpu\"),\n",
    ")\n",
    "\n",
    "for idx in range(10):  # plot 10 examples\n",
    "    best_tft.plot_prediction(\n",
    "        new_raw_predictions.x,\n",
    "        new_raw_predictions.output,\n",
    "        idx=idx,\n",
    "        show_future_observed=False,\n",
    "    )"
   ]
  },
  {
   "cell_type": "code",
   "execution_count": null,
   "id": "7727c1b9",
   "metadata": {},
   "outputs": [],
   "source": [
    "interpretation = best_tft.interpret_output(raw_predictions.output, reduction=\"sum\")\n",
    "best_tft.plot_interpretation(interpretation)"
   ]
  },
  {
   "cell_type": "code",
   "execution_count": null,
   "id": "66f9ceb6",
   "metadata": {},
   "outputs": [],
   "source": [
    "dependency = best_tft.predict_dependency(\n",
    "    val_dataloader.dataset,\n",
    "    \"discount_in_percent\",\n",
    "    np.linspace(0, 30, 30),\n",
    "    show_progress_bar=True,\n",
    "    mode=\"dataframe\",\n",
    "    trainer_kwargs=dict(accelerator=\"cpu\"),\n",
    ")"
   ]
  },
  {
   "cell_type": "code",
   "execution_count": null,
   "id": "4333cada",
   "metadata": {},
   "outputs": [],
   "source": [
    "# plotting median and 25% and 75% percentile\n",
    "agg_dependency = dependency.groupby(\"discount_in_percent\").normalized_prediction.agg(\n",
    "    median=\"median\", q25=lambda x: x.quantile(0.25), q75=lambda x: x.quantile(0.75)\n",
    ")\n",
    "ax = agg_dependency.plot(y=\"median\")\n",
    "ax.fill_between(agg_dependency.index, agg_dependency.q25, agg_dependency.q75, alpha=0.3)"
   ]
  },
  {
   "cell_type": "code",
   "execution_count": null,
   "id": "16e6d081",
   "metadata": {},
   "outputs": [],
   "source": []
  }
 ],
 "metadata": {
  "kernelspec": {
   "display_name": "toy_transformer",
   "language": "python",
   "name": "python3"
  },
  "language_info": {
   "codemirror_mode": {
    "name": "ipython",
    "version": 3
   },
   "file_extension": ".py",
   "mimetype": "text/x-python",
   "name": "python",
   "nbconvert_exporter": "python",
   "pygments_lexer": "ipython3",
   "version": "3.10.16"
  }
 },
 "nbformat": 4,
 "nbformat_minor": 5
}
