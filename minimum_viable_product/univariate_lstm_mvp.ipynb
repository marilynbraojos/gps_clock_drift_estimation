{
 "cells": [
  {
   "cell_type": "markdown",
   "id": "579eea7c",
   "metadata": {},
   "source": [
    "# Note: Abandoned this current approach because it is based on a univariate data approach. This means that it is applied when the only information we have about the curve is the past values of the curve itself. It doesnt give us much insight into multiple features being associated."
   ]
  },
  {
   "cell_type": "markdown",
   "id": "15b0974d",
   "metadata": {},
   "source": [
    "# Time Series Forecasting Tutorial using PyTorch \n",
    "Found some bugs and corrected them. The dataset seems to have been updated since the author posted their tutorial"
   ]
  },
  {
   "cell_type": "markdown",
   "id": "56e56903",
   "metadata": {},
   "source": []
  },
  {
   "cell_type": "code",
   "execution_count": null,
   "id": "7ad2edda",
   "metadata": {},
   "outputs": [],
   "source": [
    "# https://www.geeksforgeeks.org/data-analysis/time-series-forecasting-using-pytorch/"
   ]
  },
  {
   "cell_type": "markdown",
   "id": "197fa34a",
   "metadata": {},
   "source": [
    "## Time Series Forecasting"
   ]
  },
  {
   "cell_type": "markdown",
   "id": "a3b19bd5",
   "metadata": {},
   "source": [
    "Time series is a set of observations at regular periods of time. It tries to estimate future values from current patterns and treands. Traditional approaches include ARIMA, but they have trouble with long-term dependencies in data. LSTMs excel at capturing these. "
   ]
  },
  {
   "cell_type": "markdown",
   "id": "e63b7038",
   "metadata": {},
   "source": [
    "## Dataset\n",
    "In this tutorial, we use the Yahoo Finance dataset with the following:"
   ]
  },
  {
   "cell_type": "code",
   "execution_count": 1,
   "id": "dcc2fcc4",
   "metadata": {},
   "outputs": [
    {
     "name": "stdout",
     "output_type": "stream",
     "text": [
      "Requirement already satisfied: yfinance in /Users/marilyn/anaconda3/envs/toy_transformer/lib/python3.10/site-packages (0.2.63)\n",
      "Requirement already satisfied: pandas>=1.3.0 in /Users/marilyn/anaconda3/envs/toy_transformer/lib/python3.10/site-packages (from yfinance) (2.2.3)\n",
      "Requirement already satisfied: numpy>=1.16.5 in /Users/marilyn/anaconda3/envs/toy_transformer/lib/python3.10/site-packages (from yfinance) (2.1.3)\n",
      "Requirement already satisfied: requests>=2.31 in /Users/marilyn/anaconda3/envs/toy_transformer/lib/python3.10/site-packages (from yfinance) (2.32.3)\n",
      "Requirement already satisfied: multitasking>=0.0.7 in /Users/marilyn/anaconda3/envs/toy_transformer/lib/python3.10/site-packages (from yfinance) (0.0.11)\n",
      "Requirement already satisfied: platformdirs>=2.0.0 in /Users/marilyn/anaconda3/envs/toy_transformer/lib/python3.10/site-packages (from yfinance) (4.3.7)\n",
      "Requirement already satisfied: pytz>=2022.5 in /Users/marilyn/anaconda3/envs/toy_transformer/lib/python3.10/site-packages (from yfinance) (2025.2)\n",
      "Requirement already satisfied: frozendict>=2.3.4 in /Users/marilyn/anaconda3/envs/toy_transformer/lib/python3.10/site-packages (from yfinance) (2.4.6)\n",
      "Requirement already satisfied: peewee>=3.16.2 in /Users/marilyn/anaconda3/envs/toy_transformer/lib/python3.10/site-packages (from yfinance) (3.18.1)\n",
      "Requirement already satisfied: beautifulsoup4>=4.11.1 in /Users/marilyn/anaconda3/envs/toy_transformer/lib/python3.10/site-packages (from yfinance) (4.13.4)\n",
      "Requirement already satisfied: curl_cffi>=0.7 in /Users/marilyn/anaconda3/envs/toy_transformer/lib/python3.10/site-packages (from yfinance) (0.11.3)\n",
      "Requirement already satisfied: protobuf>=3.19.0 in /Users/marilyn/anaconda3/envs/toy_transformer/lib/python3.10/site-packages (from yfinance) (5.29.4)\n",
      "Requirement already satisfied: websockets>=13.0 in /Users/marilyn/anaconda3/envs/toy_transformer/lib/python3.10/site-packages (from yfinance) (15.0.1)\n",
      "Requirement already satisfied: soupsieve>1.2 in /Users/marilyn/anaconda3/envs/toy_transformer/lib/python3.10/site-packages (from beautifulsoup4>=4.11.1->yfinance) (2.7)\n",
      "Requirement already satisfied: typing-extensions>=4.0.0 in /Users/marilyn/anaconda3/envs/toy_transformer/lib/python3.10/site-packages (from beautifulsoup4>=4.11.1->yfinance) (4.12.2)\n",
      "Requirement already satisfied: cffi>=1.12.0 in /Users/marilyn/anaconda3/envs/toy_transformer/lib/python3.10/site-packages (from curl_cffi>=0.7->yfinance) (1.17.1)\n",
      "Requirement already satisfied: certifi>=2024.2.2 in /Users/marilyn/anaconda3/envs/toy_transformer/lib/python3.10/site-packages (from curl_cffi>=0.7->yfinance) (2025.4.26)\n",
      "Requirement already satisfied: pycparser in /Users/marilyn/anaconda3/envs/toy_transformer/lib/python3.10/site-packages (from cffi>=1.12.0->curl_cffi>=0.7->yfinance) (2.22)\n",
      "Requirement already satisfied: python-dateutil>=2.8.2 in /Users/marilyn/anaconda3/envs/toy_transformer/lib/python3.10/site-packages (from pandas>=1.3.0->yfinance) (2.9.0.post0)\n",
      "Requirement already satisfied: tzdata>=2022.7 in /Users/marilyn/anaconda3/envs/toy_transformer/lib/python3.10/site-packages (from pandas>=1.3.0->yfinance) (2025.2)\n",
      "Requirement already satisfied: six>=1.5 in /Users/marilyn/anaconda3/envs/toy_transformer/lib/python3.10/site-packages (from python-dateutil>=2.8.2->pandas>=1.3.0->yfinance) (1.17.0)\n",
      "Requirement already satisfied: charset-normalizer<4,>=2 in /Users/marilyn/anaconda3/envs/toy_transformer/lib/python3.10/site-packages (from requests>=2.31->yfinance) (3.4.2)\n",
      "Requirement already satisfied: idna<4,>=2.5 in /Users/marilyn/anaconda3/envs/toy_transformer/lib/python3.10/site-packages (from requests>=2.31->yfinance) (3.10)\n",
      "Requirement already satisfied: urllib3<3,>=1.21.1 in /Users/marilyn/anaconda3/envs/toy_transformer/lib/python3.10/site-packages (from requests>=2.31->yfinance) (2.4.0)\n"
     ]
    }
   ],
   "source": [
    "!pip install yfinance"
   ]
  },
  {
   "cell_type": "markdown",
   "id": "f62ad369",
   "metadata": {},
   "source": [
    "## Step 1: Import libraries and set the configuration"
   ]
  },
  {
   "cell_type": "code",
   "execution_count": 17,
   "id": "52e128a1",
   "metadata": {},
   "outputs": [],
   "source": [
    "import seaborn as sns\n",
    "from pylab import rcParams\n",
    "import matplotlib.pyplot as plt\n",
    "from matplotlib import rc\n",
    "\n",
    "import pandas as pd\n",
    "import numpy as np\n",
    "from tqdm.notebook import tqdm\n",
    "\n",
    "from sklearn.preprocessing import MinMaxScaler\n",
    "\n",
    "import torch\n",
    "import torch.nn as nn\n",
    "import torch.optim as optim\n",
    "from torch.utils.data import DataLoader, TensorDataset\n",
    "from sklearn.metrics import mean_squared_error, r2_score\n",
    "from collections import defaultdict\n",
    "\n",
    "%matplotlib inline\n",
    "\n",
    "sns.set(style='whitegrid', palette='muted', font_scale=1.2)\n",
    "\n",
    "Colour_Palette = ['#01BEFE', '#FF7D00', '#FFDD00', '#FF006D', '#ADFF02', '#8F00FF']\n",
    "sns.set_palette(sns.color_palette(Colour_Palette))\n",
    "\n",
    "tqdm.pandas()"
   ]
  },
  {
   "cell_type": "markdown",
   "id": "26bce463",
   "metadata": {},
   "source": [
    "## Step 2: Load and Inspect Data\n",
    "Download the historical stock price data for Apple (AAPL) from the Yahoo finance datasets. Inspect the data with <code>df.head()</code> and <code>df.info()</code> to understand structure and contents. "
   ]
  },
  {
   "cell_type": "code",
   "execution_count": 2,
   "id": "462a797c",
   "metadata": {},
   "outputs": [
    {
     "name": "stderr",
     "output_type": "stream",
     "text": [
      "/var/folders/jm/d49dqhd91j9g3f2wf9zhq0z80000gn/T/ipykernel_61787/772535922.py:8: FutureWarning: YF.download() has changed argument auto_adjust default to True\n",
      "  df = yf.download('AAPL', start=start_date, end=end_date)\n",
      "[*********************100%***********************]  1 of 1 completed\n"
     ]
    }
   ],
   "source": [
    "import yfinance as yf\n",
    "from datetime import date\n",
    "\n",
    "# end_date = date.today().strftime(\"%Y-%m-%d\")\n",
    "end_date = '2024-08-22' # changed to end date of tutorial\n",
    "start_date = '1990-01-01'\n",
    "\n",
    "df = yf.download('AAPL', start=start_date, end=end_date)"
   ]
  },
  {
   "cell_type": "code",
   "execution_count": 3,
   "id": "06af5bb9",
   "metadata": {},
   "outputs": [
    {
     "name": "stdout",
     "output_type": "stream",
     "text": [
      "Price          Close      High       Low      Open     Volume\n",
      "Ticker          AAPL      AAPL      AAPL      AAPL       AAPL\n",
      "Date                                                         \n",
      "1990-01-02  0.261499  0.263254  0.245704  0.247458  183198400\n",
      "1990-01-03  0.263253  0.266764  0.263253  0.266764  207995200\n",
      "1990-01-04  0.264132  0.272029  0.261498  0.268519  221513600\n",
      "1990-01-05  0.265009  0.268519  0.259744  0.265009  123312000\n",
      "1990-01-08  0.266764  0.266764  0.259744  0.263254  101572800\n",
      "<class 'pandas.core.frame.DataFrame'>\n",
      "DatetimeIndex: 8726 entries, 1990-01-02 to 2024-08-21\n",
      "Data columns (total 5 columns):\n",
      " #   Column          Non-Null Count  Dtype  \n",
      "---  ------          --------------  -----  \n",
      " 0   (Close, AAPL)   8726 non-null   float64\n",
      " 1   (High, AAPL)    8726 non-null   float64\n",
      " 2   (Low, AAPL)     8726 non-null   float64\n",
      " 3   (Open, AAPL)    8726 non-null   float64\n",
      " 4   (Volume, AAPL)  8726 non-null   int64  \n",
      "dtypes: float64(4), int64(1)\n",
      "memory usage: 409.0 KB\n",
      "None\n"
     ]
    }
   ],
   "source": [
    "# Inspect the data\n",
    "print(df.head())\n",
    "print(df.info())"
   ]
  },
  {
   "cell_type": "markdown",
   "id": "5c0c0a0f",
   "metadata": {},
   "source": [
    "Note: It seems like the way the data is structured has changed since the user created this tutorial. For example, now there are multiple axis: Price and Ticker. This will be fixed below. Additionally, two columns appear to stop existing. Now we only have: Close, High, Low, Open, Volume - but not Close Adj.  "
   ]
  },
  {
   "cell_type": "code",
   "execution_count": 10,
   "id": "c8d409e5",
   "metadata": {},
   "outputs": [
    {
     "data": {
      "text/html": [
       "<div>\n",
       "<style scoped>\n",
       "    .dataframe tbody tr th:only-of-type {\n",
       "        vertical-align: middle;\n",
       "    }\n",
       "\n",
       "    .dataframe tbody tr th {\n",
       "        vertical-align: top;\n",
       "    }\n",
       "\n",
       "    .dataframe thead th {\n",
       "        text-align: right;\n",
       "    }\n",
       "</style>\n",
       "<table border=\"1\" class=\"dataframe\">\n",
       "  <thead>\n",
       "    <tr style=\"text-align: right;\">\n",
       "      <th>Price</th>\n",
       "      <th>Close</th>\n",
       "      <th>High</th>\n",
       "      <th>Low</th>\n",
       "      <th>Open</th>\n",
       "      <th>Volume</th>\n",
       "    </tr>\n",
       "    <tr>\n",
       "      <th>Date</th>\n",
       "      <th></th>\n",
       "      <th></th>\n",
       "      <th></th>\n",
       "      <th></th>\n",
       "      <th></th>\n",
       "    </tr>\n",
       "  </thead>\n",
       "  <tbody>\n",
       "    <tr>\n",
       "      <th>1990-01-02</th>\n",
       "      <td>0.261499</td>\n",
       "      <td>0.263254</td>\n",
       "      <td>0.245704</td>\n",
       "      <td>0.247458</td>\n",
       "      <td>183198400</td>\n",
       "    </tr>\n",
       "    <tr>\n",
       "      <th>1990-01-03</th>\n",
       "      <td>0.263253</td>\n",
       "      <td>0.266764</td>\n",
       "      <td>0.263253</td>\n",
       "      <td>0.266764</td>\n",
       "      <td>207995200</td>\n",
       "    </tr>\n",
       "    <tr>\n",
       "      <th>1990-01-04</th>\n",
       "      <td>0.264132</td>\n",
       "      <td>0.272029</td>\n",
       "      <td>0.261498</td>\n",
       "      <td>0.268519</td>\n",
       "      <td>221513600</td>\n",
       "    </tr>\n",
       "    <tr>\n",
       "      <th>1990-01-05</th>\n",
       "      <td>0.265009</td>\n",
       "      <td>0.268519</td>\n",
       "      <td>0.259744</td>\n",
       "      <td>0.265009</td>\n",
       "      <td>123312000</td>\n",
       "    </tr>\n",
       "    <tr>\n",
       "      <th>1990-01-08</th>\n",
       "      <td>0.266764</td>\n",
       "      <td>0.266764</td>\n",
       "      <td>0.259744</td>\n",
       "      <td>0.263254</td>\n",
       "      <td>101572800</td>\n",
       "    </tr>\n",
       "    <tr>\n",
       "      <th>...</th>\n",
       "      <td>...</td>\n",
       "      <td>...</td>\n",
       "      <td>...</td>\n",
       "      <td>...</td>\n",
       "      <td>...</td>\n",
       "    </tr>\n",
       "    <tr>\n",
       "      <th>2024-08-15</th>\n",
       "      <td>223.932846</td>\n",
       "      <td>224.560644</td>\n",
       "      <td>221.979705</td>\n",
       "      <td>223.813271</td>\n",
       "      <td>46414000</td>\n",
       "    </tr>\n",
       "    <tr>\n",
       "      <th>2024-08-16</th>\n",
       "      <td>225.258194</td>\n",
       "      <td>226.035461</td>\n",
       "      <td>222.866592</td>\n",
       "      <td>223.135650</td>\n",
       "      <td>44340200</td>\n",
       "    </tr>\n",
       "    <tr>\n",
       "      <th>2024-08-19</th>\n",
       "      <td>225.098755</td>\n",
       "      <td>225.198411</td>\n",
       "      <td>222.258732</td>\n",
       "      <td>224.929352</td>\n",
       "      <td>40687800</td>\n",
       "    </tr>\n",
       "    <tr>\n",
       "      <th>2024-08-20</th>\n",
       "      <td>225.716583</td>\n",
       "      <td>226.374275</td>\n",
       "      <td>224.660299</td>\n",
       "      <td>224.979185</td>\n",
       "      <td>30299000</td>\n",
       "    </tr>\n",
       "    <tr>\n",
       "      <th>2024-08-21</th>\n",
       "      <td>225.606949</td>\n",
       "      <td>227.181416</td>\n",
       "      <td>224.261687</td>\n",
       "      <td>225.726539</td>\n",
       "      <td>34765500</td>\n",
       "    </tr>\n",
       "  </tbody>\n",
       "</table>\n",
       "<p>8726 rows × 5 columns</p>\n",
       "</div>"
      ],
      "text/plain": [
       "Price            Close        High         Low        Open     Volume\n",
       "Date                                                                 \n",
       "1990-01-02    0.261499    0.263254    0.245704    0.247458  183198400\n",
       "1990-01-03    0.263253    0.266764    0.263253    0.266764  207995200\n",
       "1990-01-04    0.264132    0.272029    0.261498    0.268519  221513600\n",
       "1990-01-05    0.265009    0.268519    0.259744    0.265009  123312000\n",
       "1990-01-08    0.266764    0.266764    0.259744    0.263254  101572800\n",
       "...                ...         ...         ...         ...        ...\n",
       "2024-08-15  223.932846  224.560644  221.979705  223.813271   46414000\n",
       "2024-08-16  225.258194  226.035461  222.866592  223.135650   44340200\n",
       "2024-08-19  225.098755  225.198411  222.258732  224.929352   40687800\n",
       "2024-08-20  225.716583  226.374275  224.660299  224.979185   30299000\n",
       "2024-08-21  225.606949  227.181416  224.261687  225.726539   34765500\n",
       "\n",
       "[8726 rows x 5 columns]"
      ]
     },
     "execution_count": 10,
     "metadata": {},
     "output_type": "execute_result"
    }
   ],
   "source": [
    "df"
   ]
  },
  {
   "cell_type": "code",
   "execution_count": 11,
   "id": "c91d02e3",
   "metadata": {},
   "outputs": [
    {
     "data": {
      "text/html": [
       "<div>\n",
       "<style scoped>\n",
       "    .dataframe tbody tr th:only-of-type {\n",
       "        vertical-align: middle;\n",
       "    }\n",
       "\n",
       "    .dataframe tbody tr th {\n",
       "        vertical-align: top;\n",
       "    }\n",
       "\n",
       "    .dataframe thead th {\n",
       "        text-align: right;\n",
       "    }\n",
       "</style>\n",
       "<table border=\"1\" class=\"dataframe\">\n",
       "  <thead>\n",
       "    <tr style=\"text-align: right;\">\n",
       "      <th>Price</th>\n",
       "      <th>Close</th>\n",
       "      <th>High</th>\n",
       "      <th>Low</th>\n",
       "      <th>Open</th>\n",
       "      <th>Volume</th>\n",
       "    </tr>\n",
       "  </thead>\n",
       "  <tbody>\n",
       "    <tr>\n",
       "      <th>count</th>\n",
       "      <td>8726.000000</td>\n",
       "      <td>8726.000000</td>\n",
       "      <td>8726.000000</td>\n",
       "      <td>8726.000000</td>\n",
       "      <td>8.726000e+03</td>\n",
       "    </tr>\n",
       "    <tr>\n",
       "      <th>mean</th>\n",
       "      <td>27.355737</td>\n",
       "      <td>27.632265</td>\n",
       "      <td>27.054922</td>\n",
       "      <td>27.336139</td>\n",
       "      <td>3.588067e+08</td>\n",
       "    </tr>\n",
       "    <tr>\n",
       "      <th>std</th>\n",
       "      <td>50.154249</td>\n",
       "      <td>50.652217</td>\n",
       "      <td>49.608180</td>\n",
       "      <td>50.108641</td>\n",
       "      <td>3.587390e+08</td>\n",
       "    </tr>\n",
       "    <tr>\n",
       "      <th>min</th>\n",
       "      <td>0.097206</td>\n",
       "      <td>0.099555</td>\n",
       "      <td>0.095797</td>\n",
       "      <td>0.096737</td>\n",
       "      <td>2.396800e+06</td>\n",
       "    </tr>\n",
       "    <tr>\n",
       "      <th>25%</th>\n",
       "      <td>0.315569</td>\n",
       "      <td>0.321622</td>\n",
       "      <td>0.308055</td>\n",
       "      <td>0.315705</td>\n",
       "      <td>1.276736e+08</td>\n",
       "    </tr>\n",
       "    <tr>\n",
       "      <th>50%</th>\n",
       "      <td>2.708633</td>\n",
       "      <td>2.756270</td>\n",
       "      <td>2.664755</td>\n",
       "      <td>2.705628</td>\n",
       "      <td>2.404808e+08</td>\n",
       "    </tr>\n",
       "    <tr>\n",
       "      <th>75%</th>\n",
       "      <td>25.526175</td>\n",
       "      <td>25.739630</td>\n",
       "      <td>25.249481</td>\n",
       "      <td>25.459619</td>\n",
       "      <td>4.540144e+08</td>\n",
       "    </tr>\n",
       "    <tr>\n",
       "      <th>max</th>\n",
       "      <td>233.726929</td>\n",
       "      <td>236.125712</td>\n",
       "      <td>232.004984</td>\n",
       "      <td>235.379203</td>\n",
       "      <td>7.421641e+09</td>\n",
       "    </tr>\n",
       "  </tbody>\n",
       "</table>\n",
       "</div>"
      ],
      "text/plain": [
       "Price        Close         High          Low         Open        Volume\n",
       "count  8726.000000  8726.000000  8726.000000  8726.000000  8.726000e+03\n",
       "mean     27.355737    27.632265    27.054922    27.336139  3.588067e+08\n",
       "std      50.154249    50.652217    49.608180    50.108641  3.587390e+08\n",
       "min       0.097206     0.099555     0.095797     0.096737  2.396800e+06\n",
       "25%       0.315569     0.321622     0.308055     0.315705  1.276736e+08\n",
       "50%       2.708633     2.756270     2.664755     2.705628  2.404808e+08\n",
       "75%      25.526175    25.739630    25.249481    25.459619  4.540144e+08\n",
       "max     233.726929   236.125712   232.004984   235.379203  7.421641e+09"
      ]
     },
     "execution_count": 11,
     "metadata": {},
     "output_type": "execute_result"
    }
   ],
   "source": [
    "df.describe()"
   ]
  },
  {
   "cell_type": "code",
   "execution_count": 12,
   "id": "11563a93",
   "metadata": {},
   "outputs": [
    {
     "data": {
      "text/plain": [
       "Index(['Close', 'High', 'Low', 'Open', 'Volume'], dtype='object', name='Price')"
      ]
     },
     "execution_count": 12,
     "metadata": {},
     "output_type": "execute_result"
    }
   ],
   "source": [
    "df.columns"
   ]
  },
  {
   "cell_type": "code",
   "execution_count": 8,
   "id": "160b61f6",
   "metadata": {},
   "outputs": [],
   "source": [
    "df.columns = df.columns.droplevel('Ticker')"
   ]
  },
  {
   "cell_type": "code",
   "execution_count": 9,
   "id": "6c6c01c1",
   "metadata": {},
   "outputs": [
    {
     "data": {
      "text/html": [
       "<div>\n",
       "<style scoped>\n",
       "    .dataframe tbody tr th:only-of-type {\n",
       "        vertical-align: middle;\n",
       "    }\n",
       "\n",
       "    .dataframe tbody tr th {\n",
       "        vertical-align: top;\n",
       "    }\n",
       "\n",
       "    .dataframe thead th {\n",
       "        text-align: right;\n",
       "    }\n",
       "</style>\n",
       "<table border=\"1\" class=\"dataframe\">\n",
       "  <thead>\n",
       "    <tr style=\"text-align: right;\">\n",
       "      <th>Price</th>\n",
       "      <th>Close</th>\n",
       "      <th>High</th>\n",
       "      <th>Low</th>\n",
       "      <th>Open</th>\n",
       "      <th>Volume</th>\n",
       "    </tr>\n",
       "  </thead>\n",
       "  <tbody>\n",
       "    <tr>\n",
       "      <th>count</th>\n",
       "      <td>8726.000000</td>\n",
       "      <td>8726.000000</td>\n",
       "      <td>8726.000000</td>\n",
       "      <td>8726.000000</td>\n",
       "      <td>8.726000e+03</td>\n",
       "    </tr>\n",
       "    <tr>\n",
       "      <th>mean</th>\n",
       "      <td>27.355737</td>\n",
       "      <td>27.632265</td>\n",
       "      <td>27.054922</td>\n",
       "      <td>27.336139</td>\n",
       "      <td>3.588067e+08</td>\n",
       "    </tr>\n",
       "    <tr>\n",
       "      <th>std</th>\n",
       "      <td>50.154249</td>\n",
       "      <td>50.652217</td>\n",
       "      <td>49.608180</td>\n",
       "      <td>50.108641</td>\n",
       "      <td>3.587390e+08</td>\n",
       "    </tr>\n",
       "    <tr>\n",
       "      <th>min</th>\n",
       "      <td>0.097206</td>\n",
       "      <td>0.099555</td>\n",
       "      <td>0.095797</td>\n",
       "      <td>0.096737</td>\n",
       "      <td>2.396800e+06</td>\n",
       "    </tr>\n",
       "    <tr>\n",
       "      <th>25%</th>\n",
       "      <td>0.315569</td>\n",
       "      <td>0.321622</td>\n",
       "      <td>0.308055</td>\n",
       "      <td>0.315705</td>\n",
       "      <td>1.276736e+08</td>\n",
       "    </tr>\n",
       "    <tr>\n",
       "      <th>50%</th>\n",
       "      <td>2.708633</td>\n",
       "      <td>2.756270</td>\n",
       "      <td>2.664755</td>\n",
       "      <td>2.705628</td>\n",
       "      <td>2.404808e+08</td>\n",
       "    </tr>\n",
       "    <tr>\n",
       "      <th>75%</th>\n",
       "      <td>25.526175</td>\n",
       "      <td>25.739630</td>\n",
       "      <td>25.249481</td>\n",
       "      <td>25.459619</td>\n",
       "      <td>4.540144e+08</td>\n",
       "    </tr>\n",
       "    <tr>\n",
       "      <th>max</th>\n",
       "      <td>233.726929</td>\n",
       "      <td>236.125712</td>\n",
       "      <td>232.004984</td>\n",
       "      <td>235.379203</td>\n",
       "      <td>7.421641e+09</td>\n",
       "    </tr>\n",
       "  </tbody>\n",
       "</table>\n",
       "</div>"
      ],
      "text/plain": [
       "Price        Close         High          Low         Open        Volume\n",
       "count  8726.000000  8726.000000  8726.000000  8726.000000  8.726000e+03\n",
       "mean     27.355737    27.632265    27.054922    27.336139  3.588067e+08\n",
       "std      50.154249    50.652217    49.608180    50.108641  3.587390e+08\n",
       "min       0.097206     0.099555     0.095797     0.096737  2.396800e+06\n",
       "25%       0.315569     0.321622     0.308055     0.315705  1.276736e+08\n",
       "50%       2.708633     2.756270     2.664755     2.705628  2.404808e+08\n",
       "75%      25.526175    25.739630    25.249481    25.459619  4.540144e+08\n",
       "max     233.726929   236.125712   232.004984   235.379203  7.421641e+09"
      ]
     },
     "execution_count": 9,
     "metadata": {},
     "output_type": "execute_result"
    }
   ],
   "source": [
    "df.describe()"
   ]
  },
  {
   "cell_type": "code",
   "execution_count": 13,
   "id": "6d32645c",
   "metadata": {},
   "outputs": [
    {
     "name": "stdout",
     "output_type": "stream",
     "text": [
      "Price          Close      High       Low      Open     Volume\n",
      "Date                                                         \n",
      "1990-01-02  0.261499  0.263254  0.245704  0.247458  183198400\n",
      "1990-01-03  0.263253  0.266764  0.263253  0.266764  207995200\n",
      "1990-01-04  0.264132  0.272029  0.261498  0.268519  221513600\n",
      "1990-01-05  0.265009  0.268519  0.259744  0.265009  123312000\n",
      "1990-01-08  0.266764  0.266764  0.259744  0.263254  101572800\n",
      "<class 'pandas.core.frame.DataFrame'>\n",
      "DatetimeIndex: 8726 entries, 1990-01-02 to 2024-08-21\n",
      "Data columns (total 5 columns):\n",
      " #   Column  Non-Null Count  Dtype  \n",
      "---  ------  --------------  -----  \n",
      " 0   Close   8726 non-null   float64\n",
      " 1   High    8726 non-null   float64\n",
      " 2   Low     8726 non-null   float64\n",
      " 3   Open    8726 non-null   float64\n",
      " 4   Volume  8726 non-null   int64  \n",
      "dtypes: float64(4), int64(1)\n",
      "memory usage: 409.0 KB\n",
      "None\n"
     ]
    }
   ],
   "source": [
    "print(df.head())\n",
    "print(df.info())"
   ]
  },
  {
   "cell_type": "code",
   "execution_count": 14,
   "id": "4e8416cb",
   "metadata": {},
   "outputs": [
    {
     "data": {
      "text/plain": [
       "Date\n",
       "1990-01-02      0.247458\n",
       "1990-01-03      0.266764\n",
       "1990-01-04      0.268519\n",
       "1990-01-05      0.265009\n",
       "1990-01-08      0.263254\n",
       "                 ...    \n",
       "2024-08-15    223.813271\n",
       "2024-08-16    223.135650\n",
       "2024-08-19    224.929352\n",
       "2024-08-20    224.979185\n",
       "2024-08-21    225.726539\n",
       "Name: Open, Length: 8726, dtype: float64"
      ]
     },
     "execution_count": 14,
     "metadata": {},
     "output_type": "execute_result"
    }
   ],
   "source": [
    "df.Open"
   ]
  },
  {
   "cell_type": "markdown",
   "id": "c54782ca",
   "metadata": {},
   "source": [
    "## Step 3: Plot Data\n",
    "Define a dunction to plot the data using line plots for each column in the DataFrame. This will help us visualize the trends and patterns in the data. "
   ]
  },
  {
   "cell_type": "code",
   "execution_count": 15,
   "id": "6f5cb7ac",
   "metadata": {},
   "outputs": [
    {
     "data": {
      "text/plain": [
       "(8726, 5)"
      ]
     },
     "execution_count": 15,
     "metadata": {},
     "output_type": "execute_result"
    }
   ],
   "source": [
    "df.shape"
   ]
  },
  {
   "cell_type": "code",
   "execution_count": 19,
   "id": "8ca0fced",
   "metadata": {},
   "outputs": [
    {
     "data": {
      "image/png": "[encoded data removed]",
      "text/plain": [
       "<Figure size 1400x700 with 5 Axes>"
      ]
     },
     "metadata": {},
     "output_type": "display_data"
    }
   ],
   "source": [
    "import matplotlib.dates as mdates\n",
    "\n",
    "def data_plot(df):\n",
    "    # Plot line charts\n",
    "    df_plot = df.copy()\n",
    "\n",
    "    ncols = 1\n",
    "    nrows = int(round(df_plot.shape[1] / ncols, 0))\n",
    "\n",
    "    fig, ax = plt.subplots(nrows=nrows, ncols=ncols, sharex=True, figsize=(14, 7))\n",
    "    for i, ax in enumerate(fig.axes):\n",
    "        sns.lineplot(data=df_plot.iloc[:, i], ax=ax)\n",
    "        ax.tick_params(axis=\"x\", rotation=30, labelsize=10, length=0)\n",
    "        ax.xaxis.set_major_locator(mdates.AutoDateLocator())\n",
    "    fig.tight_layout()\n",
    "    plt.show()\n",
    "\n",
    "# Plot the data\n",
    "data_plot(df)"
   ]
  },
  {
   "cell_type": "code",
   "execution_count": 20,
   "id": "3f7cfac3",
   "metadata": {},
   "outputs": [
    {
     "data": {
      "text/plain": [
       "Date\n",
       "1990-01-02      0.247458\n",
       "1990-01-03      0.266764\n",
       "1990-01-04      0.268519\n",
       "1990-01-05      0.265009\n",
       "1990-01-08      0.263254\n",
       "                 ...    \n",
       "2024-08-15    223.813271\n",
       "2024-08-16    223.135650\n",
       "2024-08-19    224.929352\n",
       "2024-08-20    224.979185\n",
       "2024-08-21    225.726539\n",
       "Name: Open, Length: 8726, dtype: float64"
      ]
     },
     "execution_count": 20,
     "metadata": {},
     "output_type": "execute_result"
    }
   ],
   "source": [
    "df.Open"
   ]
  },
  {
   "cell_type": "markdown",
   "id": "56e84f8a",
   "metadata": {},
   "source": [
    "## Step 4: Preprocess Data \n",
    "* Split the data into training and testing sets \n",
    "* Normalize the values wtih the MinMaxScaler \n",
    "\n",
    "* <code>math.ceil</code> is used to calculate the number of training data points \n",
    "* <code> train_data </code> and <code> test_data </code> are used to split the DF into training and testing sets \n",
    "* <code> MinMaxScaler </code> scales the data to fit in the range of [0,1]. This enables the NN to converge faster"
   ]
  },
  {
   "cell_type": "code",
   "execution_count": 21,
   "id": "7d04589c",
   "metadata": {},
   "outputs": [
    {
     "name": "stdout",
     "output_type": "stream",
     "text": [
      "6981\n"
     ]
    }
   ],
   "source": [
    "import math\n",
    "from sklearn.preprocessing import MinMaxScaler\n",
    "\n",
    "# Train test split\n",
    "training_data_len = math.ceil(len(df) * .8)\n",
    "print(training_data_len)"
   ]
  },
  {
   "cell_type": "code",
   "execution_count": 29,
   "id": "e3073ad7",
   "metadata": {},
   "outputs": [
    {
     "name": "stdout",
     "output_type": "stream",
     "text": [
      "(6981, 5) (1745, 5)\n"
     ]
    }
   ],
   "source": [
    "# Splitting the dataset\n",
    "train_data = df[:training_data_len].iloc[:, :]\n",
    "test_data = df[training_data_len:].iloc[:, :]\n",
    "print(train_data.shape, test_data.shape)\n",
    "\n",
    "# in the tutorial they only select the Open category to train on"
   ]
  },
  {
   "cell_type": "code",
   "execution_count": 32,
   "id": "b37c30df",
   "metadata": {},
   "outputs": [
    {
     "name": "stdout",
     "output_type": "stream",
     "text": [
      "(6981, 1)\n"
     ]
    }
   ],
   "source": [
    "# Selecting Open Price values\n",
    "dataset_train = train_data.Open.values\n",
    "# Reshaping 1D to 2D array\n",
    "dataset_train = np.reshape(dataset_train, (-1, 1))\n",
    "print(dataset_train.shape)"
   ]
  },
  {
   "cell_type": "code",
   "execution_count": 33,
   "id": "e837dce9",
   "metadata": {},
   "outputs": [
    {
     "name": "stdout",
     "output_type": "stream",
     "text": [
      "(1745, 1)\n"
     ]
    }
   ],
   "source": [
    "# Selecting Open Price values\n",
    "dataset_test = test_data.Open.values\n",
    "# Reshaping 1D to 2D array\n",
    "dataset_test = np.reshape(dataset_test, (-1, 1))\n",
    "print(dataset_test.shape)"
   ]
  },
  {
   "cell_type": "code",
   "execution_count": 34,
   "id": "33e989bf",
   "metadata": {},
   "outputs": [
    {
     "name": "stdout",
     "output_type": "stream",
     "text": [
      "[[0.00392088]\n",
      " [0.0044231 ]\n",
      " [0.00446875]\n",
      " [0.00437745]\n",
      " [0.00433177]]\n",
      "[[0.01433089]\n",
      " [0.01372611]\n",
      " [0.01563332]\n",
      " [0.01493552]\n",
      " [0.0130632 ]]\n"
     ]
    }
   ],
   "source": [
    "scaler = MinMaxScaler(feature_range=(0, 1))\n",
    "# Scaling dataset\n",
    "scaled_train = scaler.fit_transform(dataset_train)\n",
    "print(scaled_train[:5])\n",
    "\n",
    "# Normalizing values between 0 and 1\n",
    "scaled_test = scaler.fit_transform(dataset_test)\n",
    "print(scaled_test[:5])"
   ]
  },
  {
   "cell_type": "markdown",
   "id": "401cd664",
   "metadata": {},
   "source": [
    "## Step 5: Create Sequences and Labels for Training and Testing"
   ]
  },
  {
   "cell_type": "markdown",
   "id": "19818922",
   "metadata": {},
   "source": [
    "We structure the data into sequences for the LSTM model. Each sequence contains a number of time steps in it. We then convert the data into PyTorch tensors - necessary for input into the model. \n",
    "\n",
    "* <code>sequence_length</code> is the number of time steps the model looks back to make the next prediction\n",
    "* <code>X_train and y_train</code> are the arrays holding the input sequences and their corresponding labels for training\n",
    "* <code>X_test and y_test </code> arrays for testing the data\n",
    "* <code>torch.tensor</code> converts the numpy arrays into PyTorch tensors"
   ]
  },
  {
   "cell_type": "code",
   "execution_count": null,
   "id": "9b1a17e8",
   "metadata": {},
   "outputs": [
    {
     "name": "stdout",
     "output_type": "stream",
     "text": [
      "torch.Size([6931, 50, 1]) torch.Size([6931, 1])\n",
      "torch.Size([1695, 50, 1]) torch.Size([1695, 1])\n"
     ]
    }
   ],
   "source": [
    "# Create sequences and labels for training data\n",
    "\n",
    "sequence_length = 50  # Number of time steps to look back\n",
    "X_train, y_train = [], []\n",
    "\n",
    "for i in range(len(scaled_train) - sequence_length):\n",
    "    X_train.append(scaled_train[i:i + sequence_length])\n",
    "    y_train.append(scaled_train[i + sequence_length])  # Predicting the value right after the sequence\n",
    "X_train, y_train = np.array(X_train), np.array(y_train)\n",
    "\n",
    "# Convert data to PyTorch tensors\n",
    "X_train = torch.tensor(X_train, dtype=torch.float32)\n",
    "y_train = torch.tensor(y_train, dtype=torch.float32)\n",
    "print(X_train.shape, y_train.shape)\n",
    "\n",
    "sequence_length = 50\n",
    "\n",
    "# Create sequences and labels for testing data\n",
    "X_test, y_test = [], []\n",
    "for i in range(len(scaled_test) - sequence_length):\n",
    "    X_test.append(scaled_test[i:i + sequence_length])\n",
    "    y_test.append(scaled_test[i + sequence_length])  # Predicting the value right after the sequence\n",
    "X_test, y_test = np.array(X_test), np.array(y_test)\n",
    "\n",
    "# Convert data to PyTorch tensors\n",
    "X_test = torch.tensor(X_test, dtype=torch.float32)\n",
    "y_test = torch.tensor(y_test, dtype=torch.float32)\n",
    "print(X_test.shape, y_test.shape)"
   ]
  },
  {
   "cell_type": "markdown",
   "id": "c9785431",
   "metadata": {},
   "source": [
    "## Step 6: Define and Train the LSTM Model\n",
    "\n",
    "Define the LSTM model for time series forecasting. The model includes an LSTM layer followed by a fully connected layer. TRain the model using the training data and evaluate it on the test data. \n",
    "\n",
    "* <code> LSTMModel </code> is PyTorch's neural network class with an LSTM layer and a linear layer\n",
    "* <code> Device Configuration </code> checks if a GPU is available to use if possible\n",
    "* <code> Hyperparameters </code> Settings like input size, hidden size, no of layers, dropout rate, batch size, learning rate, and number of epochs \n",
    "* <code> DataLoader </code> Utility to handle batching and shuffling of the dataset\n",
    "* <code> Training Loop </code> loops over the dataset for a specified number of epochs performing forward and backward passes and updating the model weights"
   ]
  },
  {
   "cell_type": "code",
   "execution_count": 36,
   "id": "85a1001c",
   "metadata": {},
   "outputs": [
    {
     "name": "stdout",
     "output_type": "stream",
     "text": [
      "cpu\n",
      "Epoch [2/10] - Training Loss: 0.0142, Test Loss: 0.0042\n",
      "Epoch [4/10] - Training Loss: 0.0006, Test Loss: 0.0010\n",
      "Epoch [6/10] - Training Loss: 0.0005, Test Loss: 0.0009\n",
      "Epoch [8/10] - Training Loss: 0.0004, Test Loss: 0.0009\n",
      "Epoch [10/10] - Training Loss: 0.0003, Test Loss: 0.0008\n"
     ]
    }
   ],
   "source": [
    "class LSTMModel(nn.Module):\n",
    "    def __init__(self, input_size, hidden_size, num_layers, dropout=0.2):\n",
    "        super(LSTMModel, self).__init__()\n",
    "        self.lstm = nn.LSTM(input_size, hidden_size, num_layers, batch_first=True, dropout=dropout)\n",
    "        self.linear = nn.Linear(hidden_size, 1)\n",
    "\n",
    "    def forward(self, x):\n",
    "        out, _ = self.lstm(x)\n",
    "        out = self.linear(out[:, -1, :])\n",
    "        return out\n",
    "\n",
    "device = torch.device('cuda' if torch.cuda.is_available() else 'cpu')\n",
    "print(device)\n",
    "\n",
    "input_size = 1\n",
    "num_layers = 2  # Increased number of layers\n",
    "hidden_size = 4  # Increased number of hidden units\n",
    "output_size = 1\n",
    "dropout = 0.2  # Added dropout for regularization\n",
    "\n",
    "model = LSTMModel(input_size, hidden_size, num_layers, dropout).to(device)\n",
    "loss_fn = nn.MSELoss(reduction='mean')\n",
    "optimizer = optim.Adam(model.parameters(), lr=1e-3)  # Learning rate\n",
    "\n",
    "batch_size = 32  # Adjusted batch size\n",
    "train_dataset = TensorDataset(X_train, y_train)\n",
    "train_loader = DataLoader(train_dataset, batch_size=batch_size, shuffle=True)\n",
    "\n",
    "test_dataset = TensorDataset(X_test, y_test)\n",
    "test_loader = DataLoader(test_dataset, batch_size=batch_size, shuffle=False)\n",
    "\n",
    "num_epochs = 10  \n",
    "train_hist = []\n",
    "test_hist = []\n",
    "\n",
    "for epoch in range(num_epochs):\n",
    "    total_loss = 0.0\n",
    "    model.train()\n",
    "    for batch_X, batch_y in train_loader:\n",
    "        batch_X, batch_y = batch_X.to(device), batch_y.to(device)\n",
    "        predictions = model(batch_X)\n",
    "        loss = loss_fn(predictions, batch_y)\n",
    "\n",
    "        optimizer.zero_grad()\n",
    "        loss.backward()\n",
    "        optimizer.step()\n",
    "\n",
    "        total_loss += loss.item()\n",
    "\n",
    "    average_loss = total_loss / len(train_loader)\n",
    "    train_hist.append(average_loss)\n",
    "\n",
    "    model.eval()\n",
    "    with torch.no_grad():\n",
    "        total_test_loss = 0.0\n",
    "\n",
    "        for batch_X_test, batch_y_test in test_loader:\n",
    "            batch_X_test, batch_y_test = batch_X_test.to(device), batch_y_test.to(device)\n",
    "            predictions_test = model(batch_X_test)\n",
    "            test_loss = loss_fn(predictions_test, batch_y_test)\n",
    "\n",
    "            total_test_loss += test_loss.item()\n",
    "\n",
    "        average_test_loss = total_test_loss / len(test_loader)\n",
    "        test_hist.append(average_test_loss)\n",
    "\n",
    "    if (epoch + 1) % 2 == 0:\n",
    "        print(f'Epoch [{epoch + 1}/{num_epochs}] - Training Loss: {average_loss:.4f}, Test Loss: {average_test_loss:.4f}')"
   ]
  },
  {
   "cell_type": "code",
   "execution_count": 37,
   "id": "3af442f8",
   "metadata": {},
   "outputs": [
    {
     "data": {
      "image/png": "[encoded data removed]",
      "text/plain": [
       "<Figure size 640x480 with 1 Axes>"
      ]
     },
     "metadata": {},
     "output_type": "display_data"
    }
   ],
   "source": [
    "x = np.linspace(1,num_epochs,num_epochs)\n",
    "plt.plot(x,train_hist,scalex=True, label=\"Training loss\")\n",
    "plt.plot(x, test_hist, label=\"Test loss\")\n",
    "plt.legend()\n",
    "plt.show()"
   ]
  },
  {
   "cell_type": "markdown",
   "id": "480ba8b9",
   "metadata": {},
   "source": [
    "## Step 7: Forecast Future Values and Evaluate the Model \n",
    "\n",
    "Use the trained model to forecast future values. Evaluate the model's performance using metrics like RMSE and R2 score. \n",
    "\n",
    "* <code> Forecasting </code> generates future values using the trained model\n",
    "* <code> Plotting </code> visualizes the actual and forecasted values\n",
    "* <code> Evaluation </code> Calculates the RMSE and R2 score to evaluate the model's performance"
   ]
  },
  {
   "cell_type": "code",
   "execution_count": 38,
   "id": "54994edd",
   "metadata": {},
   "outputs": [],
   "source": [
    "num_forecast_steps = 30\n",
    "sequence_to_plot = X_test.squeeze().cpu().numpy()\n",
    "historical_data = sequence_to_plot[-1]"
   ]
  },
  {
   "cell_type": "code",
   "execution_count": 41,
   "id": "1adfd60c",
   "metadata": {},
   "outputs": [
    {
     "data": {
      "text/plain": [
       "(50,)"
      ]
     },
     "execution_count": 41,
     "metadata": {},
     "output_type": "execute_result"
    }
   ],
   "source": [
    "sequence_to_plot[-1].shape"
   ]
  },
  {
   "cell_type": "code",
   "execution_count": 42,
   "id": "18669681",
   "metadata": {},
   "outputs": [],
   "source": [
    "forecasted_values = []\n",
    "with torch.no_grad():\n",
    "    for _ in range(num_forecast_steps):\n",
    "        historical_data_tensor = torch.as_tensor(historical_data).view(1, -1, 1).float().to(device)\n",
    "        predicted_value = model(historical_data_tensor).cpu().numpy()[0, 0]\n",
    "        forecasted_values.append(predicted_value)\n",
    "        historical_data = np.roll(historical_data, shift=-1)\n",
    "        historical_data[-1] = predicted_value"
   ]
  },
  {
   "cell_type": "code",
   "execution_count": 43,
   "id": "396dbc05",
   "metadata": {},
   "outputs": [
    {
     "data": {
      "image/png": "[encoded data removed]",
      "text/plain": [
       "<Figure size 1400x400 with 1 Axes>"
      ]
     },
     "metadata": {},
     "output_type": "display_data"
    },
    {
     "name": "stdout",
     "output_type": "stream",
     "text": [
      "RMSE: 0.0286\n",
      "R² Score: 0.9891\n"
     ]
    }
   ],
   "source": [
    "last_date = test_data.index[-1]\n",
    "future_dates = pd.date_range(start=last_date + pd.DateOffset(1), periods=30)\n",
    "\n",
    "plt.rcParams['figure.figsize'] = [14, 4]\n",
    "plt.plot(test_data.index[-100:], test_data.Open[-100:], label=\"test_data\", color=\"b\")\n",
    "plt.plot(test_data.index[-30:], test_data.Open[-30:], label='actual values', color='green')\n",
    "plt.plot(test_data.index[-1:].append(future_dates), np.concatenate([test_data.Open[-1:], scaler.inverse_transform(np.array(forecasted_values).reshape(-1, 1)).flatten()]), label='forecasted values', color='red')\n",
    "\n",
    "plt.xlabel('Time Step')\n",
    "plt.ylabel('Value')\n",
    "plt.legend()\n",
    "plt.title('Time Series Forecasting')\n",
    "plt.grid(True)\n",
    "plt.show()\n",
    "\n",
    "# Evaluate the model and calculate RMSE and R² score\n",
    "model.eval()\n",
    "with torch.no_grad():\n",
    "    test_predictions = []\n",
    "    for batch_X_test in X_test:\n",
    "        batch_X_test = batch_X_test.to(device).unsqueeze(0)  # Add batch dimension\n",
    "        test_predictions.append(model(batch_X_test).cpu().numpy().flatten()[0])\n",
    "\n",
    "test_predictions = np.array(test_predictions)\n",
    "\n",
    "# Calculate RMSE and R² score\n",
    "rmse = np.sqrt(mean_squared_error(y_test.cpu().numpy(), test_predictions))\n",
    "r2 = r2_score(y_test.cpu().numpy(), test_predictions)\n",
    "\n",
    "print(f'RMSE: {rmse:.4f}')\n",
    "print(f'R² Score: {r2:.4f}')"
   ]
  },
  {
   "cell_type": "code",
   "execution_count": null,
   "id": "dd185b0d",
   "metadata": {},
   "outputs": [],
   "source": []
  }
 ],
 "metadata": {
  "kernelspec": {
   "display_name": "toy_transformer",
   "language": "python",
   "name": "python3"
  },
  "language_info": {
   "codemirror_mode": {
    "name": "ipython",
    "version": 3
   },
   "file_extension": ".py",
   "mimetype": "text/x-python",
   "name": "python",
   "nbconvert_exporter": "python",
   "pygments_lexer": "ipython3",
   "version": "3.10.16"
  }
 },
 "nbformat": 4,
 "nbformat_minor": 5
}
