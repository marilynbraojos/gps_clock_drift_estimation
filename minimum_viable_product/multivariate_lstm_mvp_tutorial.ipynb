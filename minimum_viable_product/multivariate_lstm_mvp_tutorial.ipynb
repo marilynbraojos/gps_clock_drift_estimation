{
 "cells": [
  {
   "cell_type": "code",
   "execution_count": 1,
   "id": "5019b81e",
   "metadata": {},
   "outputs": [],
   "source": [
    "# https://charlieoneill.medium.com/predicting-the-price-of-bitcoin-with-multivariate-pytorch-lstms-695bc294130"
   ]
  },
  {
   "cell_type": "markdown",
   "id": "66ab6f58",
   "metadata": {},
   "source": [
    "# Introduction\n",
    "\n",
    "This tutorial focuses on predicting financial data. We have historical Bitcoin data with daily predictors and daily timesteps: \n",
    "- Opening price \n",
    "- High price \n",
    "- Low price \n",
    "- Volume traded\n",
    "\n",
    "The objective is to take in a sequence of the above 4 values (i.e. from 100 previous days) to predict the target variable (Bitcoin's price) for the next 50 days in the future."
   ]
  },
  {
   "cell_type": "markdown",
   "id": "7070c10a",
   "metadata": {},
   "source": [
    "# Data Preprocessing\n",
    "\n",
    "Because financial data is readily available, we can use that from Yahoo historical prices for Bitcoin - available from 9/17/2014 until 1/14/2022. \n",
    "\n",
    "**Note:** YFinance has placed this data currently behind a paywall. Instead I will import the data from YFinance. "
   ]
  },
  {
   "cell_type": "code",
   "execution_count": 2,
   "id": "1e641abe",
   "metadata": {},
   "outputs": [],
   "source": [
    "import yfinance as yf"
   ]
  },
  {
   "cell_type": "code",
   "execution_count": 3,
   "id": "a874d573",
   "metadata": {},
   "outputs": [
    {
     "name": "stderr",
     "output_type": "stream",
     "text": [
      "/var/folders/jm/d49dqhd91j9g3f2wf9zhq0z80000gn/T/ipykernel_17346/58181414.py:1: FutureWarning: YF.download() has changed argument auto_adjust default to True\n",
      "  data = yf.download(\"BTC-USD\", start=\"2014-09-17\", end=\"2022-01-15\")\n",
      "[*********************100%***********************]  1 of 1 completed\n"
     ]
    }
   ],
   "source": [
    "data = yf.download(\"BTC-USD\", start=\"2014-09-17\", end=\"2022-01-15\")\n",
    "data.to_csv(\"BTC-USD.csv\")"
   ]
  },
  {
   "cell_type": "code",
   "execution_count": 4,
   "id": "31751eda",
   "metadata": {},
   "outputs": [
    {
     "data": {
      "text/html": [
       "<div>\n",
       "<style scoped>\n",
       "    .dataframe tbody tr th:only-of-type {\n",
       "        vertical-align: middle;\n",
       "    }\n",
       "\n",
       "    .dataframe tbody tr th {\n",
       "        vertical-align: top;\n",
       "    }\n",
       "\n",
       "    .dataframe thead th {\n",
       "        text-align: right;\n",
       "    }\n",
       "</style>\n",
       "<table border=\"1\" class=\"dataframe\">\n",
       "  <thead>\n",
       "    <tr style=\"text-align: right;\">\n",
       "      <th></th>\n",
       "      <th>Price</th>\n",
       "      <th>Close</th>\n",
       "      <th>High</th>\n",
       "      <th>Low</th>\n",
       "      <th>Open</th>\n",
       "      <th>Volume</th>\n",
       "    </tr>\n",
       "  </thead>\n",
       "  <tbody>\n",
       "    <tr>\n",
       "      <th>0</th>\n",
       "      <td>2014-09-17</td>\n",
       "      <td>457.334015</td>\n",
       "      <td>468.174011</td>\n",
       "      <td>452.421997</td>\n",
       "      <td>465.864014</td>\n",
       "      <td>21056800</td>\n",
       "    </tr>\n",
       "    <tr>\n",
       "      <th>1</th>\n",
       "      <td>2014-09-18</td>\n",
       "      <td>424.440002</td>\n",
       "      <td>456.859985</td>\n",
       "      <td>413.104004</td>\n",
       "      <td>456.859985</td>\n",
       "      <td>34483200</td>\n",
       "    </tr>\n",
       "    <tr>\n",
       "      <th>2</th>\n",
       "      <td>2014-09-19</td>\n",
       "      <td>394.795990</td>\n",
       "      <td>427.834991</td>\n",
       "      <td>384.532013</td>\n",
       "      <td>424.102997</td>\n",
       "      <td>37919700</td>\n",
       "    </tr>\n",
       "    <tr>\n",
       "      <th>3</th>\n",
       "      <td>2014-09-20</td>\n",
       "      <td>408.903992</td>\n",
       "      <td>423.295990</td>\n",
       "      <td>389.882996</td>\n",
       "      <td>394.673004</td>\n",
       "      <td>36863600</td>\n",
       "    </tr>\n",
       "    <tr>\n",
       "      <th>4</th>\n",
       "      <td>2014-09-21</td>\n",
       "      <td>398.821014</td>\n",
       "      <td>412.425995</td>\n",
       "      <td>393.181000</td>\n",
       "      <td>408.084991</td>\n",
       "      <td>26580100</td>\n",
       "    </tr>\n",
       "    <tr>\n",
       "      <th>...</th>\n",
       "      <td>...</td>\n",
       "      <td>...</td>\n",
       "      <td>...</td>\n",
       "      <td>...</td>\n",
       "      <td>...</td>\n",
       "      <td>...</td>\n",
       "    </tr>\n",
       "    <tr>\n",
       "      <th>2672</th>\n",
       "      <td>2022-01-10</td>\n",
       "      <td>41821.261719</td>\n",
       "      <td>42199.484375</td>\n",
       "      <td>39796.570312</td>\n",
       "      <td>41910.230469</td>\n",
       "      <td>32104232331</td>\n",
       "    </tr>\n",
       "    <tr>\n",
       "      <th>2673</th>\n",
       "      <td>2022-01-11</td>\n",
       "      <td>42735.855469</td>\n",
       "      <td>43001.156250</td>\n",
       "      <td>41407.753906</td>\n",
       "      <td>41819.507812</td>\n",
       "      <td>26327648900</td>\n",
       "    </tr>\n",
       "    <tr>\n",
       "      <th>2674</th>\n",
       "      <td>2022-01-12</td>\n",
       "      <td>43949.101562</td>\n",
       "      <td>44135.367188</td>\n",
       "      <td>42528.988281</td>\n",
       "      <td>42742.179688</td>\n",
       "      <td>33499938689</td>\n",
       "    </tr>\n",
       "    <tr>\n",
       "      <th>2675</th>\n",
       "      <td>2022-01-13</td>\n",
       "      <td>42591.570312</td>\n",
       "      <td>44278.421875</td>\n",
       "      <td>42447.042969</td>\n",
       "      <td>43946.742188</td>\n",
       "      <td>47691135082</td>\n",
       "    </tr>\n",
       "    <tr>\n",
       "      <th>2676</th>\n",
       "      <td>2022-01-14</td>\n",
       "      <td>43099.699219</td>\n",
       "      <td>43346.687500</td>\n",
       "      <td>41982.617188</td>\n",
       "      <td>42598.871094</td>\n",
       "      <td>23577403399</td>\n",
       "    </tr>\n",
       "  </tbody>\n",
       "</table>\n",
       "<p>2677 rows × 6 columns</p>\n",
       "</div>"
      ],
      "text/plain": [
       "           Price         Close          High           Low          Open  \\\n",
       "0     2014-09-17    457.334015    468.174011    452.421997    465.864014   \n",
       "1     2014-09-18    424.440002    456.859985    413.104004    456.859985   \n",
       "2     2014-09-19    394.795990    427.834991    384.532013    424.102997   \n",
       "3     2014-09-20    408.903992    423.295990    389.882996    394.673004   \n",
       "4     2014-09-21    398.821014    412.425995    393.181000    408.084991   \n",
       "...          ...           ...           ...           ...           ...   \n",
       "2672  2022-01-10  41821.261719  42199.484375  39796.570312  41910.230469   \n",
       "2673  2022-01-11  42735.855469  43001.156250  41407.753906  41819.507812   \n",
       "2674  2022-01-12  43949.101562  44135.367188  42528.988281  42742.179688   \n",
       "2675  2022-01-13  42591.570312  44278.421875  42447.042969  43946.742188   \n",
       "2676  2022-01-14  43099.699219  43346.687500  41982.617188  42598.871094   \n",
       "\n",
       "           Volume  \n",
       "0        21056800  \n",
       "1        34483200  \n",
       "2        37919700  \n",
       "3        36863600  \n",
       "4        26580100  \n",
       "...           ...  \n",
       "2672  32104232331  \n",
       "2673  26327648900  \n",
       "2674  33499938689  \n",
       "2675  47691135082  \n",
       "2676  23577403399  \n",
       "\n",
       "[2677 rows x 6 columns]"
      ]
     },
     "execution_count": 4,
     "metadata": {},
     "output_type": "execute_result"
    }
   ],
   "source": [
    "import pandas as pd \n",
    "\n",
    "data = pd.read_csv(\"BTC-USD.csv\", skiprows=[1,2])\n",
    "data\n"
   ]
  },
  {
   "cell_type": "code",
   "execution_count": 5,
   "id": "a8929f4f",
   "metadata": {},
   "outputs": [
    {
     "data": {
      "text/html": [
       "<div>\n",
       "<style scoped>\n",
       "    .dataframe tbody tr th:only-of-type {\n",
       "        vertical-align: middle;\n",
       "    }\n",
       "\n",
       "    .dataframe tbody tr th {\n",
       "        vertical-align: top;\n",
       "    }\n",
       "\n",
       "    .dataframe thead th {\n",
       "        text-align: right;\n",
       "    }\n",
       "</style>\n",
       "<table border=\"1\" class=\"dataframe\">\n",
       "  <thead>\n",
       "    <tr style=\"text-align: right;\">\n",
       "      <th></th>\n",
       "      <th>Date</th>\n",
       "      <th>Close</th>\n",
       "      <th>High</th>\n",
       "      <th>Low</th>\n",
       "      <th>Open</th>\n",
       "      <th>Volume</th>\n",
       "    </tr>\n",
       "  </thead>\n",
       "  <tbody>\n",
       "    <tr>\n",
       "      <th>0</th>\n",
       "      <td>2014-09-17</td>\n",
       "      <td>457.334015</td>\n",
       "      <td>468.174011</td>\n",
       "      <td>452.421997</td>\n",
       "      <td>465.864014</td>\n",
       "      <td>21056800</td>\n",
       "    </tr>\n",
       "    <tr>\n",
       "      <th>1</th>\n",
       "      <td>2014-09-18</td>\n",
       "      <td>424.440002</td>\n",
       "      <td>456.859985</td>\n",
       "      <td>413.104004</td>\n",
       "      <td>456.859985</td>\n",
       "      <td>34483200</td>\n",
       "    </tr>\n",
       "    <tr>\n",
       "      <th>2</th>\n",
       "      <td>2014-09-19</td>\n",
       "      <td>394.795990</td>\n",
       "      <td>427.834991</td>\n",
       "      <td>384.532013</td>\n",
       "      <td>424.102997</td>\n",
       "      <td>37919700</td>\n",
       "    </tr>\n",
       "    <tr>\n",
       "      <th>3</th>\n",
       "      <td>2014-09-20</td>\n",
       "      <td>408.903992</td>\n",
       "      <td>423.295990</td>\n",
       "      <td>389.882996</td>\n",
       "      <td>394.673004</td>\n",
       "      <td>36863600</td>\n",
       "    </tr>\n",
       "    <tr>\n",
       "      <th>4</th>\n",
       "      <td>2014-09-21</td>\n",
       "      <td>398.821014</td>\n",
       "      <td>412.425995</td>\n",
       "      <td>393.181000</td>\n",
       "      <td>408.084991</td>\n",
       "      <td>26580100</td>\n",
       "    </tr>\n",
       "    <tr>\n",
       "      <th>...</th>\n",
       "      <td>...</td>\n",
       "      <td>...</td>\n",
       "      <td>...</td>\n",
       "      <td>...</td>\n",
       "      <td>...</td>\n",
       "      <td>...</td>\n",
       "    </tr>\n",
       "    <tr>\n",
       "      <th>2672</th>\n",
       "      <td>2022-01-10</td>\n",
       "      <td>41821.261719</td>\n",
       "      <td>42199.484375</td>\n",
       "      <td>39796.570312</td>\n",
       "      <td>41910.230469</td>\n",
       "      <td>32104232331</td>\n",
       "    </tr>\n",
       "    <tr>\n",
       "      <th>2673</th>\n",
       "      <td>2022-01-11</td>\n",
       "      <td>42735.855469</td>\n",
       "      <td>43001.156250</td>\n",
       "      <td>41407.753906</td>\n",
       "      <td>41819.507812</td>\n",
       "      <td>26327648900</td>\n",
       "    </tr>\n",
       "    <tr>\n",
       "      <th>2674</th>\n",
       "      <td>2022-01-12</td>\n",
       "      <td>43949.101562</td>\n",
       "      <td>44135.367188</td>\n",
       "      <td>42528.988281</td>\n",
       "      <td>42742.179688</td>\n",
       "      <td>33499938689</td>\n",
       "    </tr>\n",
       "    <tr>\n",
       "      <th>2675</th>\n",
       "      <td>2022-01-13</td>\n",
       "      <td>42591.570312</td>\n",
       "      <td>44278.421875</td>\n",
       "      <td>42447.042969</td>\n",
       "      <td>43946.742188</td>\n",
       "      <td>47691135082</td>\n",
       "    </tr>\n",
       "    <tr>\n",
       "      <th>2676</th>\n",
       "      <td>2022-01-14</td>\n",
       "      <td>43099.699219</td>\n",
       "      <td>43346.687500</td>\n",
       "      <td>41982.617188</td>\n",
       "      <td>42598.871094</td>\n",
       "      <td>23577403399</td>\n",
       "    </tr>\n",
       "  </tbody>\n",
       "</table>\n",
       "<p>2677 rows × 6 columns</p>\n",
       "</div>"
      ],
      "text/plain": [
       "            Date         Close          High           Low          Open  \\\n",
       "0     2014-09-17    457.334015    468.174011    452.421997    465.864014   \n",
       "1     2014-09-18    424.440002    456.859985    413.104004    456.859985   \n",
       "2     2014-09-19    394.795990    427.834991    384.532013    424.102997   \n",
       "3     2014-09-20    408.903992    423.295990    389.882996    394.673004   \n",
       "4     2014-09-21    398.821014    412.425995    393.181000    408.084991   \n",
       "...          ...           ...           ...           ...           ...   \n",
       "2672  2022-01-10  41821.261719  42199.484375  39796.570312  41910.230469   \n",
       "2673  2022-01-11  42735.855469  43001.156250  41407.753906  41819.507812   \n",
       "2674  2022-01-12  43949.101562  44135.367188  42528.988281  42742.179688   \n",
       "2675  2022-01-13  42591.570312  44278.421875  42447.042969  43946.742188   \n",
       "2676  2022-01-14  43099.699219  43346.687500  41982.617188  42598.871094   \n",
       "\n",
       "           Volume  \n",
       "0        21056800  \n",
       "1        34483200  \n",
       "2        37919700  \n",
       "3        36863600  \n",
       "4        26580100  \n",
       "...           ...  \n",
       "2672  32104232331  \n",
       "2673  26327648900  \n",
       "2674  33499938689  \n",
       "2675  47691135082  \n",
       "2676  23577403399  \n",
       "\n",
       "[2677 rows x 6 columns]"
      ]
     },
     "execution_count": 5,
     "metadata": {},
     "output_type": "execute_result"
    }
   ],
   "source": [
    "data.rename(columns={\"Price\": \"Date\"}, inplace=True)\n",
    "data"
   ]
  },
  {
   "cell_type": "code",
   "execution_count": 6,
   "id": "2a0e0d63",
   "metadata": {},
   "outputs": [],
   "source": [
    "data.to_csv(\"BTC-USD.csv\", index=False)"
   ]
  },
  {
   "cell_type": "code",
   "execution_count": 7,
   "id": "7e678320",
   "metadata": {},
   "outputs": [
    {
     "data": {
      "text/html": [
       "<div>\n",
       "<style scoped>\n",
       "    .dataframe tbody tr th:only-of-type {\n",
       "        vertical-align: middle;\n",
       "    }\n",
       "\n",
       "    .dataframe tbody tr th {\n",
       "        vertical-align: top;\n",
       "    }\n",
       "\n",
       "    .dataframe thead th {\n",
       "        text-align: right;\n",
       "    }\n",
       "</style>\n",
       "<table border=\"1\" class=\"dataframe\">\n",
       "  <thead>\n",
       "    <tr style=\"text-align: right;\">\n",
       "      <th></th>\n",
       "      <th>Date</th>\n",
       "      <th>Close</th>\n",
       "      <th>High</th>\n",
       "      <th>Low</th>\n",
       "      <th>Open</th>\n",
       "      <th>Volume</th>\n",
       "    </tr>\n",
       "  </thead>\n",
       "  <tbody>\n",
       "    <tr>\n",
       "      <th>0</th>\n",
       "      <td>2014-09-17</td>\n",
       "      <td>457.334015</td>\n",
       "      <td>468.174011</td>\n",
       "      <td>452.421997</td>\n",
       "      <td>465.864014</td>\n",
       "      <td>21056800</td>\n",
       "    </tr>\n",
       "    <tr>\n",
       "      <th>1</th>\n",
       "      <td>2014-09-18</td>\n",
       "      <td>424.440002</td>\n",
       "      <td>456.859985</td>\n",
       "      <td>413.104004</td>\n",
       "      <td>456.859985</td>\n",
       "      <td>34483200</td>\n",
       "    </tr>\n",
       "    <tr>\n",
       "      <th>2</th>\n",
       "      <td>2014-09-19</td>\n",
       "      <td>394.795990</td>\n",
       "      <td>427.834991</td>\n",
       "      <td>384.532013</td>\n",
       "      <td>424.102997</td>\n",
       "      <td>37919700</td>\n",
       "    </tr>\n",
       "    <tr>\n",
       "      <th>3</th>\n",
       "      <td>2014-09-20</td>\n",
       "      <td>408.903992</td>\n",
       "      <td>423.295990</td>\n",
       "      <td>389.882996</td>\n",
       "      <td>394.673004</td>\n",
       "      <td>36863600</td>\n",
       "    </tr>\n",
       "    <tr>\n",
       "      <th>4</th>\n",
       "      <td>2014-09-21</td>\n",
       "      <td>398.821014</td>\n",
       "      <td>412.425995</td>\n",
       "      <td>393.181000</td>\n",
       "      <td>408.084991</td>\n",
       "      <td>26580100</td>\n",
       "    </tr>\n",
       "    <tr>\n",
       "      <th>...</th>\n",
       "      <td>...</td>\n",
       "      <td>...</td>\n",
       "      <td>...</td>\n",
       "      <td>...</td>\n",
       "      <td>...</td>\n",
       "      <td>...</td>\n",
       "    </tr>\n",
       "    <tr>\n",
       "      <th>2672</th>\n",
       "      <td>2022-01-10</td>\n",
       "      <td>41821.261719</td>\n",
       "      <td>42199.484375</td>\n",
       "      <td>39796.570312</td>\n",
       "      <td>41910.230469</td>\n",
       "      <td>32104232331</td>\n",
       "    </tr>\n",
       "    <tr>\n",
       "      <th>2673</th>\n",
       "      <td>2022-01-11</td>\n",
       "      <td>42735.855469</td>\n",
       "      <td>43001.156250</td>\n",
       "      <td>41407.753906</td>\n",
       "      <td>41819.507812</td>\n",
       "      <td>26327648900</td>\n",
       "    </tr>\n",
       "    <tr>\n",
       "      <th>2674</th>\n",
       "      <td>2022-01-12</td>\n",
       "      <td>43949.101562</td>\n",
       "      <td>44135.367188</td>\n",
       "      <td>42528.988281</td>\n",
       "      <td>42742.179688</td>\n",
       "      <td>33499938689</td>\n",
       "    </tr>\n",
       "    <tr>\n",
       "      <th>2675</th>\n",
       "      <td>2022-01-13</td>\n",
       "      <td>42591.570312</td>\n",
       "      <td>44278.421875</td>\n",
       "      <td>42447.042969</td>\n",
       "      <td>43946.742188</td>\n",
       "      <td>47691135082</td>\n",
       "    </tr>\n",
       "    <tr>\n",
       "      <th>2676</th>\n",
       "      <td>2022-01-14</td>\n",
       "      <td>43099.699219</td>\n",
       "      <td>43346.687500</td>\n",
       "      <td>41982.617188</td>\n",
       "      <td>42598.871094</td>\n",
       "      <td>23577403399</td>\n",
       "    </tr>\n",
       "  </tbody>\n",
       "</table>\n",
       "<p>2677 rows × 6 columns</p>\n",
       "</div>"
      ],
      "text/plain": [
       "            Date         Close          High           Low          Open  \\\n",
       "0     2014-09-17    457.334015    468.174011    452.421997    465.864014   \n",
       "1     2014-09-18    424.440002    456.859985    413.104004    456.859985   \n",
       "2     2014-09-19    394.795990    427.834991    384.532013    424.102997   \n",
       "3     2014-09-20    408.903992    423.295990    389.882996    394.673004   \n",
       "4     2014-09-21    398.821014    412.425995    393.181000    408.084991   \n",
       "...          ...           ...           ...           ...           ...   \n",
       "2672  2022-01-10  41821.261719  42199.484375  39796.570312  41910.230469   \n",
       "2673  2022-01-11  42735.855469  43001.156250  41407.753906  41819.507812   \n",
       "2674  2022-01-12  43949.101562  44135.367188  42528.988281  42742.179688   \n",
       "2675  2022-01-13  42591.570312  44278.421875  42447.042969  43946.742188   \n",
       "2676  2022-01-14  43099.699219  43346.687500  41982.617188  42598.871094   \n",
       "\n",
       "           Volume  \n",
       "0        21056800  \n",
       "1        34483200  \n",
       "2        37919700  \n",
       "3        36863600  \n",
       "4        26580100  \n",
       "...           ...  \n",
       "2672  32104232331  \n",
       "2673  26327648900  \n",
       "2674  33499938689  \n",
       "2675  47691135082  \n",
       "2676  23577403399  \n",
       "\n",
       "[2677 rows x 6 columns]"
      ]
     },
     "execution_count": 7,
     "metadata": {},
     "output_type": "execute_result"
    }
   ],
   "source": [
    "pd.read_csv(\"BTC-USD.csv\")"
   ]
  },
  {
   "cell_type": "markdown",
   "id": "0b74f6d5",
   "metadata": {},
   "source": [
    "# Continuing article's work"
   ]
  },
  {
   "cell_type": "code",
   "execution_count": 8,
   "id": "4b1a7e95",
   "metadata": {},
   "outputs": [
    {
     "data": {
      "text/html": [
       "<div>\n",
       "<style scoped>\n",
       "    .dataframe tbody tr th:only-of-type {\n",
       "        vertical-align: middle;\n",
       "    }\n",
       "\n",
       "    .dataframe tbody tr th {\n",
       "        vertical-align: top;\n",
       "    }\n",
       "\n",
       "    .dataframe thead th {\n",
       "        text-align: right;\n",
       "    }\n",
       "</style>\n",
       "<table border=\"1\" class=\"dataframe\">\n",
       "  <thead>\n",
       "    <tr style=\"text-align: right;\">\n",
       "      <th></th>\n",
       "      <th>Close</th>\n",
       "      <th>High</th>\n",
       "      <th>Low</th>\n",
       "      <th>Open</th>\n",
       "      <th>Volume</th>\n",
       "    </tr>\n",
       "    <tr>\n",
       "      <th>Date</th>\n",
       "      <th></th>\n",
       "      <th></th>\n",
       "      <th></th>\n",
       "      <th></th>\n",
       "      <th></th>\n",
       "    </tr>\n",
       "  </thead>\n",
       "  <tbody>\n",
       "    <tr>\n",
       "      <th>2014-09-17</th>\n",
       "      <td>457.334015</td>\n",
       "      <td>468.174011</td>\n",
       "      <td>452.421997</td>\n",
       "      <td>465.864014</td>\n",
       "      <td>21056800</td>\n",
       "    </tr>\n",
       "    <tr>\n",
       "      <th>2014-09-18</th>\n",
       "      <td>424.440002</td>\n",
       "      <td>456.859985</td>\n",
       "      <td>413.104004</td>\n",
       "      <td>456.859985</td>\n",
       "      <td>34483200</td>\n",
       "    </tr>\n",
       "    <tr>\n",
       "      <th>2014-09-19</th>\n",
       "      <td>394.795990</td>\n",
       "      <td>427.834991</td>\n",
       "      <td>384.532013</td>\n",
       "      <td>424.102997</td>\n",
       "      <td>37919700</td>\n",
       "    </tr>\n",
       "    <tr>\n",
       "      <th>2014-09-20</th>\n",
       "      <td>408.903992</td>\n",
       "      <td>423.295990</td>\n",
       "      <td>389.882996</td>\n",
       "      <td>394.673004</td>\n",
       "      <td>36863600</td>\n",
       "    </tr>\n",
       "    <tr>\n",
       "      <th>2014-09-21</th>\n",
       "      <td>398.821014</td>\n",
       "      <td>412.425995</td>\n",
       "      <td>393.181000</td>\n",
       "      <td>408.084991</td>\n",
       "      <td>26580100</td>\n",
       "    </tr>\n",
       "  </tbody>\n",
       "</table>\n",
       "</div>"
      ],
      "text/plain": [
       "                 Close        High         Low        Open    Volume\n",
       "Date                                                                \n",
       "2014-09-17  457.334015  468.174011  452.421997  465.864014  21056800\n",
       "2014-09-18  424.440002  456.859985  413.104004  456.859985  34483200\n",
       "2014-09-19  394.795990  427.834991  384.532013  424.102997  37919700\n",
       "2014-09-20  408.903992  423.295990  389.882996  394.673004  36863600\n",
       "2014-09-21  398.821014  412.425995  393.181000  408.084991  26580100"
      ]
     },
     "execution_count": 8,
     "metadata": {},
     "output_type": "execute_result"
    }
   ],
   "source": [
    "df = pd.read_csv('BTC-USD.csv', index_col = 'Date', parse_dates=True)\n",
    "df.head(5)"
   ]
  },
  {
   "cell_type": "markdown",
   "id": "952236a6",
   "metadata": {},
   "source": [
    "Visualize your data by plotting the target variable of interest. It is recommended to regress the target variable on the predictors to look for linear relationships between variables. "
   ]
  },
  {
   "cell_type": "code",
   "execution_count": 9,
   "id": "ed7288bf",
   "metadata": {},
   "outputs": [
    {
     "data": {
      "image/png": "[encoded data removed]",
      "text/plain": [
       "<Figure size 640x480 with 1 Axes>"
      ]
     },
     "metadata": {},
     "output_type": "display_data"
    }
   ],
   "source": [
    "import matplotlib.pyplot as plt\n",
    "\n",
    "plt.plot(df.Close)\n",
    "plt.xlabel(\"Time\")\n",
    "plt.ylabel(\"Price (USD)\")\n",
    "plt.title(\"Bitcoin price over time\")\n",
    "plt.savefig(\"initial_plot.png\", dpi = 250)\n",
    "plt.show(); "
   ]
  },
  {
   "cell_type": "markdown",
   "id": "11f317a0",
   "metadata": {},
   "source": [
    "# Seeing inputs and outputs\n",
    "\n",
    "Our predictors consist of all the columns except the target, in this case the closing price. We can use the <code>sklearn</code> processor to reshape the array if it consists of a single feature, as our target does. Therefore, for target, <code>y</code>, we call <code>values</code>. This removes the axis labels to enable us to reshape the array. "
   ]
  },
  {
   "cell_type": "code",
   "execution_count": 10,
   "id": "5c71b3e9",
   "metadata": {},
   "outputs": [
    {
     "data": {
      "text/plain": [
       "((2677, 4), (2677,))"
      ]
     },
     "execution_count": 10,
     "metadata": {},
     "output_type": "execute_result"
    }
   ],
   "source": [
    "X, y = df.drop(columns=['Close']), df.Close.values\n",
    "X.shape, y.shape"
   ]
  },
  {
   "cell_type": "markdown",
   "id": "0c099b39",
   "metadata": {},
   "source": [
    "Now, we can standardize the features. We'll use standardization for our training features, <code>x</code> by removing the mean and scaling to unit variance. \n",
    "\n",
    "Standardization enables the model to learn by ensuring that parameters can exist in the same multi-dimensional space. It wouldn't make much sense to have the weights have to change their size simply because the variables are on different scales. For our target <code>y</code>, we will scale and translate each feature individually between 0 and 1. This transformation is often used as an alternative to zero mean, unit variance, scaling. "
   ]
  },
  {
   "cell_type": "code",
   "execution_count": 11,
   "id": "654e01d9",
   "metadata": {},
   "outputs": [],
   "source": [
    "from sklearn.preprocessing import StandardScaler, MinMaxScaler\n",
    "\n",
    "mm = MinMaxScaler()\n",
    "ss = StandardScaler()\n",
    "\n",
    "X_trans = ss.fit_transform(X)\n",
    "y_trans = mm.fit_transform(y.reshape(-1,1))"
   ]
  },
  {
   "cell_type": "markdown",
   "id": "57be43ce",
   "metadata": {},
   "source": [
    "This is the \"fiddly\" part. We want to feed 100 samples, up to the current day, and predict the next 50 time step values. To do this, we need a special function to ensure that the corresponding indices of <code>X</code> and y represent this structure. Examine this function carefully but it just boils down to getting 100 samples from <code>X</code>, then looking at the next 50 indices in y and pathing these together. Note that because of this we'll throw out the first 50 values of <code>y</code>."
   ]
  },
  {
   "cell_type": "code",
   "execution_count": 12,
   "id": "b9e78f40",
   "metadata": {},
   "outputs": [
    {
     "name": "stdout",
     "output_type": "stream",
     "text": [
      "(2529, 100, 4) (2529, 50)\n"
     ]
    }
   ],
   "source": [
    "import numpy as np \n",
    "\n",
    "def split_sequences(input_sequences, output_sequence, n_steps_in, n_steps_out):\n",
    "    X, y = list(), list()\n",
    "    for i in range(len(input_sequences)):\n",
    "        # find the end of the input, output sequence\n",
    "        end_ix = i + n_steps_in\n",
    "        out_end_ix = end_ix + n_steps_out - 1\n",
    "\n",
    "        # check if we are beyond the dataset\n",
    "        if out_end_ix > len(input_sequences): break\n",
    "\n",
    "        # gather input and output of the pattern \n",
    "        seq_x, seq_y = input_sequences[i:end_ix], output_sequence[end_ix-1:out_end_ix, -1]\n",
    "        X.append(seq_x), y.append(seq_y)\n",
    "    return np.array(X), np.array(y)\n",
    "\n",
    "X_ss, y_mm = split_sequences(X_trans, y_trans, 100, 50)\n",
    "print(X_ss.shape, y_mm.shape)\n"
   ]
  },
  {
   "cell_type": "markdown",
   "id": "43a1a927",
   "metadata": {},
   "source": [
    "Let's check if the first sample in <code>y_mm</code> starts at the 100th sample in the original <code>y</code> vector"
   ]
  },
  {
   "cell_type": "code",
   "execution_count": 13,
   "id": "4bc6e04e",
   "metadata": {},
   "outputs": [],
   "source": [
    "assert y_mm[0].all() == y_trans[99:149].squeeze(1).all()"
   ]
  },
  {
   "cell_type": "code",
   "execution_count": 14,
   "id": "30e31d93",
   "metadata": {},
   "outputs": [
    {
     "data": {
      "text/plain": [
       "array([0.00209093, 0.00222324, 0.00204426, 0.00206468, 0.00199688,\n",
       "       0.00196819, 0.00210851, 0.00202031, 0.00203193, 0.00152813,\n",
       "       0.00127754, 0.00143008, 0.00160392, 0.00172483, 0.00156177,\n",
       "       0.00166652, 0.00143485, 0.00129928, 0.00133098, 0.00070869,\n",
       "       0.        , 0.00047101, 0.00044509, 0.00031395, 0.00047836,\n",
       "       0.00054546, 0.00049284, 0.00072407, 0.00082066, 0.00081284,\n",
       "       0.00103495, 0.00112207, 0.00141522, 0.00126686, 0.00082821,\n",
       "       0.00082224, 0.00071706, 0.00058409, 0.00072518, 0.00089223,\n",
       "       0.00072957, 0.00072341, 0.00057885, 0.00065535, 0.00073678,\n",
       "       0.00067235, 0.00062335, 0.00061933, 0.00060963, 0.0006479 ])"
      ]
     },
     "execution_count": 14,
     "metadata": {},
     "output_type": "execute_result"
    }
   ],
   "source": [
    "y_mm[0]"
   ]
  },
  {
   "cell_type": "code",
   "execution_count": 15,
   "id": "b8613e62",
   "metadata": {},
   "outputs": [
    {
     "data": {
      "text/plain": [
       "array([0.00209093, 0.00222324, 0.00204426, 0.00206468, 0.00199688,\n",
       "       0.00196819, 0.00210851, 0.00202031, 0.00203193, 0.00152813,\n",
       "       0.00127754, 0.00143008, 0.00160392, 0.00172483, 0.00156177,\n",
       "       0.00166652, 0.00143485, 0.00129928, 0.00133098, 0.00070869,\n",
       "       0.        , 0.00047101, 0.00044509, 0.00031395, 0.00047836,\n",
       "       0.00054546, 0.00049284, 0.00072407, 0.00082066, 0.00081284,\n",
       "       0.00103495, 0.00112207, 0.00141522, 0.00126686, 0.00082821,\n",
       "       0.00082224, 0.00071706, 0.00058409, 0.00072518, 0.00089223,\n",
       "       0.00072957, 0.00072341, 0.00057885, 0.00065535, 0.00073678,\n",
       "       0.00067235, 0.00062335, 0.00061933, 0.00060963, 0.0006479 ])"
      ]
     },
     "execution_count": 15,
     "metadata": {},
     "output_type": "execute_result"
    }
   ],
   "source": [
    "y_trans[99:149].squeeze(1)"
   ]
  },
  {
   "cell_type": "markdown",
   "id": "de9dd364",
   "metadata": {},
   "source": [
    "We want to predict the data several months into the future, therefore we can use a training data size of 95% with 5% left for the remaining data for prediction. This gives us a training set of 2763 day (or 7.5 years) and predicting 145 days into the future (5 months). "
   ]
  },
  {
   "cell_type": "code",
   "execution_count": 16,
   "id": "4537624a",
   "metadata": {},
   "outputs": [],
   "source": [
    "total_samples = len(X)\n",
    "train_test_cutoff = round(0.90 * total_samples)"
   ]
  },
  {
   "cell_type": "code",
   "execution_count": 17,
   "id": "0edc5a26",
   "metadata": {},
   "outputs": [],
   "source": [
    "X_train = X_ss[:-150]\n",
    "X_test = X_ss[-150:]"
   ]
  },
  {
   "cell_type": "code",
   "execution_count": 18,
   "id": "e3d07249",
   "metadata": {},
   "outputs": [],
   "source": [
    "y_train = y_mm[:-150]\n",
    "y_test = y_mm[-150:]"
   ]
  },
  {
   "cell_type": "code",
   "execution_count": 19,
   "id": "d2c5f354",
   "metadata": {},
   "outputs": [
    {
     "name": "stdout",
     "output_type": "stream",
     "text": [
      "Training Shape: (2379, 100, 4) (2379, 50)\n",
      "Testing Shape: (150, 100, 4) (150, 50)\n"
     ]
    }
   ],
   "source": [
    "print(\"Training Shape:\", X_train.shape, y_train.shape)\n",
    "print(\"Testing Shape:\", X_test.shape, y_test.shape)"
   ]
  },
  {
   "cell_type": "markdown",
   "id": "5440df4d",
   "metadata": {},
   "source": [
    "Now we convert our data into tensors by calling <code>torch.tensor()</code> on our object, and setting the property <code>requires_grad = True</code>. Some old PyTorch tutorials might indicate that we need to apply <code>Variable</code> on here but this is deprecated. Now the input tensor to be forward propagated has to be can faciliate automatic back propagation through <code> backward()</code> without being wrapped."
   ]
  },
  {
   "cell_type": "code",
   "execution_count": 20,
   "id": "034616db",
   "metadata": {},
   "outputs": [],
   "source": [
    "import torch \n",
    "\n",
    "# convert to pytorch tensors \n",
    "X_train_tensors = torch.Tensor(X_train)\n",
    "X_test_tensors = torch.Tensor(X_test)\n",
    "\n",
    "y_train_tensors = torch.Tensor(y_train)\n",
    "y_test_tensors = torch.Tensor(y_test)"
   ]
  },
  {
   "cell_type": "markdown",
   "id": "e06cb075",
   "metadata": {
    "vscode": {
     "languageId": "bat"
    }
   },
   "source": [
    "Looking through the documentation for a multi-layer <code>torch.nn.LSTM</code> shows that the input shape depends on whether the parameter <code>batch_first</code> is true. Since we are accustomed to having the first dimension be the batch, we can set <code>batch_first</code> to true. The size of the input is then <code>(N, L, H_in)</code> where\n",
    "\n",
    "- N is the batch size \n",
    "- L is the sequence length\n",
    "- H_in is the input size (number of features)\n",
    "\n",
    "In other words, we wantt eh dimensions to be the rows of the dataframe in the first dimension. Followed by the length of the dataframe in the next dimension to represent the length of the input sequence, and finally the feature of which we have 4 in the final dimension. \n",
    "\n",
    "To reshape the tensors into our required shape we can use <code>torch.reshape</code>. This takes as arguments the tensors we are reshaping, and then a tuple of the shape we need to reshape to. For the rows of the dataframe, we can simply look at the shape of the first dimension <code>X_train_tensors.shape[0]</code>. Since we are applying an LSTM, we call tha tthe sequence length we feed in is simply 1 because the whole point of the LSTM is not feeding in tons of data at each because the emory is handled by the inner working of the LSTM cell. \n",
    "\n",
    "The last dimension is the number of features which is stored in the <code>X_train_tensors.shape[1]</code>. "
   ]
  },
  {
   "cell_type": "code",
   "execution_count": 21,
   "id": "f1f58cc0",
   "metadata": {},
   "outputs": [
    {
     "name": "stdout",
     "output_type": "stream",
     "text": [
      "Training shape: torch.Size([2379, 100, 4]) torch.Size([2379, 50])\n",
      "Testing shape: torch.Size([150, 100, 4]) torch.Size([150, 50])\n"
     ]
    }
   ],
   "source": [
    "# reshape to rows, timestamps, features \n",
    "\n",
    "X_train_tensors_final = torch.reshape(X_train_tensors, \n",
    "                                      (X_train_tensors.shape[0], 100, \n",
    "                                      X_train_tensors.shape[2]))\n",
    "\n",
    "X_test_tensors_final = torch.reshape(X_test_tensors, \n",
    "                                     (X_test_tensors.shape[0], 100, \n",
    "                                      X_test_tensors.shape[2]))\n",
    "\n",
    "print(\"Training shape:\", X_train_tensors.shape, y_train_tensors.shape)\n",
    "print(\"Testing shape:\", X_test_tensors_final.shape, y_test_tensors.shape)"
   ]
  },
  {
   "cell_type": "markdown",
   "id": "3f7382d2",
   "metadata": {},
   "source": [
    "Let's make sure that the data logic of the test set checks out. Sequential data is hard to get our heads around and especially when generating a test set for multistep output models. Here, we want to take the 100 previous predictors up to the current time step and predict 50 time steps into the future. In the test set, we have 150 batch feature samples, each consisting of 100 time steps and 4 feature predictors. \n",
    "\n",
    "In the targets for the test set, we again have 150 batch samples, each consisting of an array of length 50 of scalar outputs. "
   ]
  },
  {
   "cell_type": "markdown",
   "id": "2af31754",
   "metadata": {},
   "source": [
    "Since we want a way to validate our results, we need to predict the Bitcoin price for 50 time steps in the test set for which we have the data (i.e. the test targets). Because of the way we wrote the <code> split_sequence()</code>, we just need the last sample of 100 days in <code>X_test</code>, run the model on it and compare those predictions with the last sample of the 50 days of <code>y_test</code>. These correspond to a period of 100 days in the <code>X_test</code>'s last sample, proceeded immediately by the next 50 days in the last sample of <code>y_test</code>. "
   ]
  },
  {
   "cell_type": "code",
   "execution_count": 22,
   "id": "ebab4211",
   "metadata": {},
   "outputs": [
    {
     "data": {
      "text/plain": [
       "array([[4.69707617e+04, 4.39983164e+04, 4.47418828e+04, 3.72043123e+10],\n",
       "       [4.93421523e+04, 4.66507070e+04, 4.67231211e+04, 3.47068675e+10],\n",
       "       [4.97170195e+04, 4.83121992e+04, 4.93270742e+04, 4.05852053e+10],\n",
       "       [4.94716094e+04, 4.81999414e+04, 4.88691055e+04, 2.53709754e+10]])"
      ]
     },
     "execution_count": 22,
     "metadata": {},
     "output_type": "execute_result"
    }
   ],
   "source": [
    "X_check, y_check = split_sequences(X, y.reshape(-1,1), 100, 50)\n",
    "X_check[-1][0:4]"
   ]
  },
  {
   "cell_type": "code",
   "execution_count": 23,
   "id": "98c23be1",
   "metadata": {},
   "outputs": [
    {
     "data": {
      "text/html": [
       "<div>\n",
       "<style scoped>\n",
       "    .dataframe tbody tr th:only-of-type {\n",
       "        vertical-align: middle;\n",
       "    }\n",
       "\n",
       "    .dataframe tbody tr th {\n",
       "        vertical-align: top;\n",
       "    }\n",
       "\n",
       "    .dataframe thead th {\n",
       "        text-align: right;\n",
       "    }\n",
       "</style>\n",
       "<table border=\"1\" class=\"dataframe\">\n",
       "  <thead>\n",
       "    <tr style=\"text-align: right;\">\n",
       "      <th></th>\n",
       "      <th>High</th>\n",
       "      <th>Low</th>\n",
       "      <th>Open</th>\n",
       "      <th>Volume</th>\n",
       "    </tr>\n",
       "    <tr>\n",
       "      <th>Date</th>\n",
       "      <th></th>\n",
       "      <th></th>\n",
       "      <th></th>\n",
       "      <th></th>\n",
       "    </tr>\n",
       "  </thead>\n",
       "  <tbody>\n",
       "    <tr>\n",
       "      <th>2021-08-19</th>\n",
       "      <td>46970.761719</td>\n",
       "      <td>43998.316406</td>\n",
       "      <td>44741.882812</td>\n",
       "      <td>37204312299</td>\n",
       "    </tr>\n",
       "    <tr>\n",
       "      <th>2021-08-20</th>\n",
       "      <td>49342.152344</td>\n",
       "      <td>46650.707031</td>\n",
       "      <td>46723.121094</td>\n",
       "      <td>34706867452</td>\n",
       "    </tr>\n",
       "    <tr>\n",
       "      <th>2021-08-21</th>\n",
       "      <td>49717.019531</td>\n",
       "      <td>48312.199219</td>\n",
       "      <td>49327.074219</td>\n",
       "      <td>40585205312</td>\n",
       "    </tr>\n",
       "    <tr>\n",
       "      <th>2021-08-22</th>\n",
       "      <td>49471.609375</td>\n",
       "      <td>48199.941406</td>\n",
       "      <td>48869.105469</td>\n",
       "      <td>25370975378</td>\n",
       "    </tr>\n",
       "  </tbody>\n",
       "</table>\n",
       "</div>"
      ],
      "text/plain": [
       "                    High           Low          Open       Volume\n",
       "Date                                                             \n",
       "2021-08-19  46970.761719  43998.316406  44741.882812  37204312299\n",
       "2021-08-20  49342.152344  46650.707031  46723.121094  34706867452\n",
       "2021-08-21  49717.019531  48312.199219  49327.074219  40585205312\n",
       "2021-08-22  49471.609375  48199.941406  48869.105469  25370975378"
      ]
     },
     "execution_count": 23,
     "metadata": {},
     "output_type": "execute_result"
    }
   ],
   "source": [
    "X.iloc[-149:-145]"
   ]
  },
  {
   "cell_type": "markdown",
   "id": "64414a01",
   "metadata": {},
   "source": [
    "The first four rows of the data match. Note that <code>X_check[-1]</code> should be identical to the <code>X.iloc[-149:-49]</code>, ending 50 days before the end of our dataset. Therefore, we are taking the 100 timesteps of information up to the 26th of Nov 2021, and attempting to predict the 50 days after that up to 14th January 2022. Our final check is to make sure that the final batch sample in our test targets matches these data predictions. "
   ]
  },
  {
   "cell_type": "code",
   "execution_count": 24,
   "id": "26221ef4",
   "metadata": {},
   "outputs": [
    {
     "data": {
      "text/plain": [
       "array([53569.765625  , 54815.078125  , 57248.45703125, 57806.56640625,\n",
       "       57005.42578125, 57229.828125  , 56477.81640625, 53598.24609375,\n",
       "       49200.703125  , 49368.84765625, 50582.625     , 50700.0859375 ,\n",
       "       50504.796875  , 47672.12109375, 47243.3046875 , 49362.5078125 ,\n",
       "       50098.3359375 , 46737.48046875, 46612.6328125 , 48896.72265625,\n",
       "       47665.42578125, 46202.14453125, 46848.77734375, 46707.015625  ,\n",
       "       46880.27734375, 48936.61328125, 48628.51171875, 50784.5390625 ,\n",
       "       50822.1953125 , 50429.859375  , 50809.515625  , 50640.41796875,\n",
       "       47588.85546875, 46444.7109375 , 47178.125     , 46306.4453125 ,\n",
       "       47686.8125    , 47345.21875   , 46458.1171875 , 45897.57421875,\n",
       "       43569.00390625, 43160.9296875 , 41557.90234375, 41733.94140625,\n",
       "       41911.6015625 , 41821.26171875, 42735.85546875, 43949.1015625 ,\n",
       "       42591.5703125 , 43099.69921875])"
      ]
     },
     "execution_count": 24,
     "metadata": {},
     "output_type": "execute_result"
    }
   ],
   "source": [
    "y_check[-1]"
   ]
  },
  {
   "cell_type": "code",
   "execution_count": 25,
   "id": "e1b3245d",
   "metadata": {},
   "outputs": [
    {
     "data": {
      "text/plain": [
       "array([53569.765625  , 54815.078125  , 57248.45703125, 57806.56640625,\n",
       "       57005.42578125, 57229.828125  , 56477.81640625, 53598.24609375,\n",
       "       49200.703125  , 49368.84765625, 50582.625     , 50700.0859375 ,\n",
       "       50504.796875  , 47672.12109375, 47243.3046875 , 49362.5078125 ,\n",
       "       50098.3359375 , 46737.48046875, 46612.6328125 , 48896.72265625,\n",
       "       47665.42578125, 46202.14453125, 46848.77734375, 46707.015625  ,\n",
       "       46880.27734375, 48936.61328125, 48628.51171875, 50784.5390625 ,\n",
       "       50822.1953125 , 50429.859375  , 50809.515625  , 50640.41796875,\n",
       "       47588.85546875, 46444.7109375 , 47178.125     , 46306.4453125 ,\n",
       "       47686.8125    , 47345.21875   , 46458.1171875 , 45897.57421875,\n",
       "       43569.00390625, 43160.9296875 , 41557.90234375, 41733.94140625,\n",
       "       41911.6015625 , 41821.26171875, 42735.85546875, 43949.1015625 ,\n",
       "       42591.5703125 , 43099.69921875])"
      ]
     },
     "execution_count": 25,
     "metadata": {},
     "output_type": "execute_result"
    }
   ],
   "source": [
    "df.Close.values[-50:]"
   ]
  },
  {
   "cell_type": "markdown",
   "id": "5815ef9c",
   "metadata": {},
   "source": [
    "Summary: The main performance test for our model will be on the last batch sample in the test set. This will be predictors rom the 100 time steps up to the 26th of Nov 2021 and this will be used by our model to predict the next 50 days of Bitcoin prices up to the 14th of Jan 2022. In this way, we validate model performance by comparing predcitions to the actual prices in that 50 day window. "
   ]
  },
  {
   "cell_type": "markdown",
   "id": "9be8b75c",
   "metadata": {},
   "source": [
    "# Constructing the LSTM model"
   ]
  },
  {
   "cell_type": "markdown",
   "id": "51d94ac2",
   "metadata": {},
   "source": [
    "Now, let's construct the LSTM class, inheriting from the nn.Module. In constract to the previous univariate LSTM, we're going to build the model with the nn.LSTM rather than nn.LSTMCell because it's good to understand both options and we dont really need the nn.LSTMCell flexibility right now. We know that nn.LSTM is a recurrent application of the nn.LSTMCell. "
   ]
  },
  {
   "cell_type": "code",
   "execution_count": 26,
   "id": "d06c2f6c",
   "metadata": {},
   "outputs": [],
   "source": [
    "import torch.nn as nn\n",
    "\n",
    "class LSTM(nn.Module): \n",
    "    def __init__(self, num_classes, input_size, hidden_size, num_layers): \n",
    "        super().__init__()\n",
    "        self.num_classes = num_classes # output size \n",
    "        self.num_layers = num_layers # number of recurrent layers in the LSTM \n",
    "        self.input_size = input_size # input size\n",
    "        self.hidden_size = hidden_size # neurons in each lstm later\n",
    "\n",
    "        # LSTM model \n",
    "        self.lstm = nn.LSTM(input_size=input_size, hidden_size=hidden_size, num_layers=num_layers, batch_first=True, dropout=0.2)\n",
    "        self.fc1 = nn.Linear(hidden_size, 128) # fully connected \n",
    "        self.fc2 = nn.Linear(128, num_classes) # last FC\n",
    "        self.relu = nn.ReLU()\n",
    "\n",
    "    def forward(self, x): \n",
    "        # hidden state\n",
    "        h_0 = torch.zeros(self.num_layers, x.size(0), self.hidden_size)\n",
    "        # cell state\n",
    "        c_0 = torch.zeros(self.num_layers, x.size(0), self.hidden_size)\n",
    "        # propgagate input through LSTM\n",
    "        output, (hn, cn) =self.lstm(x, (h_0, c_0)) # (input, hidden and internal state)\n",
    "        hn = hn.view(-1, self.hidden_size) # reshape data for Dense layer \n",
    "        out = self.relu(hn)\n",
    "        out = self.fc1(out)\n",
    "        out = self.relu(out)\n",
    "        out = self.fc2(out)\n",
    "        return out"
   ]
  },
  {
   "cell_type": "markdown",
   "id": "1044e312",
   "metadata": {},
   "source": [
    "In the initializations, we start with the parent class, nn.Module. Most initializations in PyTorch are separated into two chunks: \n",
    "\n",
    "- Any wariables that the class will need for reference, for things such as the hidden layer size, input size, and number of layers\n",
    "- Defining the layers of the model without connecting them using the variables instatiated above \n",
    "\n",
    "Frist we need to shape the LSTM with input size, hidden size and number of recurrent layers. For instance num_layers=2 means stacking 2 LSTMs together to form a stacked LSTM with the second LSTM taking in outputs of the first LSTM and computing the final results. Thus we initialize these three variables in the first part of the __init__. We also need to force our model to output only 1 predicted value so we initialize the number of classes variable. \n",
    "\n",
    "In the second part of the __init__, we set out layers of our network with the first later obviously a recurrent aapplication of the LSTM cells, with the parameters specified above: \n",
    "\n",
    "<code> self.lstm = nn.LSTM(input_size=input_size, hidden_size=hidden_size, num_layers=num_layers, batch_first= True)</code>\n",
    "\n",
    "Next, we pass this to a fully connected layer which has an input of the hidden size (the size of the output from the last STM later), and outputs 128 activations. Then we pass these 128 activations to another hidden layer which accepts 128 inputs, and which we want our ouput num_classes (which in this clase would be 1). Finally we pass this activation through a non-linear function, the ReLU. \n",
    "\n",
    "<code>self.fc1 = nn.Linear(hidden_size, 128)</code>\n",
    "\n",
    "\n",
    "<code>self.fc2 = nn.Linear(128, num_classes)</code>\n",
    "\n",
    "\n",
    "<code>self.relu = nn.ReLU </code>"
   ]
  },
  {
   "cell_type": "markdown",
   "id": "d51ba428",
   "metadata": {},
   "source": [
    "# Training"
   ]
  },
  {
   "cell_type": "markdown",
   "id": "106fa0ea",
   "metadata": {},
   "source": [
    "Here we will use a typical regression loss function like the MSE."
   ]
  },
  {
   "cell_type": "code",
   "execution_count": 27,
   "id": "addac98a",
   "metadata": {},
   "outputs": [],
   "source": [
    "def training_loop(n_epochs, lstm, optimiser, loss_fn, X_train, y_train, X_test, y_test):\n",
    "    for epoch in range(n_epochs): \n",
    "        lstm.train()\n",
    "        outputs = lstm.forward(X_train) # forward pass\n",
    "        optimiser.zero_grad() # calculate the gradient by manually setting to 0 \n",
    "\n",
    "        # obtain loss function \n",
    "        loss = loss_fn(outputs, y_train)\n",
    "        loss.backward() # calculates the loss of the loss function \n",
    "        optimiser.step() # improve the loss, i.e. backprop \n",
    "\n",
    "        # test loss\n",
    "        lstm.eval()\n",
    "        test_preds = lstm(X_test)\n",
    "        test_loss = loss_fn(test_preds, y_test)\n",
    "\n",
    "        if epoch % 100 == 0: \n",
    "            print(\"Epoch: %d, train loss: %1.5f, test loss: %1.5f\" % (epoch, loss.item(), test_loss.item()))"
   ]
  },
  {
   "cell_type": "markdown",
   "id": "812b2410",
   "metadata": {},
   "source": [
    "Here, we are doing the forward through the network by passing the training tensors, which we shaped before. We then zero out the current gradients in the torch computational graph. We compare these outputs from the forward pass with the actual train targets using our loss function, and backpropagate with loss.backward() to calculate the gradients of the loss wrt to the parameters (the weights and biases). We then use this loss to update the parameters. "
   ]
  },
  {
   "cell_type": "code",
   "execution_count": 28,
   "id": "fc7ea564",
   "metadata": {},
   "outputs": [],
   "source": [
    "import warnings\n",
    "warnings.filterwarnings('ignore')\n",
    "\n",
    "n_epochs = 1000\n",
    "learning_rate = 0.001 \n",
    "\n",
    "input_size = 4 # num of features\n",
    "hidden_size = 2 # num of features in the hidden state\n",
    "num_layers = 1\n",
    "num_classes = 50 # num of output classes\n",
    "\n",
    "lstm = LSTM(num_classes, input_size, hidden_size, num_layers)"
   ]
  },
  {
   "cell_type": "code",
   "execution_count": 29,
   "id": "bd9f82a2",
   "metadata": {},
   "outputs": [],
   "source": [
    "loss_fn = torch.nn.MSELoss()\n",
    "optimiser = torch.optim.Adam(lstm.parameters(), lr = learning_rate)"
   ]
  },
  {
   "cell_type": "code",
   "execution_count": 30,
   "id": "1862b3c8",
   "metadata": {},
   "outputs": [
    {
     "name": "stdout",
     "output_type": "stream",
     "text": [
      "Epoch: 0, train loss: 0.08655, test loss: 0.59130\n",
      "Epoch: 100, train loss: 0.02374, test loss: 0.31795\n",
      "Epoch: 200, train loss: 0.01074, test loss: 0.11610\n",
      "Epoch: 300, train loss: 0.00280, test loss: 0.02506\n",
      "Epoch: 400, train loss: 0.00261, test loss: 0.02302\n",
      "Epoch: 500, train loss: 0.00244, test loss: 0.02220\n",
      "Epoch: 600, train loss: 0.00216, test loss: 0.02399\n",
      "Epoch: 700, train loss: 0.00213, test loss: 0.02286\n",
      "Epoch: 800, train loss: 0.00210, test loss: 0.02205\n",
      "Epoch: 900, train loss: 0.00207, test loss: 0.02165\n"
     ]
    }
   ],
   "source": [
    "training_loop(n_epochs=n_epochs, \n",
    "              lstm=lstm, \n",
    "              optimiser=optimiser, \n",
    "              loss_fn = loss_fn, \n",
    "              X_train=X_train_tensors_final, \n",
    "              y_train=y_train_tensors, \n",
    "              X_test=X_test_tensors_final, \n",
    "              y_test=y_test_tensors)\n"
   ]
  },
  {
   "cell_type": "markdown",
   "id": "cfea4699",
   "metadata": {},
   "source": [
    "# Prediction\n",
    "\n",
    "A key part of prediction, if the variables have been standardized, is known was we need to pass to the model. That is what do we need to standardize before passing it to hte model. We just apply the same transforms to the predictors and targets so that whatever we feed to the model is exactly what the model is seeing. It wouldnt make sense to not stardize our inpits; the model would be confused as to why they no longer have zero mean and unit variance. \n",
    "\n",
    "Let's plot the result for the full dataset"
   ]
  },
  {
   "cell_type": "code",
   "execution_count": 31,
   "id": "b8b41188",
   "metadata": {},
   "outputs": [
    {
     "data": {
      "image/png": "[encoded data removed]",
      "text/plain": [
       "<Figure size 1000x600 with 1 Axes>"
      ]
     },
     "metadata": {},
     "output_type": "display_data"
    }
   ],
   "source": [
    "df_X_ss = ss.transform(df.drop(columns=['Close'])) # old transformers \n",
    "df_y_mm = mm.transform(df.Close.values.reshape(-1,1)) # older transformers\n",
    "\n",
    "#split sequences \n",
    "df_X_ss, df_y_mm = split_sequences(df_X_ss, df_y_mm, 100, 50)\n",
    "\n",
    "# convert tensors \n",
    "df_X_ss = torch.Tensor(df_X_ss)\n",
    "df_y_mm = torch.Tensor(df_y_mm)\n",
    "\n",
    "#reshape dataset\n",
    "df_X_ss = torch.reshape(df_X_ss, (df_X_ss.shape[0], 100, df_X_ss.shape[2]))\n",
    "\n",
    "train_predict = lstm(df_X_ss)\n",
    "data_predict = train_predict.data.numpy()\n",
    "dataY_plot = df_y_mm.data.numpy()\n",
    "\n",
    "data_predict = mm.inverse_transform(data_predict)\n",
    "dataY_plot = mm.inverse_transform(dataY_plot)\n",
    "\n",
    "true, preds = [], []\n",
    "\n",
    "for i in range(len(dataY_plot)): \n",
    "    true.append(dataY_plot[i][0])\n",
    "for i in range(len(data_predict)): \n",
    "    preds.append(data_predict[i][0])\n",
    "\n",
    "plt.figure(figsize=(10,6))\n",
    "plt.axvline(x=train_test_cutoff, c='r', linestyle='--') # size of the training set\n",
    "\n",
    "plt.plot(true, label='Actual Data')\n",
    "plt.plot(preds, label='Predicted Data')\n",
    "plt.title('Time Series Prediction')\n",
    "plt.legend()\n",
    "plt.savefig(\"whole_plot.png\", dpi = 300)\n",
    "plt.show()"
   ]
  },
  {
   "cell_type": "markdown",
   "id": "caca5958",
   "metadata": {},
   "source": [
    "Although these results may seem good, it's not actually as good as it appears. This plot above, where the test data is any time step beyond the red-dashed line, seems to suggest that our moel is amazingly accurate at predicting the price of Bitcoin, a few months into the future. However, what's happening here is a form of data leakage, where information about the test targets has leaked into the test features. That is, whenever we run the model, it has access to the <code>Open</code> price for that day, which is obviously going to be extremely close to the price Bitcoin endsup at for the particular time step. When we loop over our predictions on the model, we append the first predicted value for that time-step. This means that every prediction we are plotting on here has the benefit of being the next predicted value - and not the sequence of 50 values into the future (as we set up in our problem definition). \n",
    "\n",
    "\n",
    "If we really want to see how our model is performing, we have to feed it the 100 time-steps of features before the final value in the test set and then use one model forward pass to calculate the 50 time-step prices in the test set. \n",
    "\n",
    "Recall from above that double-checked our test features in the final batch sample in the test set werre the 100 time steps up to the time-step we're attempting to predict. That is, we feed the model 100 days of information upt to 26th Nov 2021, and get it to predict 50 days of Bitcoin prices, from this day to the 14th Jan 2022. "
   ]
  },
  {
   "cell_type": "code",
   "execution_count": 32,
   "id": "9a05310e",
   "metadata": {},
   "outputs": [],
   "source": [
    "test_predict = lstm(X_test_tensors_final[-1].unsqueeze(0)) # obtains the last sample\n",
    "test_predict = test_predict.detach().numpy()\n",
    "test_predict = mm.inverse_transform(test_predict)\n",
    "test_predict = test_predict[0].tolist()"
   ]
  },
  {
   "cell_type": "code",
   "execution_count": 33,
   "id": "8393b126",
   "metadata": {},
   "outputs": [],
   "source": [
    "test_target = y_test_tensors[-1].detach().numpy()\n",
    "test_target = mm.inverse_transform(test_target.reshape(1,-1))\n",
    "test_target = test_target[0].tolist()"
   ]
  },
  {
   "cell_type": "code",
   "execution_count": 34,
   "id": "0558c254",
   "metadata": {},
   "outputs": [
    {
     "data": {
      "image/png": "[encoded data removed]",
      "text/plain": [
       "<Figure size 640x480 with 1 Axes>"
      ]
     },
     "metadata": {},
     "output_type": "display_data"
    }
   ],
   "source": [
    "plt.plot(test_target, label = \"Actual Data\")\n",
    "plt.plot(test_predict, label = \"LSTM Predictions\")\n",
    "plt.savefig(\"small_plot.png\", dpi = 300)\n",
    "plt.show();"
   ]
  },
  {
   "cell_type": "markdown",
   "id": "98e8e3d1",
   "metadata": {},
   "source": [
    "This is good. If we feed the last 100 days of information, our model successfully predicts a steady decline in the price of Bitcoin over the next 50 days. For one last plot, let's put this in perspective of the scale of the data. "
   ]
  },
  {
   "cell_type": "code",
   "execution_count": 35,
   "id": "09353f3c",
   "metadata": {},
   "outputs": [
    {
     "data": {
      "image/png": "[encoded data removed]",
      "text/plain": [
       "<Figure size 1000x600 with 1 Axes>"
      ]
     },
     "metadata": {},
     "output_type": "display_data"
    }
   ],
   "source": [
    "plt.figure(figsize=(10,6))\n",
    "a = [x for x in range(2500, len(y))]\n",
    "plt.plot(a, y[2500:], label=\"Actual Data\"); \n",
    "c = [x for x in range (len(y)-50, len(y))]\n",
    "plt.plot(c, test_predict, label = \"One-shot multi-step prediction (50 days)\")\n",
    "plt.axvline(x=len(y)-50, c='r', linestyle=\"--\")\n",
    "plt.legend()\n",
    "plt.show()"
   ]
  },
  {
   "cell_type": "markdown",
   "id": "37ce39bc",
   "metadata": {},
   "source": [
    "So, if we'd run our model on 26 Nov 2021, we would have been correct in selling off our Bitcoin. The model correctly predicts a price drop, as well as the rate at which it drops. \n",
    "\n",
    "This orange whole curve is generated without looking at ANY target data. Yes, to be fair, the model is very familiar with all the actual targets before the dashed red line. However, once we move past the training set into the test set the model has no idea what the test targets are. It has to generate its prediction  from the input feature only. "
   ]
  },
  {
   "cell_type": "markdown",
   "id": "bde103c2",
   "metadata": {},
   "source": [
    "# Conclusion\n",
    "\n",
    "Interestingly, there's no info on the internet on how to construct multi-step out put LSTM models for multi-variate time-series data."
   ]
  },
  {
   "cell_type": "markdown",
   "id": "fc05dfb4",
   "metadata": {},
   "source": []
  }
 ],
 "metadata": {
  "kernelspec": {
   "display_name": "toy_transformer",
   "language": "python",
   "name": "python3"
  },
  "language_info": {
   "codemirror_mode": {
    "name": "ipython",
    "version": 3
   },
   "file_extension": ".py",
   "mimetype": "text/x-python",
   "name": "python",
   "nbconvert_exporter": "python",
   "pygments_lexer": "ipython3",
   "version": "3.10.16"
  }
 },
 "nbformat": 4,
 "nbformat_minor": 5
}
