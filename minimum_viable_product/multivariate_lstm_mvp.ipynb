{
 "cells": [
  {
   "cell_type": "code",
   "execution_count": 1,
   "id": "5019b81e",
   "metadata": {},
   "outputs": [],
   "source": [
    "# Code based off the following tutorial: \n",
    "# https://charlieoneill.medium.com/predicting-the-price-of-bitcoin-with-multivariate-pytorch-lstms-695bc294130"
   ]
  },
  {
   "cell_type": "markdown",
   "id": "66ab6f58",
   "metadata": {},
   "source": [
    "# Introduction\n",
    "\n",
    "This is a minimum viable implementation of a learning-based clock bias prediction model. Ideally this model would run locally in a system with limited GPS accessiblity. We have historical IGS data available. \n",
    "\n",
    "Currently in progress is trying the model with many ephemeris features vs just SV name, and past clock bias values reported by IGS. This model is beneficial because IGS normally may take ~17 days to push out very exact clock bias predictions. \n",
    "\n",
    "The objective is to take in a sequence of the features (i.e. from the previous 20 days to predict the target variable (Final Clock Bias in seconds) for 20 days in the future)."
   ]
  },
  {
   "cell_type": "markdown",
   "id": "7070c10a",
   "metadata": {},
   "source": [
    "# Data Preprocessing\n",
    "\n",
    "This data is readily available from CDDIS and IGS in the form of RNX files for the satellite ephemeris data and CLK files for the final clock bias that has been processed by IGS and produced after ~17 days. \n",
    "\n",
    "Now, the original tutorial is based off financial data, and this has been completed in a different file."
   ]
  },
  {
   "cell_type": "code",
   "execution_count": 2,
   "id": "76942708",
   "metadata": {},
   "outputs": [],
   "source": [
    "import pandas as pd \n",
    "import matplotlib.pyplot as plt\n",
    "from sklearn.preprocessing import StandardScaler, MinMaxScaler\n",
    "import numpy as np \n",
    "import torch \n",
    "import torch.nn as nn\n",
    "import warnings\n",
    "from sklearn.metrics import r2_score\n",
    "from sklearn.metrics import root_mean_squared_error\n",
    "from sklearn.metrics import mean_absolute_percentage_error"
   ]
  },
  {
   "cell_type": "code",
   "execution_count": 3,
   "id": "451c16f9",
   "metadata": {},
   "outputs": [],
   "source": [
    "historical_window = 5 # [minutes]\n",
    "forward_window = 50 # [minutes]\n",
    "no_signal_gap = 25"
   ]
  },
  {
   "cell_type": "code",
   "execution_count": 4,
   "id": "5c607d66",
   "metadata": {},
   "outputs": [],
   "source": [
    "filename = \"5_resampled_1min_interval.csv\""
   ]
  },
  {
   "cell_type": "code",
   "execution_count": 5,
   "id": "4b1a7e95",
   "metadata": {},
   "outputs": [
    {
     "data": {
      "text/html": [
       "<div>\n",
       "<style scoped>\n",
       "    .dataframe tbody tr th:only-of-type {\n",
       "        vertical-align: middle;\n",
       "    }\n",
       "\n",
       "    .dataframe tbody tr th {\n",
       "        vertical-align: top;\n",
       "    }\n",
       "\n",
       "    .dataframe thead th {\n",
       "        text-align: right;\n",
       "    }\n",
       "</style>\n",
       "<table border=\"1\" class=\"dataframe\">\n",
       "  <thead>\n",
       "    <tr style=\"text-align: right;\">\n",
       "      <th></th>\n",
       "      <th>SV Name</th>\n",
       "      <th>Clock Bias (seconds)</th>\n",
       "      <th>SV Health</th>\n",
       "      <th>File</th>\n",
       "    </tr>\n",
       "    <tr>\n",
       "      <th>epoch</th>\n",
       "      <th></th>\n",
       "      <th></th>\n",
       "      <th></th>\n",
       "      <th></th>\n",
       "    </tr>\n",
       "  </thead>\n",
       "  <tbody>\n",
       "    <tr>\n",
       "      <th>2018-04-15 00:00:00</th>\n",
       "      <td>1</td>\n",
       "      <td>-0.000041</td>\n",
       "      <td>0.0</td>\n",
       "      <td>KITG00UZB_R_20181040000_01D_GN.rnx</td>\n",
       "    </tr>\n",
       "    <tr>\n",
       "      <th>2018-04-15 00:01:00</th>\n",
       "      <td>1</td>\n",
       "      <td>-0.000041</td>\n",
       "      <td>0.0</td>\n",
       "      <td>NaN</td>\n",
       "    </tr>\n",
       "    <tr>\n",
       "      <th>2018-04-15 00:02:00</th>\n",
       "      <td>1</td>\n",
       "      <td>-0.000041</td>\n",
       "      <td>0.0</td>\n",
       "      <td>NaN</td>\n",
       "    </tr>\n",
       "    <tr>\n",
       "      <th>2018-04-15 00:03:00</th>\n",
       "      <td>1</td>\n",
       "      <td>-0.000041</td>\n",
       "      <td>0.0</td>\n",
       "      <td>NaN</td>\n",
       "    </tr>\n",
       "    <tr>\n",
       "      <th>2018-04-15 00:04:00</th>\n",
       "      <td>1</td>\n",
       "      <td>-0.000041</td>\n",
       "      <td>0.0</td>\n",
       "      <td>NaN</td>\n",
       "    </tr>\n",
       "  </tbody>\n",
       "</table>\n",
       "</div>"
      ],
      "text/plain": [
       "                     SV Name  Clock Bias (seconds)  SV Health  \\\n",
       "epoch                                                           \n",
       "2018-04-15 00:00:00        1             -0.000041        0.0   \n",
       "2018-04-15 00:01:00        1             -0.000041        0.0   \n",
       "2018-04-15 00:02:00        1             -0.000041        0.0   \n",
       "2018-04-15 00:03:00        1             -0.000041        0.0   \n",
       "2018-04-15 00:04:00        1             -0.000041        0.0   \n",
       "\n",
       "                                                   File  \n",
       "epoch                                                    \n",
       "2018-04-15 00:00:00  KITG00UZB_R_20181040000_01D_GN.rnx  \n",
       "2018-04-15 00:01:00                                 NaN  \n",
       "2018-04-15 00:02:00                                 NaN  \n",
       "2018-04-15 00:03:00                                 NaN  \n",
       "2018-04-15 00:04:00                                 NaN  "
      ]
     },
     "execution_count": 5,
     "metadata": {},
     "output_type": "execute_result"
    }
   ],
   "source": [
    "df = pd.read_csv(filename, index_col = 'epoch', parse_dates=True)\n",
    "df = df[[\"SV Name\", \"Clock Bias (seconds)\", \"SV Health\", \"File\"]]\n",
    "# df = df[[\"SV Name\", \"Clock Bias (seconds)\", \"Clock Bias\", \"Clock Drift\", \"Clock Drift Rate\", \"SV Health\", \"File\"]]\n",
    "df.head(5)"
   ]
  },
  {
   "cell_type": "code",
   "execution_count": 6,
   "id": "97a95c04",
   "metadata": {},
   "outputs": [
    {
     "data": {
      "text/html": [
       "<div>\n",
       "<style scoped>\n",
       "    .dataframe tbody tr th:only-of-type {\n",
       "        vertical-align: middle;\n",
       "    }\n",
       "\n",
       "    .dataframe tbody tr th {\n",
       "        vertical-align: top;\n",
       "    }\n",
       "\n",
       "    .dataframe thead th {\n",
       "        text-align: right;\n",
       "    }\n",
       "</style>\n",
       "<table border=\"1\" class=\"dataframe\">\n",
       "  <thead>\n",
       "    <tr style=\"text-align: right;\">\n",
       "      <th></th>\n",
       "      <th>count</th>\n",
       "      <th>mean</th>\n",
       "      <th>std</th>\n",
       "      <th>min</th>\n",
       "      <th>25%</th>\n",
       "      <th>50%</th>\n",
       "      <th>75%</th>\n",
       "      <th>max</th>\n",
       "    </tr>\n",
       "  </thead>\n",
       "  <tbody>\n",
       "    <tr>\n",
       "      <th>SV Name</th>\n",
       "      <td>308191.0</td>\n",
       "      <td>16.904595</td>\n",
       "      <td>9.100347</td>\n",
       "      <td>1.000000</td>\n",
       "      <td>9.000000</td>\n",
       "      <td>17.00000</td>\n",
       "      <td>25.000000</td>\n",
       "      <td>32.000000</td>\n",
       "    </tr>\n",
       "    <tr>\n",
       "      <th>Clock Bias (seconds)</th>\n",
       "      <td>308191.0</td>\n",
       "      <td>-0.000005</td>\n",
       "      <td>0.000343</td>\n",
       "      <td>-0.000737</td>\n",
       "      <td>-0.000218</td>\n",
       "      <td>-0.00001</td>\n",
       "      <td>0.000205</td>\n",
       "      <td>0.000708</td>\n",
       "    </tr>\n",
       "    <tr>\n",
       "      <th>SV Health</th>\n",
       "      <td>308191.0</td>\n",
       "      <td>0.000000</td>\n",
       "      <td>0.000000</td>\n",
       "      <td>0.000000</td>\n",
       "      <td>0.000000</td>\n",
       "      <td>0.00000</td>\n",
       "      <td>0.000000</td>\n",
       "      <td>0.000000</td>\n",
       "    </tr>\n",
       "  </tbody>\n",
       "</table>\n",
       "</div>"
      ],
      "text/plain": [
       "                         count       mean       std       min       25%  \\\n",
       "SV Name               308191.0  16.904595  9.100347  1.000000  9.000000   \n",
       "Clock Bias (seconds)  308191.0  -0.000005  0.000343 -0.000737 -0.000218   \n",
       "SV Health             308191.0   0.000000  0.000000  0.000000  0.000000   \n",
       "\n",
       "                           50%        75%        max  \n",
       "SV Name               17.00000  25.000000  32.000000  \n",
       "Clock Bias (seconds)  -0.00001   0.000205   0.000708  \n",
       "SV Health              0.00000   0.000000   0.000000  "
      ]
     },
     "execution_count": 6,
     "metadata": {},
     "output_type": "execute_result"
    }
   ],
   "source": [
    "df.describe().T"
   ]
  },
  {
   "cell_type": "code",
   "execution_count": 7,
   "id": "ed7288bf",
   "metadata": {},
   "outputs": [
    {
     "data": {
      "image/png": "[encoded data removed]",
      "text/plain": [
       "<Figure size 640x480 with 1 Axes>"
      ]
     },
     "metadata": {},
     "output_type": "display_data"
    }
   ],
   "source": [
    "plt.plot(df[(df[\"SV Name\"] == 1)][\"Clock Bias (seconds)\"])\n",
    "plt.xlabel(\"Time\")\n",
    "plt.ylabel(\"Clock Bias (seconds)\")\n",
    "plt.xticks(rotation=90)\n",
    "plt.title(\"Clock Bias for SV1 over time\")\n",
    "plt.savefig(\"sv1_clock_bias_plot.png\", dpi = 250)\n",
    "plt.show(); "
   ]
  },
  {
   "cell_type": "code",
   "execution_count": 8,
   "id": "5c71b3e9",
   "metadata": {},
   "outputs": [
    {
     "data": {
      "text/plain": [
       "((308191, 3), (308191,))"
      ]
     },
     "execution_count": 8,
     "metadata": {},
     "output_type": "execute_result"
    }
   ],
   "source": [
    "X, y = df.drop(columns=['File']), df['Clock Bias (seconds)'] # in this case, it would be useful to have col names without spaces \n",
    "X.shape, y.shape"
   ]
  },
  {
   "cell_type": "code",
   "execution_count": 9,
   "id": "654e01d9",
   "metadata": {},
   "outputs": [],
   "source": [
    "mm = MinMaxScaler()\n",
    "ss = StandardScaler()\n",
    "\n",
    "X_trans = ss.fit_transform(X)\n",
    "# y_trans = mm.fit_transform(y.reshape(-1,1)) # reshape has been deprecated https://stackoverflow.com/questions/53723928/attributeerror-series-object-has-no-attribute-reshape \n",
    "y_trans = mm.fit_transform(y.values.reshape(-1,1))"
   ]
  },
  {
   "cell_type": "code",
   "execution_count": 10,
   "id": "b9e78f40",
   "metadata": {},
   "outputs": [
    {
     "name": "stdout",
     "output_type": "stream",
     "text": [
      "(308112, 5, 3) (308112, 50)\n"
     ]
    }
   ],
   "source": [
    "def split_sequences(input_sequences, output_sequence, n_steps_in, n_steps_out):\n",
    "    X, y = list(), list()\n",
    "    for i in range(len(input_sequences)):\n",
    "        # find the end of the input, output sequence\n",
    "        end_ix = i + n_steps_in\n",
    "        # out_end_ix = end_ix + n_steps_out - 1\n",
    "        gap_start_ix = end_ix + no_signal_gap\n",
    "        out_end_ix = gap_start_ix + n_steps_out\n",
    "\n",
    "        # check if we are beyond the dataset\n",
    "        if out_end_ix > len(input_sequences): break\n",
    "\n",
    "        # gather input and output of the pattern \n",
    "        seq_x, seq_y = input_sequences[i:end_ix], output_sequence[end_ix + no_signal_gap:out_end_ix, -1]\n",
    "        # seq_x, seq_y = input_sequences[i:end_ix], output_sequence[end_ix:out_end_ix, -1]\n",
    "        X.append(seq_x), y.append(seq_y)\n",
    "    return np.array(X), np.array(y)\n",
    "\n",
    "X_ss, y_mm = split_sequences(X_trans, y_trans, historical_window, forward_window)\n",
    "print(X_ss.shape, y_mm.shape)\n"
   ]
  },
  {
   "cell_type": "code",
   "execution_count": 11,
   "id": "49d25b66",
   "metadata": {},
   "outputs": [],
   "source": [
    "def add_regression_noise(y, std=0.1): \n",
    "    noise = np.random.normal(0, std, size=y.shape)\n",
    "    return y + noise"
   ]
  },
  {
   "cell_type": "markdown",
   "id": "43a1a927",
   "metadata": {},
   "source": [
    "Let's check if the first sample in <code>y_mm</code> starts at the 100th sample in the original <code>y</code> vector"
   ]
  },
  {
   "cell_type": "code",
   "execution_count": 12,
   "id": "4bc6e04e",
   "metadata": {},
   "outputs": [],
   "source": [
    "assert y_mm[0].all() == y_trans[99:149].squeeze(1).all()"
   ]
  },
  {
   "cell_type": "code",
   "execution_count": 13,
   "id": "30e31d93",
   "metadata": {},
   "outputs": [
    {
     "data": {
      "text/plain": [
       "array([0.48182585, 0.48182574, 0.48182564, 0.48182553, 0.48182542,\n",
       "       0.48182532, 0.48182521, 0.4818251 , 0.48182499, 0.48182489,\n",
       "       0.48182478, 0.48182467, 0.48182457, 0.48182446, 0.48182435,\n",
       "       0.48182425, 0.48182414, 0.48182403, 0.48182392, 0.48182382,\n",
       "       0.48182371, 0.4818236 , 0.4818235 , 0.48182339, 0.48182328,\n",
       "       0.48182318, 0.48182307, 0.48182296, 0.48182286, 0.48182275,\n",
       "       0.48182264, 0.48182253, 0.48182243, 0.48182232, 0.48182221,\n",
       "       0.48182211, 0.481822  , 0.48182189, 0.48182179, 0.48182168,\n",
       "       0.48182157, 0.48182146, 0.48182136, 0.48182125, 0.48182114,\n",
       "       0.48182104, 0.48182093, 0.48182082, 0.48182072, 0.48182061])"
      ]
     },
     "execution_count": 13,
     "metadata": {},
     "output_type": "execute_result"
    }
   ],
   "source": [
    "y_mm[0]"
   ]
  },
  {
   "cell_type": "code",
   "execution_count": 14,
   "id": "b8613e62",
   "metadata": {},
   "outputs": [
    {
     "data": {
      "text/plain": [
       "array([0.48181847, 0.48181836, 0.48181826, 0.48181815, 0.48181804,\n",
       "       0.48181794, 0.48181783, 0.48181772, 0.48181761, 0.48181751,\n",
       "       0.4818174 , 0.48181729, 0.48181719, 0.48181708, 0.48181697,\n",
       "       0.48181687, 0.48181676, 0.48181665, 0.48181655, 0.48181644,\n",
       "       0.48181633, 0.48181622, 0.48181612, 0.48181601, 0.4818159 ,\n",
       "       0.48181579, 0.48181568, 0.48181558, 0.48181547, 0.48181536,\n",
       "       0.48181525, 0.48181514, 0.48181503, 0.48181493, 0.48181482,\n",
       "       0.48181471, 0.4818146 , 0.48181449, 0.48181439, 0.48181428,\n",
       "       0.48181417, 0.48181406, 0.48181395, 0.48181384, 0.48181374,\n",
       "       0.48181363, 0.48181352, 0.48181341, 0.4818133 , 0.4818132 ])"
      ]
     },
     "execution_count": 14,
     "metadata": {},
     "output_type": "execute_result"
    }
   ],
   "source": [
    "y_trans[99:149].squeeze(1)"
   ]
  },
  {
   "cell_type": "markdown",
   "id": "de9dd364",
   "metadata": {},
   "source": [
    "We want to predict the data several months into the future, therefore we can use a training data size of 95% with 5% left for the remaining data for prediction. This gives us a training set of 2763 day (or 7.5 years) and predicting 145 days into the future (5 months). "
   ]
  },
  {
   "cell_type": "code",
   "execution_count": 15,
   "id": "4537624a",
   "metadata": {},
   "outputs": [],
   "source": [
    "total_samples = len(X)\n",
    "train_test_cutoff = round(0.10 * total_samples)"
   ]
  },
  {
   "cell_type": "code",
   "execution_count": 16,
   "id": "0edc5a26",
   "metadata": {},
   "outputs": [],
   "source": [
    "X_train = X_ss[:-train_test_cutoff]\n",
    "X_test = X_ss[-train_test_cutoff:]"
   ]
  },
  {
   "cell_type": "code",
   "execution_count": 17,
   "id": "e3d07249",
   "metadata": {},
   "outputs": [],
   "source": [
    "y_train = y_mm[:-train_test_cutoff]\n",
    "y_train = add_regression_noise(y_train)\n",
    "y_test = y_mm[-train_test_cutoff:]"
   ]
  },
  {
   "cell_type": "code",
   "execution_count": 18,
   "id": "51b96aad",
   "metadata": {},
   "outputs": [
    {
     "data": {
      "text/plain": [
       "30819"
      ]
     },
     "execution_count": 18,
     "metadata": {},
     "output_type": "execute_result"
    }
   ],
   "source": [
    "train_test_cutoff"
   ]
  },
  {
   "cell_type": "code",
   "execution_count": 19,
   "id": "d2c5f354",
   "metadata": {},
   "outputs": [
    {
     "name": "stdout",
     "output_type": "stream",
     "text": [
      "Training Shape: (277293, 5, 3) (277293, 50)\n",
      "Testing Shape: (30819, 5, 3) (30819, 50)\n"
     ]
    }
   ],
   "source": [
    "print(\"Training Shape:\", X_train.shape, y_train.shape)\n",
    "print(\"Testing Shape:\", X_test.shape, y_test.shape)"
   ]
  },
  {
   "cell_type": "markdown",
   "id": "5440df4d",
   "metadata": {},
   "source": [
    "Now we convert our data into tensors by calling <code>torch.tensor()</code> on our object, and setting the property <code>requires_grad = True</code>. Some old PyTorch tutorials might indicate that we need to apply <code>Variable</code> on here but this is deprecated. Now the input tensor to be forward propagated has to be can faciliate automatic back propagation through <code> backward()</code> without being wrapped."
   ]
  },
  {
   "cell_type": "code",
   "execution_count": 20,
   "id": "034616db",
   "metadata": {},
   "outputs": [],
   "source": [
    "# convert to pytorch tensors \n",
    "X_train_tensors = torch.Tensor(X_train)\n",
    "X_test_tensors = torch.Tensor(X_test)\n",
    "\n",
    "y_train_tensors = torch.Tensor(y_train)\n",
    "y_test_tensors = torch.Tensor(y_test)"
   ]
  },
  {
   "cell_type": "markdown",
   "id": "e06cb075",
   "metadata": {
    "vscode": {
     "languageId": "bat"
    }
   },
   "source": [
    "Looking through the documentation for a multi-layer <code>torch.nn.LSTM</code> shows that the input shape depends on whether the parameter <code>batch_first</code> is true. Since we are accustomed to having the first dimension be the batch, we can set <code>batch_first</code> to true. The size of the input is then <code>(N, L, H_in)</code> where\n",
    "\n",
    "- N is the batch size \n",
    "- L is the sequence length\n",
    "- H_in is the input size (number of features)\n",
    "\n",
    "In other words, we wantt eh dimensions to be the rows of the dataframe in the first dimension. Followed by the length of the dataframe in the next dimension to represent the length of the input sequence, and finally the feature of which we have 4 in the final dimension. \n",
    "\n",
    "To reshape the tensors into our required shape we can use <code>torch.reshape</code>. This takes as arguments the tensors we are reshaping, and then a tuple of the shape we need to reshape to. For the rows of the dataframe, we can simply look at the shape of the first dimension <code>X_train_tensors.shape[0]</code>. Since we are applying an LSTM, we call tha tthe sequence length we feed in is simply 1 because the whole point of the LSTM is not feeding in tons of data at each because the emory is handled by the inner working of the LSTM cell. \n",
    "\n",
    "The last dimension is the number of features which is stored in the <code>X_train_tensors.shape[1]</code>. "
   ]
  },
  {
   "cell_type": "code",
   "execution_count": 21,
   "id": "f1f58cc0",
   "metadata": {},
   "outputs": [
    {
     "name": "stdout",
     "output_type": "stream",
     "text": [
      "Training shape: torch.Size([277293, 5, 3]) torch.Size([277293, 50])\n",
      "Testing shape: torch.Size([30819, 5, 3]) torch.Size([30819, 50])\n"
     ]
    }
   ],
   "source": [
    "# reshape to rows, timestamps, features \n",
    "\n",
    "X_train_tensors_final = torch.reshape(X_train_tensors, \n",
    "                                      (X_train_tensors.shape[0], historical_window, \n",
    "                                      X_train_tensors.shape[2]))\n",
    "\n",
    "X_test_tensors_final = torch.reshape(X_test_tensors, \n",
    "                                     (X_test_tensors.shape[0], historical_window, \n",
    "                                      X_test_tensors.shape[2]))\n",
    "\n",
    "print(\"Training shape:\", X_train_tensors.shape, y_train_tensors.shape)\n",
    "print(\"Testing shape:\", X_test_tensors_final.shape, y_test_tensors.shape)"
   ]
  },
  {
   "cell_type": "markdown",
   "id": "3f7382d2",
   "metadata": {},
   "source": [
    "Let's make sure that the data logic of the test set checks out. Sequential data is hard to get our heads around and especially when generating a test set for multistep output models. Here, we want to take the 100 previous predictors up to the current time step and predict 50 time steps into the future. In the test set, we have 150 batch feature samples, each consisting of 100 time steps and 4 feature predictors. \n",
    "\n",
    "In the targets for the test set, we again have 150 batch samples, each consisting of an array of length 50 of scalar outputs. "
   ]
  },
  {
   "cell_type": "markdown",
   "id": "2af31754",
   "metadata": {},
   "source": [
    "Since we want a way to validate our results, we need to predict the Bitcoin price for 50 time steps in the test set for which we have the data (i.e. the test targets). Because of the way we wrote the <code> split_sequence()</code>, we just need the last sample of 100 days in <code>X_test</code>, run the model on it and compare those predictions with the last sample of the 50 days of <code>y_test</code>. These correspond to a period of 100 days in the <code>X_test</code>'s last sample, proceeded immediately by the next 50 days in the last sample of <code>y_test</code>. "
   ]
  },
  {
   "cell_type": "code",
   "execution_count": 22,
   "id": "ebab4211",
   "metadata": {},
   "outputs": [
    {
     "data": {
      "text/plain": [
       "array([[ 3.20000000e+01, -5.18309721e-04,  0.00000000e+00],\n",
       "       [ 3.20000000e+01, -5.18309483e-04,  0.00000000e+00],\n",
       "       [ 3.20000000e+01, -5.18309246e-04,  0.00000000e+00],\n",
       "       [ 3.20000000e+01, -5.18309009e-04,  0.00000000e+00]])"
      ]
     },
     "execution_count": 22,
     "metadata": {},
     "output_type": "execute_result"
    }
   ],
   "source": [
    "X_check, y_check = split_sequences(X, y.values.reshape(-1,1), historical_window, forward_window) # see above - just doing y.reshape is deprecated\n",
    "X_check[-1][0:4]"
   ]
  },
  {
   "cell_type": "code",
   "execution_count": 23,
   "id": "98c23be1",
   "metadata": {},
   "outputs": [
    {
     "data": {
      "text/html": [
       "<div>\n",
       "<style scoped>\n",
       "    .dataframe tbody tr th:only-of-type {\n",
       "        vertical-align: middle;\n",
       "    }\n",
       "\n",
       "    .dataframe tbody tr th {\n",
       "        vertical-align: top;\n",
       "    }\n",
       "\n",
       "    .dataframe thead th {\n",
       "        text-align: right;\n",
       "    }\n",
       "</style>\n",
       "<table border=\"1\" class=\"dataframe\">\n",
       "  <thead>\n",
       "    <tr style=\"text-align: right;\">\n",
       "      <th></th>\n",
       "      <th>SV Name</th>\n",
       "      <th>Clock Bias (seconds)</th>\n",
       "      <th>SV Health</th>\n",
       "    </tr>\n",
       "    <tr>\n",
       "      <th>epoch</th>\n",
       "      <th></th>\n",
       "      <th></th>\n",
       "      <th></th>\n",
       "    </tr>\n",
       "  </thead>\n",
       "  <tbody>\n",
       "    <tr>\n",
       "      <th>2018-04-21 19:32:00</th>\n",
       "      <td>32</td>\n",
       "      <td>-0.000518</td>\n",
       "      <td>0.0</td>\n",
       "    </tr>\n",
       "    <tr>\n",
       "      <th>2018-04-21 19:33:00</th>\n",
       "      <td>32</td>\n",
       "      <td>-0.000518</td>\n",
       "      <td>0.0</td>\n",
       "    </tr>\n",
       "    <tr>\n",
       "      <th>2018-04-21 19:34:00</th>\n",
       "      <td>32</td>\n",
       "      <td>-0.000518</td>\n",
       "      <td>0.0</td>\n",
       "    </tr>\n",
       "    <tr>\n",
       "      <th>2018-04-21 19:35:00</th>\n",
       "      <td>32</td>\n",
       "      <td>-0.000518</td>\n",
       "      <td>0.0</td>\n",
       "    </tr>\n",
       "  </tbody>\n",
       "</table>\n",
       "</div>"
      ],
      "text/plain": [
       "                     SV Name  Clock Bias (seconds)  SV Health\n",
       "epoch                                                        \n",
       "2018-04-21 19:32:00       32             -0.000518        0.0\n",
       "2018-04-21 19:33:00       32             -0.000518        0.0\n",
       "2018-04-21 19:34:00       32             -0.000518        0.0\n",
       "2018-04-21 19:35:00       32             -0.000518        0.0"
      ]
     },
     "execution_count": 23,
     "metadata": {},
     "output_type": "execute_result"
    }
   ],
   "source": [
    "X.iloc[-149:-145]"
   ]
  },
  {
   "cell_type": "markdown",
   "id": "64414a01",
   "metadata": {},
   "source": [
    "The first four rows of the data match. Note that <code>X_check[-1]</code> should be identical to the <code>X.iloc[-149:-49]</code>, ending 50 days before the end of our dataset. Therefore, we are taking the 100 timesteps of information up to the 26th of Nov 2021, and attempting to predict the 50 days after that up to 14th January 2022. Our final check is to make sure that the final batch sample in our test targets matches these data predictions. "
   ]
  },
  {
   "cell_type": "code",
   "execution_count": 24,
   "id": "26221ef4",
   "metadata": {},
   "outputs": [
    {
     "data": {
      "text/plain": [
       "array([-0.0005183 , -0.0005183 , -0.0005183 , -0.0005183 , -0.0005183 ,\n",
       "       -0.0005183 , -0.0005183 , -0.0005183 , -0.0005183 , -0.0005183 ,\n",
       "       -0.0005183 , -0.0005183 , -0.0005183 , -0.0005183 , -0.0005183 ,\n",
       "       -0.0005183 , -0.0005183 , -0.0005183 , -0.0005183 , -0.0005183 ,\n",
       "       -0.0005183 , -0.0005183 , -0.0005183 , -0.0005183 , -0.0005183 ,\n",
       "       -0.0005183 , -0.0005183 , -0.0005183 , -0.0005183 , -0.0005183 ,\n",
       "       -0.0005183 , -0.0005183 , -0.0005183 , -0.00051829, -0.00051829,\n",
       "       -0.00051829, -0.00051829, -0.00051829, -0.00051829, -0.00051829,\n",
       "       -0.00051829, -0.00051829, -0.00051829, -0.00051829, -0.00051829,\n",
       "       -0.00051829, -0.00051829, -0.00051829, -0.00051829, -0.00051829])"
      ]
     },
     "execution_count": 24,
     "metadata": {},
     "output_type": "execute_result"
    }
   ],
   "source": [
    "y_check[-1]"
   ]
  },
  {
   "cell_type": "code",
   "execution_count": 25,
   "id": "e1b3245d",
   "metadata": {},
   "outputs": [
    {
     "data": {
      "text/plain": [
       "array([-0.0005183 , -0.0005183 , -0.0005183 , -0.0005183 , -0.0005183 ,\n",
       "       -0.0005183 , -0.0005183 , -0.0005183 , -0.0005183 , -0.0005183 ,\n",
       "       -0.0005183 , -0.0005183 , -0.0005183 , -0.0005183 , -0.0005183 ,\n",
       "       -0.0005183 , -0.0005183 , -0.0005183 , -0.0005183 , -0.0005183 ,\n",
       "       -0.0005183 , -0.0005183 , -0.0005183 , -0.0005183 , -0.0005183 ,\n",
       "       -0.0005183 , -0.0005183 , -0.0005183 , -0.0005183 , -0.0005183 ,\n",
       "       -0.0005183 , -0.0005183 , -0.0005183 , -0.00051829, -0.00051829,\n",
       "       -0.00051829, -0.00051829, -0.00051829, -0.00051829, -0.00051829,\n",
       "       -0.00051829, -0.00051829, -0.00051829, -0.00051829, -0.00051829,\n",
       "       -0.00051829, -0.00051829, -0.00051829, -0.00051829, -0.00051829])"
      ]
     },
     "execution_count": 25,
     "metadata": {},
     "output_type": "execute_result"
    }
   ],
   "source": [
    "df[\"Clock Bias (seconds)\"].values[-50:]"
   ]
  },
  {
   "cell_type": "markdown",
   "id": "5815ef9c",
   "metadata": {},
   "source": [
    "Summary: The main performance test for our model will be on the last batch sample in the test set. This will be predictors rom the 100 time steps up to the 26th of Nov 2021 and this will be used by our model to predict the next 50 days of Bitcoin prices up to the 14th of Jan 2022. In this way, we validate model performance by comparing predcitions to the actual prices in that 50 day window. "
   ]
  },
  {
   "cell_type": "markdown",
   "id": "9be8b75c",
   "metadata": {},
   "source": [
    "# Constructing the LSTM model"
   ]
  },
  {
   "cell_type": "markdown",
   "id": "51d94ac2",
   "metadata": {},
   "source": [
    "Now, let's construct the LSTM class, inheriting from the nn.Module. In constract to the previous univariate LSTM, we're going to build the model with the nn.LSTM rather than nn.LSTMCell because it's good to understand both options and we dont really need the nn.LSTMCell flexibility right now. We know that nn.LSTM is a recurrent application of the nn.LSTMCell. "
   ]
  },
  {
   "cell_type": "code",
   "execution_count": 26,
   "id": "d06c2f6c",
   "metadata": {},
   "outputs": [],
   "source": [
    "class LSTM(nn.Module): \n",
    "    def __init__(self, num_classes, input_size, hidden_size, num_layers): \n",
    "        super().__init__()\n",
    "        self.num_classes = num_classes # output size \n",
    "        self.num_layers = num_layers # number of recurrent layers in the LSTM \n",
    "        self.input_size = input_size # input size\n",
    "        self.hidden_size = hidden_size # neurons in each lstm later\n",
    "\n",
    "        # LSTM model \n",
    "        self.lstm = nn.LSTM(input_size=input_size, hidden_size=hidden_size, num_layers=num_layers, batch_first=True, dropout=0.2)\n",
    "        self.fc1 = nn.Linear(hidden_size, 128) # fully connected \n",
    "        self.fc2 = nn.Linear(128, num_classes) # last FC\n",
    "        self.relu = nn.ReLU()\n",
    "\n",
    "    def forward(self, x): \n",
    "        # hidden state\n",
    "        h_0 = torch.zeros(self.num_layers, x.size(0), self.hidden_size)\n",
    "        # cell state\n",
    "        c_0 = torch.zeros(self.num_layers, x.size(0), self.hidden_size)\n",
    "        # propgagate input through LSTM\n",
    "        output, (hn, cn) =self.lstm(x, (h_0, c_0)) # (input, hidden and internal state)\n",
    "        hn = hn.view(-1, self.hidden_size) # reshape data for Dense layer \n",
    "        out = self.relu(hn)\n",
    "        out = self.fc1(out)\n",
    "        out = self.relu(out)\n",
    "        out = self.fc2(out)\n",
    "        return out"
   ]
  },
  {
   "cell_type": "markdown",
   "id": "1044e312",
   "metadata": {},
   "source": [
    "In the initializations, we start with the parent class, nn.Module. Most initializations in PyTorch are separated into two chunks: \n",
    "\n",
    "- Any wariables that the class will need for reference, for things such as the hidden layer size, input size, and number of layers\n",
    "- Defining the layers of the model without connecting them using the variables instatiated above \n",
    "\n",
    "Frist we need to shape the LSTM with input size, hidden size and number of recurrent layers. For instance num_layers=2 means stacking 2 LSTMs together to form a stacked LSTM with the second LSTM taking in outputs of the first LSTM and computing the final results. Thus we initialize these three variables in the first part of the __init__. We also need to force our model to output only 1 predicted value so we initialize the number of classes variable. \n",
    "\n",
    "In the second part of the __init__, we set out layers of our network with the first later obviously a recurrent aapplication of the LSTM cells, with the parameters specified above: \n",
    "\n",
    "<code> self.lstm = nn.LSTM(input_size=input_size, hidden_size=hidden_size, num_layers=num_layers, batch_first= True)</code>\n",
    "\n",
    "Next, we pass this to a fully connected layer which has an input of the hidden size (the size of the output from the last STM later), and outputs 128 activations. Then we pass these 128 activations to another hidden layer which accepts 128 inputs, and which we want our ouput num_classes (which in this clase would be 1). Finally we pass this activation through a non-linear function, the ReLU. \n",
    "\n",
    "<code>self.fc1 = nn.Linear(hidden_size, 128)</code>\n",
    "\n",
    "\n",
    "<code>self.fc2 = nn.Linear(128, num_classes)</code>\n",
    "\n",
    "\n",
    "<code>self.relu = nn.ReLU </code>"
   ]
  },
  {
   "cell_type": "markdown",
   "id": "d51ba428",
   "metadata": {},
   "source": [
    "# Training"
   ]
  },
  {
   "cell_type": "markdown",
   "id": "106fa0ea",
   "metadata": {},
   "source": [
    "Here we will use a typical regression loss function like the MSE."
   ]
  },
  {
   "cell_type": "code",
   "execution_count": 27,
   "id": "addac98a",
   "metadata": {},
   "outputs": [],
   "source": [
    "def training_loop(n_epochs, lstm, optimiser, loss_fn, X_train, y_train, X_test, y_test):\n",
    "    for epoch in range(n_epochs): \n",
    "        lstm.train()\n",
    "        outputs = lstm.forward(X_train) # forward pass\n",
    "        optimiser.zero_grad() # calculate the gradient by manually setting to 0 \n",
    "\n",
    "        # obtain loss function \n",
    "        loss = loss_fn(outputs, y_train)\n",
    "        loss.backward() # calculates the loss of the loss function \n",
    "        optimiser.step() # improve the loss, i.e. backprop \n",
    "\n",
    "        # test loss\n",
    "        lstm.eval()\n",
    "        test_preds = lstm(X_test)\n",
    "        test_loss = loss_fn(test_preds, y_test)\n",
    "\n",
    "        if epoch % 2 == 0: \n",
    "            print(\"Epoch: %d, train loss: %1.5f, test loss: %1.5f\" % (epoch, loss.item(), test_loss.item()))"
   ]
  },
  {
   "cell_type": "markdown",
   "id": "812b2410",
   "metadata": {},
   "source": [
    "Here, we are doing the forward through the network by passing the training tensors, which we shaped before. We then zero out the current gradients in the torch computational graph. We compare these outputs from the forward pass with the actual train targets using our loss function, and backpropagate with loss.backward() to calculate the gradients of the loss wrt to the parameters (the weights and biases). We then use this loss to update the parameters. "
   ]
  },
  {
   "cell_type": "code",
   "execution_count": 28,
   "id": "fc7ea564",
   "metadata": {},
   "outputs": [],
   "source": [
    "warnings.filterwarnings('ignore')\n",
    "\n",
    "n_epochs = 100\n",
    "learning_rate = 0.001 \n",
    "\n",
    "input_size = X_ss.shape[2] # num of features\n",
    "hidden_size = 2 # num of features in the hidden state\n",
    "num_layers = 1\n",
    "num_classes = forward_window # num of output classes\n",
    "\n",
    "lstm = LSTM(num_classes, input_size, hidden_size, num_layers)"
   ]
  },
  {
   "cell_type": "code",
   "execution_count": 29,
   "id": "bd9f82a2",
   "metadata": {},
   "outputs": [],
   "source": [
    "loss_fn = torch.nn.MSELoss()\n",
    "optimiser = torch.optim.Adam(lstm.parameters(), lr = learning_rate)"
   ]
  },
  {
   "cell_type": "code",
   "execution_count": 30,
   "id": "1862b3c8",
   "metadata": {},
   "outputs": [
    {
     "name": "stdout",
     "output_type": "stream",
     "text": [
      "Epoch: 0, train loss: 0.39329, test loss: 0.28439\n",
      "Epoch: 2, train loss: 0.34688, test loss: 0.24810\n",
      "Epoch: 4, train loss: 0.30457, test loss: 0.21536\n",
      "Epoch: 6, train loss: 0.26634, test loss: 0.18618\n",
      "Epoch: 8, train loss: 0.23212, test loss: 0.16052\n",
      "Epoch: 10, train loss: 0.20182, test loss: 0.13830\n",
      "Epoch: 12, train loss: 0.17535, test loss: 0.11941\n",
      "Epoch: 14, train loss: 0.15257, test loss: 0.10363\n",
      "Epoch: 16, train loss: 0.13330, test loss: 0.09073\n",
      "Epoch: 18, train loss: 0.11727, test loss: 0.08040\n",
      "Epoch: 20, train loss: 0.10419, test loss: 0.07232\n",
      "Epoch: 22, train loss: 0.09370, test loss: 0.06614\n",
      "Epoch: 24, train loss: 0.08545, test loss: 0.06152\n",
      "Epoch: 26, train loss: 0.07905, test loss: 0.05816\n",
      "Epoch: 28, train loss: 0.07415, test loss: 0.05574\n",
      "Epoch: 30, train loss: 0.07043, test loss: 0.05401\n",
      "Epoch: 32, train loss: 0.06759, test loss: 0.05277\n",
      "Epoch: 34, train loss: 0.06541, test loss: 0.05185\n",
      "Epoch: 36, train loss: 0.06367, test loss: 0.05112\n",
      "Epoch: 38, train loss: 0.06225, test loss: 0.05051\n",
      "Epoch: 40, train loss: 0.06102, test loss: 0.04996\n",
      "Epoch: 42, train loss: 0.05993, test loss: 0.04944\n",
      "Epoch: 44, train loss: 0.05892, test loss: 0.04894\n",
      "Epoch: 46, train loss: 0.05798, test loss: 0.04847\n",
      "Epoch: 48, train loss: 0.05709, test loss: 0.04803\n",
      "Epoch: 50, train loss: 0.05624, test loss: 0.04763\n",
      "Epoch: 52, train loss: 0.05544, test loss: 0.04727\n",
      "Epoch: 54, train loss: 0.05466, test loss: 0.04696\n",
      "Epoch: 56, train loss: 0.05392, test loss: 0.04670\n",
      "Epoch: 58, train loss: 0.05319, test loss: 0.04648\n",
      "Epoch: 60, train loss: 0.05249, test loss: 0.04629\n",
      "Epoch: 62, train loss: 0.05179, test loss: 0.04614\n",
      "Epoch: 64, train loss: 0.05110, test loss: 0.04601\n",
      "Epoch: 66, train loss: 0.05040, test loss: 0.04591\n",
      "Epoch: 68, train loss: 0.04970, test loss: 0.04583\n",
      "Epoch: 70, train loss: 0.04898, test loss: 0.04576\n",
      "Epoch: 72, train loss: 0.04825, test loss: 0.04561\n",
      "Epoch: 74, train loss: 0.04752, test loss: 0.04535\n",
      "Epoch: 76, train loss: 0.04677, test loss: 0.04505\n",
      "Epoch: 78, train loss: 0.04599, test loss: 0.04472\n",
      "Epoch: 80, train loss: 0.04521, test loss: 0.04436\n",
      "Epoch: 82, train loss: 0.04443, test loss: 0.04398\n",
      "Epoch: 84, train loss: 0.04365, test loss: 0.04357\n",
      "Epoch: 86, train loss: 0.04287, test loss: 0.04313\n",
      "Epoch: 88, train loss: 0.04210, test loss: 0.04265\n",
      "Epoch: 90, train loss: 0.04134, test loss: 0.04211\n",
      "Epoch: 92, train loss: 0.04059, test loss: 0.04152\n",
      "Epoch: 94, train loss: 0.03981, test loss: 0.04081\n",
      "Epoch: 96, train loss: 0.03899, test loss: 0.04000\n",
      "Epoch: 98, train loss: 0.03816, test loss: 0.03909\n"
     ]
    }
   ],
   "source": [
    "training_loop(n_epochs=n_epochs, \n",
    "              lstm=lstm, \n",
    "              optimiser=optimiser, \n",
    "              loss_fn = loss_fn, \n",
    "              X_train=X_train_tensors_final, \n",
    "              y_train=y_train_tensors, \n",
    "              X_test=X_test_tensors_final, \n",
    "              y_test=y_test_tensors)\n"
   ]
  },
  {
   "cell_type": "markdown",
   "id": "cfea4699",
   "metadata": {},
   "source": [
    "# Prediction\n",
    "\n",
    "A key part of prediction, if the variables have been standardized, is known was we need to pass to the model. That is what do we need to standardize before passing it to hte model. We just apply the same transforms to the predictors and targets so that whatever we feed to the model is exactly what the model is seeing. It wouldnt make sense to not stardize our inpits; the model would be confused as to why they no longer have zero mean and unit variance. \n",
    "\n",
    "Let's plot the result for the full dataset"
   ]
  },
  {
   "cell_type": "code",
   "execution_count": null,
   "id": "b8b41188",
   "metadata": {},
   "outputs": [
    {
     "data": {
      "image/png": "[encoded data removed]",
      "text/plain": [
       "<Figure size 1000x600 with 1 Axes>"
      ]
     },
     "metadata": {},
     "output_type": "display_data"
    }
   ],
   "source": [
    "df_X_ss = ss.transform(df.drop(columns=['File'])) # old transformers \n",
    "df_y_mm = mm.transform(df[\"Clock Bias (seconds)\"].values.reshape(-1,1)) # older transformers\n",
    "\n",
    "#split sequences \n",
    "df_X_ss, df_y_mm = split_sequences(df_X_ss, df_y_mm, historical_window, forward_window)\n",
    "\n",
    "# convert tensors \n",
    "df_X_ss = torch.Tensor(df_X_ss)\n",
    "df_y_mm = torch.Tensor(df_y_mm)\n",
    "\n",
    "#reshape dataset\n",
    "df_X_ss = torch.reshape(df_X_ss, (df_X_ss.shape[0], historical_window, df_X_ss.shape[2]))\n",
    "\n",
    "train_predict = lstm(df_X_ss)\n",
    "data_predict = train_predict.data.numpy()\n",
    "dataY_plot = df_y_mm.data.numpy()\n",
    "\n",
    "data_predict = mm.inverse_transform(data_predict)\n",
    "dataY_plot = mm.inverse_transform(dataY_plot)\n",
    "\n",
    "true, preds = [], []\n",
    "\n",
    "for i in range(len(dataY_plot)): \n",
    "    true.append(dataY_plot[i][0])\n",
    "for i in range(len(data_predict)): \n",
    "    preds.append(data_predict[i][0])\n",
    "\n",
    "plt.figure(figsize=(10,6))\n",
    "test_cutoff = round(0.90 * total_samples)\n",
    "plt.axvline(x=test_cutoff, c='r', linestyle='--') # size of the training set\n",
    "\n",
    "plt.plot(true, label='Actual Data')\n",
    "plt.plot(preds, label='Predicted Data')\n",
    "plt.title('Time Series Prediction')\n",
    "plt.legend()\n",
    "plt.savefig(\"whole_plot.png\", dpi = 300)\n",
    "plt.show()"
   ]
  },
  {
   "cell_type": "code",
   "execution_count": null,
   "id": "7ed06088",
   "metadata": {},
   "outputs": [],
   "source": []
  },
  {
   "cell_type": "code",
   "execution_count": null,
   "id": "1c2fc44b",
   "metadata": {},
   "outputs": [],
   "source": []
  },
  {
   "cell_type": "code",
   "execution_count": 43,
   "id": "7f429e5a",
   "metadata": {},
   "outputs": [
    {
     "data": {
      "text/plain": [
       "0.1608882246716018"
      ]
     },
     "execution_count": 43,
     "metadata": {},
     "output_type": "execute_result"
    }
   ],
   "source": [
    "r2 = r2_score(true[test_cutoff:], preds[test_cutoff:])\n",
    "r2"
   ]
  },
  {
   "cell_type": "code",
   "execution_count": 33,
   "id": "25860789",
   "metadata": {},
   "outputs": [
    {
     "data": {
      "text/plain": [
       "2.9305279815545204"
      ]
     },
     "execution_count": 33,
     "metadata": {},
     "output_type": "execute_result"
    }
   ],
   "source": [
    "mean_absolute_percentage_error(true, preds)"
   ]
  },
  {
   "cell_type": "code",
   "execution_count": 34,
   "id": "aa9b50ef",
   "metadata": {},
   "outputs": [
    {
     "data": {
      "text/plain": [
       "0.00023786067631376064"
      ]
     },
     "execution_count": 34,
     "metadata": {},
     "output_type": "execute_result"
    }
   ],
   "source": [
    "root_mean_squared_error(true, preds)"
   ]
  },
  {
   "cell_type": "markdown",
   "id": "caca5958",
   "metadata": {},
   "source": [
    "Although these results may seem good, it's not actually as good as it appears. This plot above, where the test data is any time step beyond the red-dashed line, seems to suggest that our moel is amazingly accurate at predicting the price of Bitcoin, a few months into the future. However, what's happening here is a form of data leakage, where information about the test targets has leaked into the test features. That is, whenever we run the model, it has access to the <code>Open</code> price for that day, which is obviously going to be extremely close to the price Bitcoin endsup at for the particular time step. When we loop over our predictions on the model, we append the first predicted value for that time-step. This means that every prediction we are plotting on here has the benefit of being the next predicted value - and not the sequence of 50 values into the future (as we set up in our problem definition). \n",
    "\n",
    "\n",
    "If we really want to see how our model is performing, we have to feed it the 100 time-steps of features before the final value in the test set and then use one model forward pass to calculate the 50 time-step prices in the test set. \n",
    "\n",
    "Recall from above that double-checked our test features in the final batch sample in the test set werre the 100 time steps up to the time-step we're attempting to predict. That is, we feed the model 100 days of information upt to 26th Nov 2021, and get it to predict 50 days of Bitcoin prices, from this day to the 14th Jan 2022. "
   ]
  },
  {
   "cell_type": "code",
   "execution_count": 35,
   "id": "9a05310e",
   "metadata": {},
   "outputs": [],
   "source": [
    "test_predict = lstm(X_test_tensors_final[-1].unsqueeze(0)) # obtains the last sample\n",
    "test_predict = test_predict.detach().numpy()\n",
    "test_predict = mm.inverse_transform(test_predict)\n",
    "test_predict = test_predict[0].tolist()"
   ]
  },
  {
   "cell_type": "code",
   "execution_count": 36,
   "id": "8393b126",
   "metadata": {},
   "outputs": [],
   "source": [
    "test_target = y_test_tensors[-1].detach().numpy()\n",
    "test_target = mm.inverse_transform(test_target.reshape(1,-1))\n",
    "test_target = test_target[0].tolist()"
   ]
  },
  {
   "cell_type": "code",
   "execution_count": 37,
   "id": "0558c254",
   "metadata": {},
   "outputs": [
    {
     "data": {
      "image/png": "[encoded data removed]",
      "text/plain": [
       "<Figure size 640x480 with 1 Axes>"
      ]
     },
     "metadata": {},
     "output_type": "display_data"
    }
   ],
   "source": [
    "plt.plot(test_target, label = \"Actual Data\")\n",
    "plt.plot(test_predict, label = \"LSTM Predictions\")\n",
    "plt.savefig(\"small_plot.png\", dpi = 300)\n",
    "plt.show();"
   ]
  },
  {
   "cell_type": "markdown",
   "id": "98e8e3d1",
   "metadata": {},
   "source": [
    "This is good. If we feed the last 100 days of information, our model successfully predicts a steady decline in the price of Bitcoin over the next 50 days. For one last plot, let's put this in perspective of the scale of the data. "
   ]
  },
  {
   "cell_type": "code",
   "execution_count": 38,
   "id": "09353f3c",
   "metadata": {},
   "outputs": [
    {
     "data": {
      "image/png": "[encoded data removed]",
      "text/plain": [
       "<Figure size 1000x600 with 1 Axes>"
      ]
     },
     "metadata": {},
     "output_type": "display_data"
    }
   ],
   "source": [
    "plt.figure(figsize=(10,6))\n",
    "a = [x for x in range(2500, len(y))]\n",
    "plt.plot(a, y[2500:], label=\"Actual Data\"); \n",
    "c = [x for x in range (len(y)-forward_window, len(y))]\n",
    "plt.plot(c, test_predict, label = \"One-shot multi-step prediction (50 days)\")\n",
    "plt.axvline(x=len(y)-forward_window, c='r', linestyle=\"--\")\n",
    "plt.legend()\n",
    "plt.show()"
   ]
  },
  {
   "cell_type": "markdown",
   "id": "37ce39bc",
   "metadata": {},
   "source": [
    "So, if we'd run our model on 26 Nov 2021, we would have been correct in selling off our Bitcoin. The model correctly predicts a price drop, as well as the rate at which it drops. \n",
    "\n",
    "This orange whole curve is generated without looking at ANY target data. Yes, to be fair, the model is very familiar with all the actual targets before the dashed red line. However, once we move past the training set into the test set the model has no idea what the test targets are. It has to generate its prediction  from the input feature only. "
   ]
  },
  {
   "cell_type": "markdown",
   "id": "bde103c2",
   "metadata": {},
   "source": [
    "# Conclusion"
   ]
  },
  {
   "cell_type": "code",
   "execution_count": 39,
   "id": "fc05dfb4",
   "metadata": {},
   "outputs": [
    {
     "data": {
      "text/plain": [
       "-13533104818.907114"
      ]
     },
     "execution_count": 39,
     "metadata": {},
     "output_type": "execute_result"
    }
   ],
   "source": [
    "r2 = r2_score(test_target, test_predict)\n",
    "r2"
   ]
  },
  {
   "cell_type": "code",
   "execution_count": 40,
   "id": "8be8ad20",
   "metadata": {},
   "outputs": [
    {
     "data": {
      "text/plain": [
       "[-0.0005183026078157127,\n",
       " -0.000518302374985069,\n",
       " -0.0005183021421544254,\n",
       " -0.0005183019093237817,\n",
       " -0.0005183016764931381,\n",
       " -0.0005183014436624944,\n",
       " -0.0005183011526241899,\n",
       " -0.0005183009780012071,\n",
       " -0.0005183006869629025,\n",
       " -0.0005183005123399198,\n",
       " -0.0005183002213016152,\n",
       " -0.0005182999884709716,\n",
       " -0.0005182997556403279,\n",
       " -0.0005182995228096843,\n",
       " -0.0005182992899790406,\n",
       " -0.0005182989989407361,\n",
       " -0.0005182988243177533,\n",
       " -0.0005182985332794487,\n",
       " -0.000518298358656466,\n",
       " -0.0005182980676181614,\n",
       " -0.0005182978347875178,\n",
       " -0.0005182976019568741,\n",
       " -0.0005182973691262305,\n",
       " -0.0005182971362955868,\n",
       " -0.0005182969034649432,\n",
       " -0.0005182966706342995,\n",
       " -0.0005182964378036559,\n",
       " -0.0005182962049730122,\n",
       " -0.0005182959721423686,\n",
       " -0.000518295681104064,\n",
       " -0.0005182955064810812,\n",
       " -0.0005182952154427767,\n",
       " -0.0005182950408197939,\n",
       " -0.0005182947497814894,\n",
       " -0.0005182945169508457,\n",
       " -0.0005182942841202021,\n",
       " -0.0005182940512895584,\n",
       " -0.0005182938184589148,\n",
       " -0.0005182935856282711,\n",
       " -0.0005182933527976274,\n",
       " -0.0005182931199669838,\n",
       " -0.0005182928871363401,\n",
       " -0.0005182926543056965,\n",
       " -0.0005182923632673919,\n",
       " -0.0005182921886444092,\n",
       " -0.0005182918976061046,\n",
       " -0.0005182917229831219,\n",
       " -0.0005182914319448173,\n",
       " -0.0005182911991141737,\n",
       " -0.00051829096628353]"
      ]
     },
     "execution_count": 40,
     "metadata": {},
     "output_type": "execute_result"
    }
   ],
   "source": [
    "test_target"
   ]
  },
  {
   "cell_type": "code",
   "execution_count": 41,
   "id": "3c90c81c",
   "metadata": {},
   "outputs": [
    {
     "data": {
      "text/plain": [
       "[-0.00013315137766767293,\n",
       " -0.00013996647612657398,\n",
       " -0.00012754235649481416,\n",
       " -0.00012563708878587931,\n",
       " -0.00012647225230466574,\n",
       " -0.00012392752978485078,\n",
       " -0.00014936168736312538,\n",
       " -0.00011916092626051977,\n",
       " -9.907239291351289e-05,\n",
       " -0.00012364951544441283,\n",
       " -8.807979611447081e-05,\n",
       " -0.00012513849651440978,\n",
       " -0.000128637402667664,\n",
       " -0.0001170780451502651,\n",
       " -0.00011823772365460172,\n",
       " -0.00014445580018218607,\n",
       " -8.942364365793765e-05,\n",
       " -0.00011001495295204222,\n",
       " -0.0001481878716731444,\n",
       " -0.00015465343312826008,\n",
       " -0.00012623672955669463,\n",
       " -0.00013263727305456996,\n",
       " -0.00011089575855294243,\n",
       " -0.00012324568524491042,\n",
       " -0.00010140062659047544,\n",
       " -0.0001224370498675853,\n",
       " -0.00011006989370798692,\n",
       " -0.00011165767500642687,\n",
       " -0.00013037533790338784,\n",
       " -0.00011134595843032002,\n",
       " -0.0001160634055850096,\n",
       " -0.00010867739911191165,\n",
       " -8.216781134251505e-05,\n",
       " -0.00011711992556229234,\n",
       " -0.00010196449875365943,\n",
       " -0.000128377738292329,\n",
       " -0.00011740418995032087,\n",
       " -0.00010834948625415564,\n",
       " -0.0001142363908002153,\n",
       " -0.00012972344120498747,\n",
       " -0.00010325095354346558,\n",
       " -0.0001350968814222142,\n",
       " -0.00012733500625472516,\n",
       " -0.0001226740569109097,\n",
       " -0.00012506399070844054,\n",
       " -0.00010635756189003587,\n",
       " -0.00010564942203927785,\n",
       " -0.00011438255023676902,\n",
       " -0.0001149995150626637,\n",
       " -0.0001384792703902349]"
      ]
     },
     "execution_count": 41,
     "metadata": {},
     "output_type": "execute_result"
    }
   ],
   "source": [
    "test_predict"
   ]
  },
  {
   "cell_type": "code",
   "execution_count": 42,
   "id": "85c2dab5",
   "metadata": {},
   "outputs": [
    {
     "data": {
      "text/plain": [
       "0.00039879269131181414"
      ]
     },
     "execution_count": 42,
     "metadata": {},
     "output_type": "execute_result"
    }
   ],
   "source": [
    "\n",
    "root_mean_squared_error(test_target, test_predict)"
   ]
  },
  {
   "cell_type": "code",
   "execution_count": null,
   "id": "3b61ef9c",
   "metadata": {},
   "outputs": [],
   "source": []
  },
  {
   "cell_type": "code",
   "execution_count": null,
   "id": "e25cdebd",
   "metadata": {},
   "outputs": [],
   "source": []
  },
  {
   "cell_type": "code",
   "execution_count": null,
   "id": "b9c6573b",
   "metadata": {},
   "outputs": [],
   "source": []
  },
  {
   "cell_type": "code",
   "execution_count": null,
   "id": "c9da92f3",
   "metadata": {},
   "outputs": [],
   "source": []
  },
  {
   "cell_type": "code",
   "execution_count": null,
   "id": "985f4e96",
   "metadata": {},
   "outputs": [],
   "source": []
  }
 ],
 "metadata": {
  "kernelspec": {
   "display_name": "toy_transformer",
   "language": "python",
   "name": "python3"
  },
  "language_info": {
   "codemirror_mode": {
    "name": "ipython",
    "version": 3
   },
   "file_extension": ".py",
   "mimetype": "text/x-python",
   "name": "python",
   "nbconvert_exporter": "python",
   "pygments_lexer": "ipython3",
   "version": "3.10.16"
  }
 },
 "nbformat": 4,
 "nbformat_minor": 5
}
