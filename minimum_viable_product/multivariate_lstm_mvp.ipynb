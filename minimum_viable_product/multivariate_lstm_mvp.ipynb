{
 "cells": [
  {
   "cell_type": "code",
   "execution_count": 1,
   "id": "5019b81e",
   "metadata": {},
   "outputs": [],
   "source": [
    "# Code based off the following tutorial: \n",
    "# https://charlieoneill.medium.com/predicting-the-price-of-bitcoin-with-multivariate-pytorch-lstms-695bc294130"
   ]
  },
  {
   "cell_type": "markdown",
   "id": "66ab6f58",
   "metadata": {},
   "source": [
    "# Introduction\n",
    "\n",
    "This is a minimum viable implementation of a learning-based clock bias prediction model. Ideally this model would run locally in a system with limited GPS accessiblity. We have historical IGS data available. \n",
    "\n",
    "Currently in progress is trying the model with many ephemeris features vs just SV name, and past clock bias values reported by IGS. This model is beneficial because IGS normally may take ~17 days to push out very exact clock bias predictions. \n",
    "\n",
    "The objective is to build an AR LSTM with two features: the SV name and its own previous values (i.e. from the previous 20 days to predict the target variable (Final Clock Bias in seconds) for 20 days in the future)."
   ]
  },
  {
   "cell_type": "markdown",
   "id": "7070c10a",
   "metadata": {},
   "source": [
    "# Data Preprocessing\n",
    "\n",
    "This data is readily available from CDDIS and IGS in the form of RNX files for the satellite ephemeris data and CLK files for the final clock bias that has been processed by IGS and produced after ~17 days. However, if only the AR model is being used then only CLK file data is necessary.\n",
    "\n",
    "Now, the original tutorial is based off financial data, and this has been completed in a different file."
   ]
  },
  {
   "cell_type": "code",
   "execution_count": 2,
   "id": "76942708",
   "metadata": {},
   "outputs": [],
   "source": [
    "import pandas as pd \n",
    "import matplotlib.pyplot as plt\n",
    "from sklearn.preprocessing import StandardScaler, MinMaxScaler\n",
    "import numpy as np \n",
    "import torch \n",
    "import torch.nn as nn\n",
    "import warnings\n",
    "from sklearn.metrics import r2_score\n",
    "from sklearn.metrics import root_mean_squared_error\n",
    "from sklearn.metrics import mean_absolute_percentage_error\n",
    "from sklearn.model_selection import train_test_split"
   ]
  },
  {
   "cell_type": "code",
   "execution_count": 3,
   "id": "451c16f9",
   "metadata": {},
   "outputs": [],
   "source": [
    "historical_window = 100 # [minutes]\n",
    "forward_window = 50 # [minutes]"
   ]
  },
  {
   "cell_type": "code",
   "execution_count": 4,
   "id": "5c607d66",
   "metadata": {},
   "outputs": [],
   "source": [
    "filename = \"5_resampled_1min_interval.csv\""
   ]
  },
  {
   "cell_type": "code",
   "execution_count": 5,
   "id": "4b1a7e95",
   "metadata": {},
   "outputs": [
    {
     "data": {
      "text/html": [
       "<div>\n",
       "<style scoped>\n",
       "    .dataframe tbody tr th:only-of-type {\n",
       "        vertical-align: middle;\n",
       "    }\n",
       "\n",
       "    .dataframe tbody tr th {\n",
       "        vertical-align: top;\n",
       "    }\n",
       "\n",
       "    .dataframe thead th {\n",
       "        text-align: right;\n",
       "    }\n",
       "</style>\n",
       "<table border=\"1\" class=\"dataframe\">\n",
       "  <thead>\n",
       "    <tr style=\"text-align: right;\">\n",
       "      <th></th>\n",
       "      <th>Close</th>\n",
       "      <th>High</th>\n",
       "      <th>Low</th>\n",
       "      <th>Open</th>\n",
       "      <th>Volume</th>\n",
       "    </tr>\n",
       "    <tr>\n",
       "      <th>Date</th>\n",
       "      <th></th>\n",
       "      <th></th>\n",
       "      <th></th>\n",
       "      <th></th>\n",
       "      <th></th>\n",
       "    </tr>\n",
       "  </thead>\n",
       "  <tbody>\n",
       "    <tr>\n",
       "      <th>2014-09-17</th>\n",
       "      <td>457.334015</td>\n",
       "      <td>468.174011</td>\n",
       "      <td>452.421997</td>\n",
       "      <td>465.864014</td>\n",
       "      <td>21056800</td>\n",
       "    </tr>\n",
       "    <tr>\n",
       "      <th>2014-09-18</th>\n",
       "      <td>424.440002</td>\n",
       "      <td>456.859985</td>\n",
       "      <td>413.104004</td>\n",
       "      <td>456.859985</td>\n",
       "      <td>34483200</td>\n",
       "    </tr>\n",
       "    <tr>\n",
       "      <th>2014-09-19</th>\n",
       "      <td>394.795990</td>\n",
       "      <td>427.834991</td>\n",
       "      <td>384.532013</td>\n",
       "      <td>424.102997</td>\n",
       "      <td>37919700</td>\n",
       "    </tr>\n",
       "    <tr>\n",
       "      <th>2014-09-20</th>\n",
       "      <td>408.903992</td>\n",
       "      <td>423.295990</td>\n",
       "      <td>389.882996</td>\n",
       "      <td>394.673004</td>\n",
       "      <td>36863600</td>\n",
       "    </tr>\n",
       "    <tr>\n",
       "      <th>2014-09-21</th>\n",
       "      <td>398.821014</td>\n",
       "      <td>412.425995</td>\n",
       "      <td>393.181000</td>\n",
       "      <td>408.084991</td>\n",
       "      <td>26580100</td>\n",
       "    </tr>\n",
       "  </tbody>\n",
       "</table>\n",
       "</div>"
      ],
      "text/plain": [
       "                 Close        High         Low        Open    Volume\n",
       "Date                                                                \n",
       "2014-09-17  457.334015  468.174011  452.421997  465.864014  21056800\n",
       "2014-09-18  424.440002  456.859985  413.104004  456.859985  34483200\n",
       "2014-09-19  394.795990  427.834991  384.532013  424.102997  37919700\n",
       "2014-09-20  408.903992  423.295990  389.882996  394.673004  36863600\n",
       "2014-09-21  398.821014  412.425995  393.181000  408.084991  26580100"
      ]
     },
     "execution_count": 5,
     "metadata": {},
     "output_type": "execute_result"
    }
   ],
   "source": [
    "# df = pd.read_csv(filename, index_col = 'epoch', parse_dates=True)\n",
    "df = pd.read_csv(\"BTC-USD.csv\", index_col = 'Date', parse_dates = True)\n",
    "df.head(5)"
   ]
  },
  {
   "cell_type": "code",
   "execution_count": 6,
   "id": "97a95c04",
   "metadata": {},
   "outputs": [
    {
     "data": {
      "text/html": [
       "<div>\n",
       "<style scoped>\n",
       "    .dataframe tbody tr th:only-of-type {\n",
       "        vertical-align: middle;\n",
       "    }\n",
       "\n",
       "    .dataframe tbody tr th {\n",
       "        vertical-align: top;\n",
       "    }\n",
       "\n",
       "    .dataframe thead th {\n",
       "        text-align: right;\n",
       "    }\n",
       "</style>\n",
       "<table border=\"1\" class=\"dataframe\">\n",
       "  <thead>\n",
       "    <tr style=\"text-align: right;\">\n",
       "      <th></th>\n",
       "      <th>count</th>\n",
       "      <th>mean</th>\n",
       "      <th>std</th>\n",
       "      <th>min</th>\n",
       "      <th>25%</th>\n",
       "      <th>50%</th>\n",
       "      <th>75%</th>\n",
       "      <th>max</th>\n",
       "    </tr>\n",
       "  </thead>\n",
       "  <tbody>\n",
       "    <tr>\n",
       "      <th>Close</th>\n",
       "      <td>2677.0</td>\n",
       "      <td>1.093314e+04</td>\n",
       "      <td>1.585612e+04</td>\n",
       "      <td>1.781030e+02</td>\n",
       "      <td>6.008260e+02</td>\n",
       "      <td>6.218300e+03</td>\n",
       "      <td>1.027679e+04</td>\n",
       "      <td>6.756683e+04</td>\n",
       "    </tr>\n",
       "    <tr>\n",
       "      <th>High</th>\n",
       "      <td>2677.0</td>\n",
       "      <td>1.121577e+04</td>\n",
       "      <td>1.628141e+04</td>\n",
       "      <td>2.117310e+02</td>\n",
       "      <td>6.045800e+02</td>\n",
       "      <td>6.363210e+03</td>\n",
       "      <td>1.045262e+04</td>\n",
       "      <td>6.878962e+04</td>\n",
       "    </tr>\n",
       "    <tr>\n",
       "      <th>Low</th>\n",
       "      <td>2677.0</td>\n",
       "      <td>1.059295e+04</td>\n",
       "      <td>1.535407e+04</td>\n",
       "      <td>1.715100e+02</td>\n",
       "      <td>5.957860e+02</td>\n",
       "      <td>6.048260e+03</td>\n",
       "      <td>1.001725e+04</td>\n",
       "      <td>6.638206e+04</td>\n",
       "    </tr>\n",
       "    <tr>\n",
       "      <th>Open</th>\n",
       "      <td>2677.0</td>\n",
       "      <td>1.091900e+04</td>\n",
       "      <td>1.584962e+04</td>\n",
       "      <td>1.768970e+02</td>\n",
       "      <td>5.985900e+02</td>\n",
       "      <td>6.214220e+03</td>\n",
       "      <td>1.026632e+04</td>\n",
       "      <td>6.754973e+04</td>\n",
       "    </tr>\n",
       "    <tr>\n",
       "      <th>Volume</th>\n",
       "      <td>2677.0</td>\n",
       "      <td>1.457834e+10</td>\n",
       "      <td>2.010440e+10</td>\n",
       "      <td>5.914570e+06</td>\n",
       "      <td>7.822730e+07</td>\n",
       "      <td>4.991656e+09</td>\n",
       "      <td>2.445711e+10</td>\n",
       "      <td>3.509679e+11</td>\n",
       "    </tr>\n",
       "  </tbody>\n",
       "</table>\n",
       "</div>"
      ],
      "text/plain": [
       "         count          mean           std           min           25%  \\\n",
       "Close   2677.0  1.093314e+04  1.585612e+04  1.781030e+02  6.008260e+02   \n",
       "High    2677.0  1.121577e+04  1.628141e+04  2.117310e+02  6.045800e+02   \n",
       "Low     2677.0  1.059295e+04  1.535407e+04  1.715100e+02  5.957860e+02   \n",
       "Open    2677.0  1.091900e+04  1.584962e+04  1.768970e+02  5.985900e+02   \n",
       "Volume  2677.0  1.457834e+10  2.010440e+10  5.914570e+06  7.822730e+07   \n",
       "\n",
       "                 50%           75%           max  \n",
       "Close   6.218300e+03  1.027679e+04  6.756683e+04  \n",
       "High    6.363210e+03  1.045262e+04  6.878962e+04  \n",
       "Low     6.048260e+03  1.001725e+04  6.638206e+04  \n",
       "Open    6.214220e+03  1.026632e+04  6.754973e+04  \n",
       "Volume  4.991656e+09  2.445711e+10  3.509679e+11  "
      ]
     },
     "execution_count": 6,
     "metadata": {},
     "output_type": "execute_result"
    }
   ],
   "source": [
    "df.describe().T"
   ]
  },
  {
   "cell_type": "code",
   "execution_count": 7,
   "id": "dd4f89f4",
   "metadata": {},
   "outputs": [
    {
     "data": {
      "image/png": "[encoded data removed]",
      "text/plain": [
       "<Figure size 640x480 with 1 Axes>"
      ]
     },
     "metadata": {},
     "output_type": "display_data"
    }
   ],
   "source": [
    "# YFinance Example Validation\n",
    "plt.plot(df.Close)\n",
    "plt.xlabel(\"Time\")\n",
    "plt.ylabel(\"Price (USD)\")\n",
    "plt.title(\"Bitcoin price over time\")\n",
    "plt.savefig(\"initial_plot.png\", dpi=250)\n",
    "plt.show();"
   ]
  },
  {
   "cell_type": "code",
   "execution_count": 8,
   "id": "ee828015",
   "metadata": {},
   "outputs": [],
   "source": [
    "# df = df.resample('30s').sum()"
   ]
  },
  {
   "cell_type": "code",
   "execution_count": 9,
   "id": "ed7288bf",
   "metadata": {},
   "outputs": [
    {
     "ename": "KeyError",
     "evalue": "'SV Name'",
     "output_type": "error",
     "traceback": [
      "\u001b[0;31m---------------------------------------------------------------------------\u001b[0m",
      "\u001b[0;31mKeyError\u001b[0m                                  Traceback (most recent call last)",
      "File \u001b[0;32m~/anaconda3/envs/toy_transformer/lib/python3.10/site-packages/pandas/core/indexes/base.py:3805\u001b[0m, in \u001b[0;36mIndex.get_loc\u001b[0;34m(self, key)\u001b[0m\n\u001b[1;32m   3804\u001b[0m \u001b[38;5;28;01mtry\u001b[39;00m:\n\u001b[0;32m-> 3805\u001b[0m     \u001b[38;5;28;01mreturn\u001b[39;00m \u001b[38;5;28;43mself\u001b[39;49m\u001b[38;5;241;43m.\u001b[39;49m\u001b[43m_engine\u001b[49m\u001b[38;5;241;43m.\u001b[39;49m\u001b[43mget_loc\u001b[49m\u001b[43m(\u001b[49m\u001b[43mcasted_key\u001b[49m\u001b[43m)\u001b[49m\n\u001b[1;32m   3806\u001b[0m \u001b[38;5;28;01mexcept\u001b[39;00m \u001b[38;5;167;01mKeyError\u001b[39;00m \u001b[38;5;28;01mas\u001b[39;00m err:\n",
      "File \u001b[0;32mindex.pyx:167\u001b[0m, in \u001b[0;36mpandas._libs.index.IndexEngine.get_loc\u001b[0;34m()\u001b[0m\n",
      "File \u001b[0;32mindex.pyx:196\u001b[0m, in \u001b[0;36mpandas._libs.index.IndexEngine.get_loc\u001b[0;34m()\u001b[0m\n",
      "File \u001b[0;32mpandas/_libs/hashtable_class_helper.pxi:7081\u001b[0m, in \u001b[0;36mpandas._libs.hashtable.PyObjectHashTable.get_item\u001b[0;34m()\u001b[0m\n",
      "File \u001b[0;32mpandas/_libs/hashtable_class_helper.pxi:7089\u001b[0m, in \u001b[0;36mpandas._libs.hashtable.PyObjectHashTable.get_item\u001b[0;34m()\u001b[0m\n",
      "\u001b[0;31mKeyError\u001b[0m: 'SV Name'",
      "\nThe above exception was the direct cause of the following exception:\n",
      "\u001b[0;31mKeyError\u001b[0m                                  Traceback (most recent call last)",
      "Cell \u001b[0;32mIn[9], line 1\u001b[0m\n\u001b[0;32m----> 1\u001b[0m plt\u001b[38;5;241m.\u001b[39mplot(df[(\u001b[43mdf\u001b[49m\u001b[43m[\u001b[49m\u001b[38;5;124;43m\"\u001b[39;49m\u001b[38;5;124;43mSV Name\u001b[39;49m\u001b[38;5;124;43m\"\u001b[39;49m\u001b[43m]\u001b[49m \u001b[38;5;241m==\u001b[39m \u001b[38;5;241m1\u001b[39m)][\u001b[38;5;124m\"\u001b[39m\u001b[38;5;124mClock Bias (seconds)\u001b[39m\u001b[38;5;124m\"\u001b[39m])\n\u001b[1;32m      2\u001b[0m plt\u001b[38;5;241m.\u001b[39mxlabel(\u001b[38;5;124m\"\u001b[39m\u001b[38;5;124mTime\u001b[39m\u001b[38;5;124m\"\u001b[39m)\n\u001b[1;32m      3\u001b[0m plt\u001b[38;5;241m.\u001b[39mylabel(\u001b[38;5;124m\"\u001b[39m\u001b[38;5;124mClock Bias (seconds)\u001b[39m\u001b[38;5;124m\"\u001b[39m)\n",
      "File \u001b[0;32m~/anaconda3/envs/toy_transformer/lib/python3.10/site-packages/pandas/core/frame.py:4102\u001b[0m, in \u001b[0;36mDataFrame.__getitem__\u001b[0;34m(self, key)\u001b[0m\n\u001b[1;32m   4100\u001b[0m \u001b[38;5;28;01mif\u001b[39;00m \u001b[38;5;28mself\u001b[39m\u001b[38;5;241m.\u001b[39mcolumns\u001b[38;5;241m.\u001b[39mnlevels \u001b[38;5;241m>\u001b[39m \u001b[38;5;241m1\u001b[39m:\n\u001b[1;32m   4101\u001b[0m     \u001b[38;5;28;01mreturn\u001b[39;00m \u001b[38;5;28mself\u001b[39m\u001b[38;5;241m.\u001b[39m_getitem_multilevel(key)\n\u001b[0;32m-> 4102\u001b[0m indexer \u001b[38;5;241m=\u001b[39m \u001b[38;5;28;43mself\u001b[39;49m\u001b[38;5;241;43m.\u001b[39;49m\u001b[43mcolumns\u001b[49m\u001b[38;5;241;43m.\u001b[39;49m\u001b[43mget_loc\u001b[49m\u001b[43m(\u001b[49m\u001b[43mkey\u001b[49m\u001b[43m)\u001b[49m\n\u001b[1;32m   4103\u001b[0m \u001b[38;5;28;01mif\u001b[39;00m is_integer(indexer):\n\u001b[1;32m   4104\u001b[0m     indexer \u001b[38;5;241m=\u001b[39m [indexer]\n",
      "File \u001b[0;32m~/anaconda3/envs/toy_transformer/lib/python3.10/site-packages/pandas/core/indexes/base.py:3812\u001b[0m, in \u001b[0;36mIndex.get_loc\u001b[0;34m(self, key)\u001b[0m\n\u001b[1;32m   3807\u001b[0m     \u001b[38;5;28;01mif\u001b[39;00m \u001b[38;5;28misinstance\u001b[39m(casted_key, \u001b[38;5;28mslice\u001b[39m) \u001b[38;5;129;01mor\u001b[39;00m (\n\u001b[1;32m   3808\u001b[0m         \u001b[38;5;28misinstance\u001b[39m(casted_key, abc\u001b[38;5;241m.\u001b[39mIterable)\n\u001b[1;32m   3809\u001b[0m         \u001b[38;5;129;01mand\u001b[39;00m \u001b[38;5;28many\u001b[39m(\u001b[38;5;28misinstance\u001b[39m(x, \u001b[38;5;28mslice\u001b[39m) \u001b[38;5;28;01mfor\u001b[39;00m x \u001b[38;5;129;01min\u001b[39;00m casted_key)\n\u001b[1;32m   3810\u001b[0m     ):\n\u001b[1;32m   3811\u001b[0m         \u001b[38;5;28;01mraise\u001b[39;00m InvalidIndexError(key)\n\u001b[0;32m-> 3812\u001b[0m     \u001b[38;5;28;01mraise\u001b[39;00m \u001b[38;5;167;01mKeyError\u001b[39;00m(key) \u001b[38;5;28;01mfrom\u001b[39;00m\u001b[38;5;250m \u001b[39m\u001b[38;5;21;01merr\u001b[39;00m\n\u001b[1;32m   3813\u001b[0m \u001b[38;5;28;01mexcept\u001b[39;00m \u001b[38;5;167;01mTypeError\u001b[39;00m:\n\u001b[1;32m   3814\u001b[0m     \u001b[38;5;66;03m# If we have a listlike key, _check_indexing_error will raise\u001b[39;00m\n\u001b[1;32m   3815\u001b[0m     \u001b[38;5;66;03m#  InvalidIndexError. Otherwise we fall through and re-raise\u001b[39;00m\n\u001b[1;32m   3816\u001b[0m     \u001b[38;5;66;03m#  the TypeError.\u001b[39;00m\n\u001b[1;32m   3817\u001b[0m     \u001b[38;5;28mself\u001b[39m\u001b[38;5;241m.\u001b[39m_check_indexing_error(key)\n",
      "\u001b[0;31mKeyError\u001b[0m: 'SV Name'"
     ]
    }
   ],
   "source": [
    "plt.plot(df[(df[\"SV Name\"] == 1)][\"Clock Bias (seconds)\"])\n",
    "plt.xlabel(\"Time\")\n",
    "plt.ylabel(\"Clock Bias (seconds)\")\n",
    "plt.xticks(rotation=90)\n",
    "plt.title(\"Clock Bias for SV1 over time\")\n",
    "plt.savefig(\"sv1_clock_bias_plot.png\", dpi = 250)\n",
    "plt.show(); "
   ]
  },
  {
   "cell_type": "code",
   "execution_count": 10,
   "id": "21bc48b8",
   "metadata": {},
   "outputs": [
    {
     "data": {
      "text/plain": [
       "((2677, 4), (2677,))"
      ]
     },
     "execution_count": 10,
     "metadata": {},
     "output_type": "execute_result"
    }
   ],
   "source": [
    "# Defining full dataset \n",
    "# X, y  = df[[\"SV Name\", \"Clock Bias (seconds)\", \"Clock Bias\", \"Clock Drift\", \"IODC\", \"sqrtA\", \"Eccentricity\", \"Delta n\", \"M0\", \"omega\", \"OmegaDot\", \"Cuc\", \"Cus\", \"Crc\", \"Crs\", \"Cic\", \"Cis\", \"SV Health\", \"SV Accuracy\"]], df['Clock Bias (seconds)']\n",
    "X, y  = df.drop(columns=\"Close\"), df['Close']\n",
    "X.shape, y.shape"
   ]
  },
  {
   "cell_type": "code",
   "execution_count": 11,
   "id": "d63eda70",
   "metadata": {},
   "outputs": [],
   "source": [
    "# validating the YFinance \n",
    "from sklearn.preprocessing import StandardScaler, MinMaxScaler\n",
    "mm = MinMaxScaler()\n",
    "ss = StandardScaler()\n",
    "\n",
    "X = ss.fit_transform(X)\n",
    "y = mm.fit_transform(y.values.reshape(-1, 1))"
   ]
  },
  {
   "cell_type": "code",
   "execution_count": 12,
   "id": "fbd60f5b",
   "metadata": {},
   "outputs": [],
   "source": [
    "X_train, X_test, y_train, y_test = train_test_split(X, y, test_size=0.1)"
   ]
  },
  {
   "cell_type": "code",
   "execution_count": 13,
   "id": "2a68c67a",
   "metadata": {},
   "outputs": [
    {
     "data": {
      "text/plain": [
       "((2409, 4), (268, 4), (2409, 1), (268, 1))"
      ]
     },
     "execution_count": 13,
     "metadata": {},
     "output_type": "execute_result"
    }
   ],
   "source": [
    "X_train.shape, X_test.shape, y_train.shape, y_test.shape"
   ]
  },
  {
   "cell_type": "code",
   "execution_count": null,
   "id": "a00637bd",
   "metadata": {},
   "outputs": [],
   "source": [
    "mm = MinMaxScaler()\n",
    "Xtrain_normalized = mm.fit_transform(X_train)\n",
    "ytrain_normalized = mm.fit_transform(y_train.values.reshape(-1,1))\n",
    "\n",
    "X_test = mm.fit_transform(X_test)\n",
    "y_test = y_test.values.reshape(-1,1)\n",
    "y_test = mm.fit_transform(y_test)"
   ]
  },
  {
   "cell_type": "code",
   "execution_count": 14,
   "id": "49d25b66",
   "metadata": {},
   "outputs": [],
   "source": [
    "def add_regression_noise(x, std=0.1): \n",
    "    noise = np.random.normal(0, std, size=x.shape)\n",
    "    return x + noise"
   ]
  },
  {
   "cell_type": "code",
   "execution_count": null,
   "id": "e3d07249",
   "metadata": {},
   "outputs": [],
   "source": [
    "ytrain_noisy = add_regression_noise(ytrain_normalized)"
   ]
  },
  {
   "cell_type": "code",
   "execution_count": 15,
   "id": "b9e78f40",
   "metadata": {},
   "outputs": [],
   "source": [
    "def split_sequences(input_sequences, output_sequence, n_steps_in, n_steps_out):\n",
    "    X, y = list(), list()\n",
    "    for i in range(len(input_sequences)):\n",
    "        # find the end of the input, output sequence\n",
    "        end_ix = i + n_steps_in\n",
    "        out_end_ix = end_ix + n_steps_out\n",
    "\n",
    "        # check if we are beyond the dataset\n",
    "        if out_end_ix > len(input_sequences): break\n",
    "\n",
    "        # gather input and output of the pattern \n",
    "        seq_x, seq_y = input_sequences[i:end_ix], output_sequence[end_ix:out_end_ix, -1]\n",
    "        X.append(seq_x), y.append(seq_y)\n",
    "    return np.array(X), np.array(y)"
   ]
  },
  {
   "cell_type": "code",
   "execution_count": 16,
   "id": "058623e4",
   "metadata": {},
   "outputs": [
    {
     "ename": "NameError",
     "evalue": "name 'Xtrain_normalized' is not defined",
     "output_type": "error",
     "traceback": [
      "\u001b[0;31m---------------------------------------------------------------------------\u001b[0m",
      "\u001b[0;31mNameError\u001b[0m                                 Traceback (most recent call last)",
      "Cell \u001b[0;32mIn[16], line 1\u001b[0m\n\u001b[0;32m----> 1\u001b[0m Xtrain_windows, ytrain_windows \u001b[38;5;241m=\u001b[39m split_sequences(\u001b[43mXtrain_normalized\u001b[49m, ytrain_noisy, historical_window, forward_window)\n\u001b[1;32m      2\u001b[0m \u001b[38;5;28mprint\u001b[39m(Xtrain_windows\u001b[38;5;241m.\u001b[39mshape, Xtrain_windows\u001b[38;5;241m.\u001b[39mshape)\n",
      "\u001b[0;31mNameError\u001b[0m: name 'Xtrain_normalized' is not defined"
     ]
    }
   ],
   "source": [
    "Xtrain_windows, ytrain_windows = split_sequences(Xtrain_normalized, ytrain_noisy, historical_window, forward_window)\n",
    "print(Xtrain_windows.shape, Xtrain_windows.shape)"
   ]
  },
  {
   "cell_type": "code",
   "execution_count": 17,
   "id": "0378b740",
   "metadata": {},
   "outputs": [
    {
     "name": "stdout",
     "output_type": "stream",
     "text": [
      "(2260, 100, 4) (2260, 100, 4)\n",
      "(119, 100, 4) (119, 50)\n"
     ]
    }
   ],
   "source": [
    "# validating YFinance Problem \n",
    "Xtrain_windows, ytrain_windows = split_sequences(X_train, y_train, historical_window, forward_window)\n",
    "print(Xtrain_windows.shape, Xtrain_windows.shape)\n",
    "Xtest_windows, ytest_windows = split_sequences(X_test, y_test, historical_window, forward_window)\n",
    "print(Xtest_windows.shape, ytest_windows.shape)"
   ]
  },
  {
   "cell_type": "code",
   "execution_count": null,
   "id": "e3899391",
   "metadata": {},
   "outputs": [],
   "source": [
    "# y_test = y_test.values.reshape(-1,1)\n",
    "Xtest_windows, ytest_windows = split_sequences(X_test, y_test, historical_window, forward_window)\n",
    "print(Xtest_windows.shape, ytest_windows.shape)"
   ]
  },
  {
   "cell_type": "markdown",
   "id": "5440df4d",
   "metadata": {},
   "source": [
    "Now we convert our data into tensors by calling <code>torch.tensor()</code> on our object, and setting the property <code>requires_grad = True</code>. Some old PyTorch tutorials might indicate that we need to apply <code>Variable</code> on here but this is deprecated. Now the input tensor to be forward propagated has to be can faciliate automatic back propagation through <code> backward()</code> without being wrapped."
   ]
  },
  {
   "cell_type": "code",
   "execution_count": 18,
   "id": "034616db",
   "metadata": {},
   "outputs": [],
   "source": [
    "# convert to pytorch tensors \n",
    "X_train_tensors = torch.Tensor(Xtrain_windows)\n",
    "X_test_tensors = torch.Tensor(Xtest_windows)\n",
    "\n",
    "y_train_tensors = torch.Tensor(ytrain_windows)\n",
    "y_test_tensors = torch.Tensor(ytest_windows)"
   ]
  },
  {
   "cell_type": "markdown",
   "id": "e06cb075",
   "metadata": {
    "vscode": {
     "languageId": "bat"
    }
   },
   "source": [
    "Looking through the documentation for a multi-layer <code>torch.nn.LSTM</code> shows that the input shape depends on whether the parameter <code>batch_first</code> is true. Since we are accustomed to having the first dimension be the batch, we can set <code>batch_first</code> to true. The size of the input is then <code>(N, L, H_in)</code> where\n",
    "\n",
    "- N is the batch size \n",
    "- L is the sequence length\n",
    "- H_in is the input size (number of features)\n",
    "\n",
    "In other words, we wantt eh dimensions to be the rows of the dataframe in the first dimension. Followed by the length of the dataframe in the next dimension to represent the length of the input sequence, and finally the feature of which we have 4 in the final dimension. \n",
    "\n",
    "To reshape the tensors into our required shape we can use <code>torch.reshape</code>. This takes as arguments the tensors we are reshaping, and then a tuple of the shape we need to reshape to. For the rows of the dataframe, we can simply look at the shape of the first dimension <code>X_train_tensors.shape[0]</code>. Since we are applying an LSTM, we call tha tthe sequence length we feed in is simply 1 because the whole point of the LSTM is not feeding in tons of data at each because the emory is handled by the inner working of the LSTM cell. \n",
    "\n",
    "The last dimension is the number of features which is stored in the <code>X_train_tensors.shape[1]</code>. "
   ]
  },
  {
   "cell_type": "code",
   "execution_count": 19,
   "id": "f1f58cc0",
   "metadata": {},
   "outputs": [
    {
     "name": "stdout",
     "output_type": "stream",
     "text": [
      "Training shape: torch.Size([2260, 100, 4]) torch.Size([2260, 50])\n",
      "Testing shape: torch.Size([119, 100, 4]) torch.Size([119, 50])\n"
     ]
    }
   ],
   "source": [
    "# reshape to rows, timestamps, features \n",
    "\n",
    "X_train_tensors_final = torch.reshape(X_train_tensors, \n",
    "                                      (X_train_tensors.shape[0], historical_window, \n",
    "                                      X_train_tensors.shape[2]))\n",
    "\n",
    "X_test_tensors_final = torch.reshape(X_test_tensors, \n",
    "                                     (X_test_tensors.shape[0], historical_window, \n",
    "                                      X_test_tensors.shape[2]))\n",
    "\n",
    "print(\"Training shape:\", X_train_tensors.shape, y_train_tensors.shape)\n",
    "print(\"Testing shape:\", X_test_tensors_final.shape, y_test_tensors.shape)"
   ]
  },
  {
   "cell_type": "markdown",
   "id": "3f7382d2",
   "metadata": {},
   "source": [
    "Let's make sure that the data logic of the test set checks out. Sequential data is hard to get our heads around and especially when generating a test set for multistep output models. Here, we want to take the 100 previous predictors up to the current time step and predict 50 time steps into the future. In the test set, we have 150 batch feature samples, each consisting of 100 time steps and 4 feature predictors. \n",
    "\n",
    "In the targets for the test set, we again have 150 batch samples, each consisting of an array of length 50 of scalar outputs. "
   ]
  },
  {
   "cell_type": "markdown",
   "id": "2af31754",
   "metadata": {},
   "source": [
    "Since we want a way to validate our results, we need to predict the Bitcoin price for 50 time steps in the test set for which we have the data (i.e. the test targets). Because of the way we wrote the <code> split_sequence()</code>, we just need the last sample of 100 days in <code>X_test</code>, run the model on it and compare those predictions with the last sample of the 50 days of <code>y_test</code>. These correspond to a period of 100 days in the <code>X_test</code>'s last sample, proceeded immediately by the next 50 days in the last sample of <code>y_test</code>. "
   ]
  },
  {
   "cell_type": "markdown",
   "id": "64414a01",
   "metadata": {},
   "source": [
    "The first four rows of the data match. Note that <code>X_check[-1]</code> should be identical to the <code>X.iloc[-149:-49]</code>, ending 50 days before the end of our dataset. Therefore, we are taking the 100 timesteps of information up to the 26th of Nov 2021, and attempting to predict the 50 days after that up to 14th January 2022. Our final check is to make sure that the final batch sample in our test targets matches these data predictions. "
   ]
  },
  {
   "cell_type": "markdown",
   "id": "5815ef9c",
   "metadata": {},
   "source": [
    "Summary: The main performance test for our model will be on the last batch sample in the test set. This will be predictors rom the 100 time steps up to the 26th of Nov 2021 and this will be used by our model to predict the next 50 days of Bitcoin prices up to the 14th of Jan 2022. In this way, we validate model performance by comparing predcitions to the actual prices in that 50 day window. "
   ]
  },
  {
   "cell_type": "markdown",
   "id": "9be8b75c",
   "metadata": {},
   "source": [
    "# Constructing the LSTM model"
   ]
  },
  {
   "cell_type": "markdown",
   "id": "51d94ac2",
   "metadata": {},
   "source": [
    "Now, let's construct the LSTM class, inheriting from the nn.Module. In constract to the previous univariate LSTM, we're going to build the model with the nn.LSTM rather than nn.LSTMCell because it's good to understand both options and we dont really need the nn.LSTMCell flexibility right now. We know that nn.LSTM is a recurrent application of the nn.LSTMCell. "
   ]
  },
  {
   "cell_type": "code",
   "execution_count": 20,
   "id": "d06c2f6c",
   "metadata": {},
   "outputs": [],
   "source": [
    "class LSTM(nn.Module): \n",
    "    def __init__(self, num_classes, input_size, hidden_size, num_layers): \n",
    "        super().__init__()\n",
    "        self.num_classes = num_classes # output size \n",
    "        self.num_layers = num_layers # number of recurrent layers in the LSTM \n",
    "        self.input_size = input_size # input size\n",
    "        self.hidden_size = hidden_size # neurons in each lstm later\n",
    "\n",
    "        # LSTM model \n",
    "        self.lstm = nn.LSTM(input_size=input_size, hidden_size=hidden_size, num_layers=num_layers, batch_first=True, dropout=0.2)\n",
    "        self.fc1 = nn.Linear(hidden_size, 128) # fully connected \n",
    "        self.fc2 = nn.Linear(128, num_classes) # last FC\n",
    "        self.relu = nn.ReLU()\n",
    "\n",
    "    def forward(self, x): \n",
    "        # hidden state\n",
    "        h_0 = torch.zeros(self.num_layers, x.size(0), self.hidden_size)\n",
    "        # cell state\n",
    "        c_0 = torch.zeros(self.num_layers, x.size(0), self.hidden_size)\n",
    "        # propgagate input through LSTM\n",
    "        output, (hn, cn) =self.lstm(x, (h_0, c_0)) # (input, hidden and internal state)\n",
    "        hn = hn.view(-1, self.hidden_size) # reshape data for Dense layer \n",
    "        out = self.relu(hn)\n",
    "        out = self.fc1(out)\n",
    "        out = self.relu(out)\n",
    "        out = self.fc2(out)\n",
    "        return out"
   ]
  },
  {
   "cell_type": "markdown",
   "id": "1044e312",
   "metadata": {},
   "source": [
    "In the initializations, we start with the parent class, nn.Module. Most initializations in PyTorch are separated into two chunks: \n",
    "\n",
    "- Any wariables that the class will need for reference, for things such as the hidden layer size, input size, and number of layers\n",
    "- Defining the layers of the model without connecting them using the variables instatiated above \n",
    "\n",
    "Frist we need to shape the LSTM with input size, hidden size and number of recurrent layers. For instance num_layers=2 means stacking 2 LSTMs together to form a stacked LSTM with the second LSTM taking in outputs of the first LSTM and computing the final results. Thus we initialize these three variables in the first part of the __init__. We also need to force our model to output only 1 predicted value so we initialize the number of classes variable. \n",
    "\n",
    "In the second part of the __init__, we set out layers of our network with the first later obviously a recurrent aapplication of the LSTM cells, with the parameters specified above: \n",
    "\n",
    "<code> self.lstm = nn.LSTM(input_size=input_size, hidden_size=hidden_size, num_layers=num_layers, batch_first= True)</code>\n",
    "\n",
    "Next, we pass this to a fully connected layer which has an input of the hidden size (the size of the output from the last STM later), and outputs 128 activations. Then we pass these 128 activations to another hidden layer which accepts 128 inputs, and which we want our ouput num_classes (which in this clase would be 1). Finally we pass this activation through a non-linear function, the ReLU. \n",
    "\n",
    "<code>self.fc1 = nn.Linear(hidden_size, 128)</code>\n",
    "\n",
    "\n",
    "<code>self.fc2 = nn.Linear(128, num_classes)</code>\n",
    "\n",
    "\n",
    "<code>self.relu = nn.ReLU </code>"
   ]
  },
  {
   "cell_type": "markdown",
   "id": "d51ba428",
   "metadata": {},
   "source": [
    "# Training"
   ]
  },
  {
   "cell_type": "markdown",
   "id": "106fa0ea",
   "metadata": {},
   "source": [
    "Here we will use a typical regression loss function like the MSE."
   ]
  },
  {
   "cell_type": "code",
   "execution_count": 37,
   "id": "addac98a",
   "metadata": {},
   "outputs": [],
   "source": [
    "def training_loop(n_epochs, lstm, optimiser, loss_fn, X_train, y_train, X_test, y_test):\n",
    "    val_size = int(0.1 * len(X_train))\n",
    "    X_val, y_val = X_train[:val_size], y_train[:val_size]\n",
    "    X_train_new, y_train_new = X_train[val_size:], y_train[val_size:]\n",
    "    \n",
    "    for epoch in range(n_epochs): \n",
    "        lstm.train()\n",
    "        outputs = lstm.forward(X_train_new) # forward pass\n",
    "        optimiser.zero_grad() # calculate the gradient by manually setting to 0 \n",
    "\n",
    "        # obtain loss function \n",
    "        loss = loss_fn(outputs, y_train_new)\n",
    "        loss.backward() # calculates the loss of the loss function \n",
    "        optimiser.step() # improve the loss, i.e. backprop \n",
    "\n",
    "        # validation loss\n",
    "        lstm.eval()\n",
    "        # with torch.no_grad():\n",
    "        val_preds = lstm(X_val)\n",
    "        val_loss = loss_fn(val_preds, y_val)\n",
    "        # r2 = r2_score(y_val.numpy(), val_preds.numpy())\n",
    "        r2 = 0\n",
    "\n",
    "        if epoch % 2 == 0: \n",
    "            print(\"Epoch: %d, train loss: %1.5f, val loss: %1.5f, val R2: %1.3f\" % (epoch, loss.item(), val_loss.item(), r2))"
   ]
  },
  {
   "cell_type": "code",
   "execution_count": 38,
   "id": "5e0f2f8a",
   "metadata": {},
   "outputs": [],
   "source": [
    "def evaluate_model(lstm, X_test, y_test):\n",
    "    lstm.eval()\n",
    "    with torch.no_grad():\n",
    "        preds = lstm(X_test)\n",
    "        r2 = r2_score(y_test.numpy(), preds.numpy())\n",
    "        mape = mean_absolute_percentage_error(y_test.numpy(), preds.numpy())\n",
    "        rmse = root_mean_squared_error(y_test.numpy(), preds.numpy())\n",
    "        print(f\"Test Set R2 Score: {r2} and MAPE: {mape} and RMSE: {rmse}\")"
   ]
  },
  {
   "cell_type": "markdown",
   "id": "812b2410",
   "metadata": {},
   "source": [
    "Here, we are doing the forward through the network by passing the training tensors, which we shaped before. We then zero out the current gradients in the torch computational graph. We compare these outputs from the forward pass with the actual train targets using our loss function, and backpropagate with loss.backward() to calculate the gradients of the loss wrt to the parameters (the weights and biases). We then use this loss to update the parameters. "
   ]
  },
  {
   "cell_type": "code",
   "execution_count": 39,
   "id": "fc7ea564",
   "metadata": {},
   "outputs": [],
   "source": [
    "warnings.filterwarnings('ignore')\n",
    "\n",
    "n_epochs = 20\n",
    "learning_rate = 0.001 \n",
    "\n",
    "input_size = X_train_tensors.shape[2] # num of features\n",
    "hidden_size = 2 # num of features in the hidden state\n",
    "num_layers = 1\n",
    "num_classes = forward_window # num of output classes\n",
    "\n",
    "lstm = LSTM(num_classes, input_size, hidden_size, num_layers)"
   ]
  },
  {
   "cell_type": "code",
   "execution_count": 40,
   "id": "bd9f82a2",
   "metadata": {},
   "outputs": [],
   "source": [
    "loss_fn = torch.nn.MSELoss()\n",
    "optimiser = torch.optim.Adam(lstm.parameters(), lr = learning_rate)"
   ]
  },
  {
   "cell_type": "code",
   "execution_count": 41,
   "id": "1862b3c8",
   "metadata": {},
   "outputs": [
    {
     "name": "stdout",
     "output_type": "stream",
     "text": [
      "Epoch: 0, train loss: 0.10772, val loss: 0.11131, val R2: 0.000\n",
      "Epoch: 2, train loss: 0.09093, val loss: 0.09572, val R2: 0.000\n",
      "Epoch: 4, train loss: 0.07911, val loss: 0.08466, val R2: 0.000\n",
      "Epoch: 6, train loss: 0.07102, val loss: 0.07694, val R2: 0.000\n",
      "Epoch: 8, train loss: 0.06550, val loss: 0.07161, val R2: 0.000\n",
      "Epoch: 10, train loss: 0.06183, val loss: 0.06805, val R2: 0.000\n",
      "Epoch: 12, train loss: 0.05954, val loss: 0.06583, val R2: 0.000\n",
      "Epoch: 14, train loss: 0.05821, val loss: 0.06455, val R2: 0.000\n",
      "Epoch: 16, train loss: 0.05752, val loss: 0.06387, val R2: 0.000\n",
      "Epoch: 18, train loss: 0.05716, val loss: 0.06351, val R2: 0.000\n"
     ]
    }
   ],
   "source": [
    "lstm_model = training_loop(n_epochs=n_epochs, \n",
    "              lstm=lstm, \n",
    "              optimiser=optimiser, \n",
    "              loss_fn = loss_fn, \n",
    "              X_train=X_train_tensors_final, \n",
    "              y_train=y_train_tensors, \n",
    "              X_test=X_test_tensors_final, \n",
    "              y_test=y_test_tensors)\n"
   ]
  },
  {
   "cell_type": "code",
   "execution_count": 43,
   "id": "04701068",
   "metadata": {},
   "outputs": [
    {
     "name": "stdout",
     "output_type": "stream",
     "text": [
      "Test Set R2 Score: -0.03861081600189209 and MAPE: 28.08832550048828 and RMSE: 0.25094375014305115\n"
     ]
    }
   ],
   "source": [
    "test_preds = evaluate_model(lstm, X_test_tensors, y_test_tensors)"
   ]
  },
  {
   "cell_type": "markdown",
   "id": "cfea4699",
   "metadata": {},
   "source": [
    "# Prediction\n",
    "\n",
    "A key part of prediction, if the variables have been standardized, is known was we need to pass to the model. That is what do we need to standardize before passing it to hte model. We just apply the same transforms to the predictors and targets so that whatever we feed to the model is exactly what the model is seeing. It wouldnt make sense to not stardize our inpits; the model would be confused as to why they no longer have zero mean and unit variance. \n",
    "\n",
    "Let's plot the result for the full dataset"
   ]
  },
  {
   "cell_type": "code",
   "execution_count": null,
   "id": "aa9b50ef",
   "metadata": {},
   "outputs": [],
   "source": [
    "root_mean_squared_error(true, preds)"
   ]
  },
  {
   "cell_type": "code",
   "execution_count": null,
   "id": "078cc543",
   "metadata": {},
   "outputs": [],
   "source": [
    "mean_absolute_percentage_error"
   ]
  },
  {
   "cell_type": "markdown",
   "id": "caca5958",
   "metadata": {},
   "source": [
    "Although these results may seem good, it's not actually as good as it appears. This plot above, where the test data is any time step beyond the red-dashed line, seems to suggest that our moel is amazingly accurate at predicting the price of Bitcoin, a few months into the future. However, what's happening here is a form of data leakage, where information about the test targets has leaked into the test features. That is, whenever we run the model, it has access to the <code>Open</code> price for that day, which is obviously going to be extremely close to the price Bitcoin endsup at for the particular time step. When we loop over our predictions on the model, we append the first predicted value for that time-step. This means that every prediction we are plotting on here has the benefit of being the next predicted value - and not the sequence of 50 values into the future (as we set up in our problem definition). \n",
    "\n",
    "\n",
    "If we really want to see how our model is performing, we have to feed it the 100 time-steps of features before the final value in the test set and then use one model forward pass to calculate the 50 time-step prices in the test set. \n",
    "\n",
    "Recall from above that double-checked our test features in the final batch sample in the test set werre the 100 time steps up to the time-step we're attempting to predict. That is, we feed the model 100 days of information upt to 26th Nov 2021, and get it to predict 50 days of Bitcoin prices, from this day to the 14th Jan 2022. "
   ]
  },
  {
   "cell_type": "code",
   "execution_count": null,
   "id": "9a05310e",
   "metadata": {},
   "outputs": [],
   "source": [
    "test_predict = lstm(X_test_tensors_final[-1].unsqueeze(0)) # obtains the last sample\n",
    "test_predict = test_predict.detach().numpy()\n",
    "test_predict = mm.inverse_transform(test_predict)\n",
    "test_predict = test_predict[0].tolist()"
   ]
  },
  {
   "cell_type": "code",
   "execution_count": null,
   "id": "8393b126",
   "metadata": {},
   "outputs": [],
   "source": [
    "test_target = y_test_tensors[-1].detach().numpy()\n",
    "test_target = mm.inverse_transform(test_target.reshape(1,-1))\n",
    "test_target = test_target[0].tolist()"
   ]
  },
  {
   "cell_type": "code",
   "execution_count": null,
   "id": "0558c254",
   "metadata": {},
   "outputs": [],
   "source": [
    "plt.plot(test_target, label = \"Actual Data\")\n",
    "plt.plot(test_predict, label = \"LSTM Predictions\")\n",
    "plt.savefig(\"small_plot.png\", dpi = 300)\n",
    "plt.show();"
   ]
  },
  {
   "cell_type": "markdown",
   "id": "98e8e3d1",
   "metadata": {},
   "source": [
    "This is good. If we feed the last 100 days of information, our model successfully predicts a steady decline in the price of Bitcoin over the next 50 days. For one last plot, let's put this in perspective of the scale of the data. "
   ]
  },
  {
   "cell_type": "code",
   "execution_count": null,
   "id": "09353f3c",
   "metadata": {},
   "outputs": [],
   "source": [
    "plt.figure(figsize=(10,6))\n",
    "a = [x for x in range(2500, len(y))]\n",
    "plt.plot(a, y[2500:], label=\"Actual Data\"); \n",
    "c = [x for x in range (len(y)-forward_window, len(y))]\n",
    "plt.plot(c, test_predict, label = \"One-shot multi-step prediction (50 days)\")\n",
    "plt.axvline(x=len(y)-forward_window, c='r', linestyle=\"--\")\n",
    "plt.legend()\n",
    "plt.show()"
   ]
  },
  {
   "cell_type": "markdown",
   "id": "37ce39bc",
   "metadata": {},
   "source": [
    "So, if we'd run our model on 26 Nov 2021, we would have been correct in selling off our Bitcoin. The model correctly predicts a price drop, as well as the rate at which it drops. \n",
    "\n",
    "This orange whole curve is generated without looking at ANY target data. Yes, to be fair, the model is very familiar with all the actual targets before the dashed red line. However, once we move past the training set into the test set the model has no idea what the test targets are. It has to generate its prediction  from the input feature only. "
   ]
  },
  {
   "cell_type": "markdown",
   "id": "bde103c2",
   "metadata": {},
   "source": [
    "# Conclusion"
   ]
  },
  {
   "cell_type": "code",
   "execution_count": null,
   "id": "fc05dfb4",
   "metadata": {},
   "outputs": [],
   "source": [
    "r2 = r2_score(test_target, test_predict)\n",
    "r2"
   ]
  },
  {
   "cell_type": "code",
   "execution_count": null,
   "id": "8be8ad20",
   "metadata": {},
   "outputs": [],
   "source": [
    "test_target"
   ]
  },
  {
   "cell_type": "code",
   "execution_count": null,
   "id": "3c90c81c",
   "metadata": {},
   "outputs": [],
   "source": [
    "test_predict"
   ]
  },
  {
   "cell_type": "code",
   "execution_count": null,
   "id": "85c2dab5",
   "metadata": {},
   "outputs": [],
   "source": [
    "\n",
    "root_mean_squared_error(test_target, test_predict)"
   ]
  },
  {
   "cell_type": "code",
   "execution_count": null,
   "id": "3b61ef9c",
   "metadata": {},
   "outputs": [],
   "source": []
  },
  {
   "cell_type": "code",
   "execution_count": null,
   "id": "e25cdebd",
   "metadata": {},
   "outputs": [],
   "source": []
  },
  {
   "cell_type": "code",
   "execution_count": null,
   "id": "b9c6573b",
   "metadata": {},
   "outputs": [],
   "source": []
  },
  {
   "cell_type": "code",
   "execution_count": null,
   "id": "4537624a",
   "metadata": {},
   "outputs": [],
   "source": [
    "total_samples = len(X_windows)\n",
    "total_samples"
   ]
  },
  {
   "cell_type": "code",
   "execution_count": null,
   "id": "c9da92f3",
   "metadata": {},
   "outputs": [],
   "source": [
    "train_test_cutoff = round(0.10 * total_samples)\n",
    "train_test_cutoff"
   ]
  },
  {
   "cell_type": "code",
   "execution_count": null,
   "id": "985f4e96",
   "metadata": {},
   "outputs": [],
   "source": []
  }
 ],
 "metadata": {
  "kernelspec": {
   "display_name": "toy_transformer",
   "language": "python",
   "name": "python3"
  },
  "language_info": {
   "codemirror_mode": {
    "name": "ipython",
    "version": 3
   },
   "file_extension": ".py",
   "mimetype": "text/x-python",
   "name": "python",
   "nbconvert_exporter": "python",
   "pygments_lexer": "ipython3",
   "version": "3.10.16"
  }
 },
 "nbformat": 4,
 "nbformat_minor": 5
}
