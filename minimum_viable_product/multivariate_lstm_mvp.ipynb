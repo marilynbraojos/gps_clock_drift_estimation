{
 "cells": [
  {
   "cell_type": "code",
   "execution_count": 1,
   "id": "5019b81e",
   "metadata": {},
   "outputs": [],
   "source": [
    "# https://charlieoneill.medium.com/predicting-the-price-of-bitcoin-with-multivariate-pytorch-lstms-695bc294130"
   ]
  },
  {
   "cell_type": "markdown",
   "id": "66ab6f58",
   "metadata": {},
   "source": [
    "# Introduction\n",
    "\n",
    "This tutorial focuses on predicting financial data. We have historical Bitcoin data with daily predictors and daily timesteps: \n",
    "- Opening price \n",
    "- High price \n",
    "- Low price \n",
    "- Volume traded\n",
    "\n",
    "The objective is to take in a sequence of the above 4 values (i.e. from 100 previous days) to predict the target variable (Bitcoin's price) for the next 50 days in the future."
   ]
  },
  {
   "cell_type": "markdown",
   "id": "7070c10a",
   "metadata": {},
   "source": [
    "# Data Preprocessing\n",
    "\n",
    "<del>Because financial data is readily available, we can use that from Yahoo historical prices for Bitcoin - available from 9/17/2014 until 1/14/2022.\n",
    "\n",
    "<del> **Note:** YFinance has placed this data currently behind a paywall. Instead I will import the data from YFinance. \n",
    "\n",
    "Now, that we have completed the tutorial let's apply this to our data."
   ]
  },
  {
   "cell_type": "code",
   "execution_count": null,
   "id": "1e641abe",
   "metadata": {},
   "outputs": [],
   "source": [
    "# import yfinance as yf"
   ]
  },
  {
   "cell_type": "code",
   "execution_count": 3,
   "id": "a874d573",
   "metadata": {},
   "outputs": [],
   "source": [
    "# data = yf.download(\"BTC-USD\", start=\"2014-09-17\", end=\"2022-01-15\")\n",
    "# data.to_csv(\"BTC-USD.csv\")"
   ]
  },
  {
   "cell_type": "code",
   "execution_count": 4,
   "id": "451c16f9",
   "metadata": {},
   "outputs": [],
   "source": [
    "prediction_window = 10\n",
    "forward_window = 20"
   ]
  },
  {
   "cell_type": "code",
   "execution_count": 5,
   "id": "5c607d66",
   "metadata": {},
   "outputs": [],
   "source": [
    "filename = \"5_resampled_1min_interval.csv\""
   ]
  },
  {
   "cell_type": "code",
   "execution_count": 6,
   "id": "31751eda",
   "metadata": {},
   "outputs": [
    {
     "data": {
      "text/html": [
       "<div>\n",
       "<style scoped>\n",
       "    .dataframe tbody tr th:only-of-type {\n",
       "        vertical-align: middle;\n",
       "    }\n",
       "\n",
       "    .dataframe tbody tr th {\n",
       "        vertical-align: top;\n",
       "    }\n",
       "\n",
       "    .dataframe thead th {\n",
       "        text-align: right;\n",
       "    }\n",
       "</style>\n",
       "<table border=\"1\" class=\"dataframe\">\n",
       "  <thead>\n",
       "    <tr style=\"text-align: right;\">\n",
       "      <th></th>\n",
       "      <th>0</th>\n",
       "      <th>1</th>\n",
       "      <th>2</th>\n",
       "      <th>3</th>\n",
       "      <th>4</th>\n",
       "      <th>5</th>\n",
       "      <th>6</th>\n",
       "      <th>7</th>\n",
       "      <th>8</th>\n",
       "      <th>9</th>\n",
       "      <th>...</th>\n",
       "      <th>308181</th>\n",
       "      <th>308182</th>\n",
       "      <th>308183</th>\n",
       "      <th>308184</th>\n",
       "      <th>308185</th>\n",
       "      <th>308186</th>\n",
       "      <th>308187</th>\n",
       "      <th>308188</th>\n",
       "      <th>308189</th>\n",
       "      <th>308190</th>\n",
       "    </tr>\n",
       "  </thead>\n",
       "  <tbody>\n",
       "    <tr>\n",
       "      <th>SV Name</th>\n",
       "      <td>1</td>\n",
       "      <td>1</td>\n",
       "      <td>1</td>\n",
       "      <td>1</td>\n",
       "      <td>1</td>\n",
       "      <td>1</td>\n",
       "      <td>1</td>\n",
       "      <td>1</td>\n",
       "      <td>1</td>\n",
       "      <td>1</td>\n",
       "      <td>...</td>\n",
       "      <td>32</td>\n",
       "      <td>32</td>\n",
       "      <td>32</td>\n",
       "      <td>32</td>\n",
       "      <td>32</td>\n",
       "      <td>32</td>\n",
       "      <td>32</td>\n",
       "      <td>32</td>\n",
       "      <td>32</td>\n",
       "      <td>32</td>\n",
       "    </tr>\n",
       "    <tr>\n",
       "      <th>epoch</th>\n",
       "      <td>2018-04-15 00:00:00</td>\n",
       "      <td>2018-04-15 00:01:00</td>\n",
       "      <td>2018-04-15 00:02:00</td>\n",
       "      <td>2018-04-15 00:03:00</td>\n",
       "      <td>2018-04-15 00:04:00</td>\n",
       "      <td>2018-04-15 00:05:00</td>\n",
       "      <td>2018-04-15 00:06:00</td>\n",
       "      <td>2018-04-15 00:07:00</td>\n",
       "      <td>2018-04-15 00:08:00</td>\n",
       "      <td>2018-04-15 00:09:00</td>\n",
       "      <td>...</td>\n",
       "      <td>2018-04-21 21:51:00</td>\n",
       "      <td>2018-04-21 21:52:00</td>\n",
       "      <td>2018-04-21 21:53:00</td>\n",
       "      <td>2018-04-21 21:54:00</td>\n",
       "      <td>2018-04-21 21:55:00</td>\n",
       "      <td>2018-04-21 21:56:00</td>\n",
       "      <td>2018-04-21 21:57:00</td>\n",
       "      <td>2018-04-21 21:58:00</td>\n",
       "      <td>2018-04-21 21:59:00</td>\n",
       "      <td>2018-04-21 22:00:00</td>\n",
       "    </tr>\n",
       "    <tr>\n",
       "      <th>Clock Bias (seconds)</th>\n",
       "      <td>-0.000041</td>\n",
       "      <td>-0.000041</td>\n",
       "      <td>-0.000041</td>\n",
       "      <td>-0.000041</td>\n",
       "      <td>-0.000041</td>\n",
       "      <td>-0.000041</td>\n",
       "      <td>-0.000041</td>\n",
       "      <td>-0.000041</td>\n",
       "      <td>-0.000041</td>\n",
       "      <td>-0.000041</td>\n",
       "      <td>...</td>\n",
       "      <td>-0.000518</td>\n",
       "      <td>-0.000518</td>\n",
       "      <td>-0.000518</td>\n",
       "      <td>-0.000518</td>\n",
       "      <td>-0.000518</td>\n",
       "      <td>-0.000518</td>\n",
       "      <td>-0.000518</td>\n",
       "      <td>-0.000518</td>\n",
       "      <td>-0.000518</td>\n",
       "      <td>-0.000518</td>\n",
       "    </tr>\n",
       "    <tr>\n",
       "      <th>File</th>\n",
       "      <td>KITG00UZB_R_20181040000_01D_GN.rnx</td>\n",
       "      <td>NaN</td>\n",
       "      <td>NaN</td>\n",
       "      <td>NaN</td>\n",
       "      <td>NaN</td>\n",
       "      <td>NaN</td>\n",
       "      <td>NaN</td>\n",
       "      <td>NaN</td>\n",
       "      <td>NaN</td>\n",
       "      <td>NaN</td>\n",
       "      <td>...</td>\n",
       "      <td>NaN</td>\n",
       "      <td>NaN</td>\n",
       "      <td>NaN</td>\n",
       "      <td>NaN</td>\n",
       "      <td>NaN</td>\n",
       "      <td>NaN</td>\n",
       "      <td>NaN</td>\n",
       "      <td>NaN</td>\n",
       "      <td>NaN</td>\n",
       "      <td>BRUX00BEL_R_20181120000_01D_GN.rnx</td>\n",
       "    </tr>\n",
       "  </tbody>\n",
       "</table>\n",
       "<p>4 rows × 308191 columns</p>\n",
       "</div>"
      ],
      "text/plain": [
       "                                                  0                    1       \\\n",
       "SV Name                                                1                    1   \n",
       "epoch                                2018-04-15 00:00:00  2018-04-15 00:01:00   \n",
       "Clock Bias (seconds)                           -0.000041            -0.000041   \n",
       "File                  KITG00UZB_R_20181040000_01D_GN.rnx                  NaN   \n",
       "\n",
       "                                   2                    3       \\\n",
       "SV Name                                 1                    1   \n",
       "epoch                 2018-04-15 00:02:00  2018-04-15 00:03:00   \n",
       "Clock Bias (seconds)            -0.000041            -0.000041   \n",
       "File                                  NaN                  NaN   \n",
       "\n",
       "                                   4                    5       \\\n",
       "SV Name                                 1                    1   \n",
       "epoch                 2018-04-15 00:04:00  2018-04-15 00:05:00   \n",
       "Clock Bias (seconds)            -0.000041            -0.000041   \n",
       "File                                  NaN                  NaN   \n",
       "\n",
       "                                   6                    7       \\\n",
       "SV Name                                 1                    1   \n",
       "epoch                 2018-04-15 00:06:00  2018-04-15 00:07:00   \n",
       "Clock Bias (seconds)            -0.000041            -0.000041   \n",
       "File                                  NaN                  NaN   \n",
       "\n",
       "                                   8                    9       ...  \\\n",
       "SV Name                                 1                    1  ...   \n",
       "epoch                 2018-04-15 00:08:00  2018-04-15 00:09:00  ...   \n",
       "Clock Bias (seconds)            -0.000041            -0.000041  ...   \n",
       "File                                  NaN                  NaN  ...   \n",
       "\n",
       "                                   308181               308182  \\\n",
       "SV Name                                32                   32   \n",
       "epoch                 2018-04-21 21:51:00  2018-04-21 21:52:00   \n",
       "Clock Bias (seconds)            -0.000518            -0.000518   \n",
       "File                                  NaN                  NaN   \n",
       "\n",
       "                                   308183               308184  \\\n",
       "SV Name                                32                   32   \n",
       "epoch                 2018-04-21 21:53:00  2018-04-21 21:54:00   \n",
       "Clock Bias (seconds)            -0.000518            -0.000518   \n",
       "File                                  NaN                  NaN   \n",
       "\n",
       "                                   308185               308186  \\\n",
       "SV Name                                32                   32   \n",
       "epoch                 2018-04-21 21:55:00  2018-04-21 21:56:00   \n",
       "Clock Bias (seconds)            -0.000518            -0.000518   \n",
       "File                                  NaN                  NaN   \n",
       "\n",
       "                                   308187               308188  \\\n",
       "SV Name                                32                   32   \n",
       "epoch                 2018-04-21 21:57:00  2018-04-21 21:58:00   \n",
       "Clock Bias (seconds)            -0.000518            -0.000518   \n",
       "File                                  NaN                  NaN   \n",
       "\n",
       "                                   308189                              308190  \n",
       "SV Name                                32                                  32  \n",
       "epoch                 2018-04-21 21:59:00                 2018-04-21 22:00:00  \n",
       "Clock Bias (seconds)            -0.000518                           -0.000518  \n",
       "File                                  NaN  BRUX00BEL_R_20181120000_01D_GN.rnx  \n",
       "\n",
       "[4 rows x 308191 columns]"
      ]
     },
     "execution_count": 6,
     "metadata": {},
     "output_type": "execute_result"
    }
   ],
   "source": [
    "import pandas as pd \n",
    "\n",
    "# data = pd.read_csv(\"BTC-USD.csv\", skiprows=[1,2])\n",
    "# data\n",
    "\n",
    "df = pd.read_csv(filename)\n",
    "\n",
    "df = df[[\"SV Name\", \"epoch\", \"Clock Bias (seconds)\", \"File\"]]\n",
    "df.T"
   ]
  },
  {
   "cell_type": "code",
   "execution_count": 7,
   "id": "a8929f4f",
   "metadata": {},
   "outputs": [],
   "source": [
    "# data.rename(columns={\"Price\": \"Date\"}, inplace=True)\n",
    "# data"
   ]
  },
  {
   "cell_type": "code",
   "execution_count": 8,
   "id": "2a0e0d63",
   "metadata": {},
   "outputs": [],
   "source": [
    "# data.to_csv(\"BTC-USD.csv\", index=False)"
   ]
  },
  {
   "cell_type": "code",
   "execution_count": 9,
   "id": "7e678320",
   "metadata": {},
   "outputs": [],
   "source": [
    "# pd.read_csv(\"BTC-USD.csv\")"
   ]
  },
  {
   "cell_type": "code",
   "execution_count": 10,
   "id": "97a95c04",
   "metadata": {},
   "outputs": [
    {
     "data": {
      "text/html": [
       "<div>\n",
       "<style scoped>\n",
       "    .dataframe tbody tr th:only-of-type {\n",
       "        vertical-align: middle;\n",
       "    }\n",
       "\n",
       "    .dataframe tbody tr th {\n",
       "        vertical-align: top;\n",
       "    }\n",
       "\n",
       "    .dataframe thead th {\n",
       "        text-align: right;\n",
       "    }\n",
       "</style>\n",
       "<table border=\"1\" class=\"dataframe\">\n",
       "  <thead>\n",
       "    <tr style=\"text-align: right;\">\n",
       "      <th></th>\n",
       "      <th>SV Name</th>\n",
       "      <th>Clock Bias (seconds)</th>\n",
       "    </tr>\n",
       "  </thead>\n",
       "  <tbody>\n",
       "    <tr>\n",
       "      <th>count</th>\n",
       "      <td>308191.000000</td>\n",
       "      <td>308191.000000</td>\n",
       "    </tr>\n",
       "    <tr>\n",
       "      <th>mean</th>\n",
       "      <td>16.904595</td>\n",
       "      <td>-0.000005</td>\n",
       "    </tr>\n",
       "    <tr>\n",
       "      <th>std</th>\n",
       "      <td>9.100347</td>\n",
       "      <td>0.000343</td>\n",
       "    </tr>\n",
       "    <tr>\n",
       "      <th>min</th>\n",
       "      <td>1.000000</td>\n",
       "      <td>-0.000737</td>\n",
       "    </tr>\n",
       "    <tr>\n",
       "      <th>25%</th>\n",
       "      <td>9.000000</td>\n",
       "      <td>-0.000218</td>\n",
       "    </tr>\n",
       "    <tr>\n",
       "      <th>50%</th>\n",
       "      <td>17.000000</td>\n",
       "      <td>-0.000010</td>\n",
       "    </tr>\n",
       "    <tr>\n",
       "      <th>75%</th>\n",
       "      <td>25.000000</td>\n",
       "      <td>0.000205</td>\n",
       "    </tr>\n",
       "    <tr>\n",
       "      <th>max</th>\n",
       "      <td>32.000000</td>\n",
       "      <td>0.000708</td>\n",
       "    </tr>\n",
       "  </tbody>\n",
       "</table>\n",
       "</div>"
      ],
      "text/plain": [
       "             SV Name  Clock Bias (seconds)\n",
       "count  308191.000000         308191.000000\n",
       "mean       16.904595             -0.000005\n",
       "std         9.100347              0.000343\n",
       "min         1.000000             -0.000737\n",
       "25%         9.000000             -0.000218\n",
       "50%        17.000000             -0.000010\n",
       "75%        25.000000              0.000205\n",
       "max        32.000000              0.000708"
      ]
     },
     "execution_count": 10,
     "metadata": {},
     "output_type": "execute_result"
    }
   ],
   "source": [
    "df.describe()"
   ]
  },
  {
   "cell_type": "markdown",
   "id": "0b74f6d5",
   "metadata": {},
   "source": [
    "# Continuing article's work"
   ]
  },
  {
   "cell_type": "code",
   "execution_count": 11,
   "id": "4b1a7e95",
   "metadata": {},
   "outputs": [
    {
     "data": {
      "text/html": [
       "<div>\n",
       "<style scoped>\n",
       "    .dataframe tbody tr th:only-of-type {\n",
       "        vertical-align: middle;\n",
       "    }\n",
       "\n",
       "    .dataframe tbody tr th {\n",
       "        vertical-align: top;\n",
       "    }\n",
       "\n",
       "    .dataframe thead th {\n",
       "        text-align: right;\n",
       "    }\n",
       "</style>\n",
       "<table border=\"1\" class=\"dataframe\">\n",
       "  <thead>\n",
       "    <tr style=\"text-align: right;\">\n",
       "      <th></th>\n",
       "      <th>SV Name</th>\n",
       "      <th>Clock Bias (seconds)</th>\n",
       "      <th>File</th>\n",
       "    </tr>\n",
       "    <tr>\n",
       "      <th>epoch</th>\n",
       "      <th></th>\n",
       "      <th></th>\n",
       "      <th></th>\n",
       "    </tr>\n",
       "  </thead>\n",
       "  <tbody>\n",
       "    <tr>\n",
       "      <th>2018-04-15 00:00:00</th>\n",
       "      <td>1</td>\n",
       "      <td>-0.000041</td>\n",
       "      <td>KITG00UZB_R_20181040000_01D_GN.rnx</td>\n",
       "    </tr>\n",
       "    <tr>\n",
       "      <th>2018-04-15 00:01:00</th>\n",
       "      <td>1</td>\n",
       "      <td>-0.000041</td>\n",
       "      <td>NaN</td>\n",
       "    </tr>\n",
       "    <tr>\n",
       "      <th>2018-04-15 00:02:00</th>\n",
       "      <td>1</td>\n",
       "      <td>-0.000041</td>\n",
       "      <td>NaN</td>\n",
       "    </tr>\n",
       "    <tr>\n",
       "      <th>2018-04-15 00:03:00</th>\n",
       "      <td>1</td>\n",
       "      <td>-0.000041</td>\n",
       "      <td>NaN</td>\n",
       "    </tr>\n",
       "    <tr>\n",
       "      <th>2018-04-15 00:04:00</th>\n",
       "      <td>1</td>\n",
       "      <td>-0.000041</td>\n",
       "      <td>NaN</td>\n",
       "    </tr>\n",
       "  </tbody>\n",
       "</table>\n",
       "</div>"
      ],
      "text/plain": [
       "                     SV Name  Clock Bias (seconds)  \\\n",
       "epoch                                                \n",
       "2018-04-15 00:00:00        1             -0.000041   \n",
       "2018-04-15 00:01:00        1             -0.000041   \n",
       "2018-04-15 00:02:00        1             -0.000041   \n",
       "2018-04-15 00:03:00        1             -0.000041   \n",
       "2018-04-15 00:04:00        1             -0.000041   \n",
       "\n",
       "                                                   File  \n",
       "epoch                                                    \n",
       "2018-04-15 00:00:00  KITG00UZB_R_20181040000_01D_GN.rnx  \n",
       "2018-04-15 00:01:00                                 NaN  \n",
       "2018-04-15 00:02:00                                 NaN  \n",
       "2018-04-15 00:03:00                                 NaN  \n",
       "2018-04-15 00:04:00                                 NaN  "
      ]
     },
     "execution_count": 11,
     "metadata": {},
     "output_type": "execute_result"
    }
   ],
   "source": [
    "# df = pd.read_csv('BTC-USD.csv', index_col = 'Date', parse_dates=True)\n",
    "# df.head(5)\n",
    "\n",
    "df = pd.read_csv(filename, index_col = 'epoch', parse_dates=True)\n",
    "df = df[[\"SV Name\", \"Clock Bias (seconds)\", \"File\"]]\n",
    "df = df[df[\"SV Name\"] == 1]\n",
    "df.head(5)"
   ]
  },
  {
   "cell_type": "code",
   "execution_count": 12,
   "id": "291ea01b",
   "metadata": {},
   "outputs": [],
   "source": [
    "# df = df.drop(columns=[\"File\", \"SV Name.1\"])"
   ]
  },
  {
   "cell_type": "code",
   "execution_count": 13,
   "id": "3aa5555d",
   "metadata": {},
   "outputs": [
    {
     "data": {
      "text/plain": [
       "epoch\n",
       "2018-04-15 00:00:00   -0.000041\n",
       "2018-04-15 00:01:00   -0.000041\n",
       "2018-04-15 00:02:00   -0.000041\n",
       "2018-04-15 00:03:00   -0.000041\n",
       "2018-04-15 00:04:00   -0.000041\n",
       "                         ...   \n",
       "2018-04-21 21:56:00   -0.000042\n",
       "2018-04-21 21:57:00   -0.000042\n",
       "2018-04-21 21:58:00   -0.000042\n",
       "2018-04-21 21:59:00   -0.000042\n",
       "2018-04-21 22:00:00   -0.000042\n",
       "Name: Clock Bias (seconds), Length: 9961, dtype: float64"
      ]
     },
     "execution_count": 13,
     "metadata": {},
     "output_type": "execute_result"
    }
   ],
   "source": [
    "df[(df[\"SV Name\"] == 1)][\"Clock Bias (seconds)\"]"
   ]
  },
  {
   "cell_type": "markdown",
   "id": "952236a6",
   "metadata": {},
   "source": [
    "Visualize your data by plotting the target variable of interest. It is recommended to regress the target variable on the predictors to look for linear relationships between variables. "
   ]
  },
  {
   "cell_type": "code",
   "execution_count": 14,
   "id": "ed7288bf",
   "metadata": {},
   "outputs": [
    {
     "data": {
      "image/png": "[encoded data removed]",
      "text/plain": [
       "<Figure size 640x480 with 1 Axes>"
      ]
     },
     "metadata": {},
     "output_type": "display_data"
    }
   ],
   "source": [
    "# import matplotlib.pyplot as plt\n",
    "\n",
    "# plt.plot(df.Close)\n",
    "# plt.xlabel(\"Time\")\n",
    "# plt.ylabel(\"Price (USD)\")\n",
    "# plt.title(\"Bitcoin price over time\")\n",
    "# plt.savefig(\"initial_plot.png\", dpi = 250)\n",
    "# plt.show(); \n",
    "\n",
    "import matplotlib.pyplot as plt\n",
    "\n",
    "plt.plot(df[(df[\"SV Name\"] == 1)][\"Clock Bias (seconds)\"])\n",
    "plt.xlabel(\"Time\")\n",
    "plt.ylabel(\"Clock Bias (seconds)\")\n",
    "plt.xticks(rotation=90)\n",
    "plt.title(\"Clock Bias for SV1 over time\")\n",
    "plt.savefig(\"sv1_clock_bias_plot.png\", dpi = 250)\n",
    "plt.show(); "
   ]
  },
  {
   "cell_type": "markdown",
   "id": "11f317a0",
   "metadata": {},
   "source": [
    "# Seeing inputs and outputs\n",
    "\n",
    "Our predictors consist of all the columns except the target, in this case the closing price. We can use the <code>sklearn</code> processor to reshape the array if it consists of a single feature, as our target does. Therefore, for target, <code>y</code>, we call <code>values</code>. This removes the axis labels to enable us to reshape the array. "
   ]
  },
  {
   "cell_type": "code",
   "execution_count": 15,
   "id": "5c71b3e9",
   "metadata": {},
   "outputs": [
    {
     "data": {
      "text/plain": [
       "((9961, 2), (9961,))"
      ]
     },
     "execution_count": 15,
     "metadata": {},
     "output_type": "execute_result"
    }
   ],
   "source": [
    "X, y = df.drop(columns=['File']), df['Clock Bias (seconds)'] # in this case, it would be useful to have col names without spaces \n",
    "X.shape, y.shape"
   ]
  },
  {
   "cell_type": "markdown",
   "id": "0c099b39",
   "metadata": {},
   "source": [
    "Now, we can standardize the features. We'll use standardization for our training features, <code>x</code> by removing the mean and scaling to unit variance. \n",
    "\n",
    "Standardization enables the model to learn by ensuring that parameters can exist in the same multi-dimensional space. It wouldn't make much sense to have the weights have to change their size simply because the variables are on different scales. For our target <code>y</code>, we will scale and translate each feature individually between 0 and 1. This transformation is often used as an alternative to zero mean, unit variance, scaling. "
   ]
  },
  {
   "cell_type": "code",
   "execution_count": 16,
   "id": "654e01d9",
   "metadata": {},
   "outputs": [],
   "source": [
    "from sklearn.preprocessing import StandardScaler, MinMaxScaler\n",
    "\n",
    "mm = MinMaxScaler()\n",
    "ss = StandardScaler()\n",
    "\n",
    "X_trans = ss.fit_transform(X)\n",
    "# y_trans = mm.fit_transform(y.reshape(-1,1)) # reshape has been deprecated https://stackoverflow.com/questions/53723928/attributeerror-series-object-has-no-attribute-reshape \n",
    "y_trans = mm.fit_transform(y.values.reshape(-1,1))"
   ]
  },
  {
   "cell_type": "markdown",
   "id": "57be43ce",
   "metadata": {},
   "source": [
    "This is the \"fiddly\" part. We want to feed 100 samples, up to the current day, and predict the next 50 time step values. To do this, we need a special function to ensure that the corresponding indices of <code>X</code> and y represent this structure. Examine this function carefully but it just boils down to getting 100 samples from <code>X</code>, then looking at the next 50 indices in y and pathing these together. Note that because of this we'll throw out the first 50 values of <code>y</code>."
   ]
  },
  {
   "cell_type": "code",
   "execution_count": 17,
   "id": "b9e78f40",
   "metadata": {},
   "outputs": [
    {
     "name": "stdout",
     "output_type": "stream",
     "text": [
      "(9933, 10, 2) (9933, 20)\n"
     ]
    }
   ],
   "source": [
    "import numpy as np \n",
    "\n",
    "def split_sequences(input_sequences, output_sequence, n_steps_in, n_steps_out):\n",
    "    X, y = list(), list()\n",
    "    for i in range(len(input_sequences)):\n",
    "        # find the end of the input, output sequence\n",
    "        end_ix = i + n_steps_in\n",
    "        out_end_ix = end_ix + n_steps_out - 1\n",
    "\n",
    "        # check if we are beyond the dataset\n",
    "        if out_end_ix > len(input_sequences): break\n",
    "\n",
    "        # gather input and output of the pattern \n",
    "        seq_x, seq_y = input_sequences[i:end_ix], output_sequence[end_ix-1:out_end_ix, -1]\n",
    "        X.append(seq_x), y.append(seq_y)\n",
    "    return np.array(X), np.array(y)\n",
    "\n",
    "X_ss, y_mm = split_sequences(X_trans, y_trans, prediction_window, forward_window)\n",
    "print(X_ss.shape, y_mm.shape)\n"
   ]
  },
  {
   "cell_type": "markdown",
   "id": "43a1a927",
   "metadata": {},
   "source": [
    "Let's check if the first sample in <code>y_mm</code> starts at the 100th sample in the original <code>y</code> vector"
   ]
  },
  {
   "cell_type": "code",
   "execution_count": 18,
   "id": "4bc6e04e",
   "metadata": {},
   "outputs": [],
   "source": [
    "assert y_mm[0].all() == y_trans[99:149].squeeze(1).all()"
   ]
  },
  {
   "cell_type": "code",
   "execution_count": 19,
   "id": "30e31d93",
   "metadata": {},
   "outputs": [
    {
     "data": {
      "text/plain": [
       "array([0.99911287, 0.9990143 , 0.99891573, 0.99881716, 0.99871859,\n",
       "       0.99862001, 0.99852144, 0.99842287, 0.9983243 , 0.99822573,\n",
       "       0.99812716, 0.99802859, 0.99793002, 0.99783145, 0.99773288,\n",
       "       0.99763431, 0.99753574, 0.99743717, 0.9973386 , 0.99724003])"
      ]
     },
     "execution_count": 19,
     "metadata": {},
     "output_type": "execute_result"
    }
   ],
   "source": [
    "y_mm[0]"
   ]
  },
  {
   "cell_type": "code",
   "execution_count": 20,
   "id": "b8613e62",
   "metadata": {},
   "outputs": [
    {
     "data": {
      "text/plain": [
       "array([0.99024153, 0.99014296, 0.99004439, 0.98994582, 0.98984725,\n",
       "       0.98974868, 0.98965011, 0.98955154, 0.98945297, 0.9893544 ,\n",
       "       0.98925583, 0.98915726, 0.98905869, 0.98896012, 0.98886155,\n",
       "       0.98876298, 0.98866441, 0.98856584, 0.98846727, 0.9883687 ,\n",
       "       0.98827012, 0.98817155, 0.98807185, 0.98797215, 0.98787245,\n",
       "       0.98777276, 0.98767306, 0.98757336, 0.98747366, 0.98737396,\n",
       "       0.98727426, 0.98717456, 0.98707486, 0.98697516, 0.98687546,\n",
       "       0.98677576, 0.98667606, 0.98657636, 0.98647666, 0.98637696,\n",
       "       0.98627726, 0.98617756, 0.98607786, 0.98597816, 0.98587846,\n",
       "       0.98577876, 0.98567906, 0.98557936, 0.98547966, 0.98537996])"
      ]
     },
     "execution_count": 20,
     "metadata": {},
     "output_type": "execute_result"
    }
   ],
   "source": [
    "y_trans[99:149].squeeze(1)"
   ]
  },
  {
   "cell_type": "markdown",
   "id": "de9dd364",
   "metadata": {},
   "source": [
    "We want to predict the data several months into the future, therefore we can use a training data size of 95% with 5% left for the remaining data for prediction. This gives us a training set of 2763 day (or 7.5 years) and predicting 145 days into the future (5 months). "
   ]
  },
  {
   "cell_type": "code",
   "execution_count": 21,
   "id": "4537624a",
   "metadata": {},
   "outputs": [],
   "source": [
    "total_samples = len(X)\n",
    "train_test_cutoff = round(0.90 * total_samples)"
   ]
  },
  {
   "cell_type": "code",
   "execution_count": 22,
   "id": "0edc5a26",
   "metadata": {},
   "outputs": [],
   "source": [
    "X_train = X_ss[:-150]\n",
    "X_test = X_ss[-150:]"
   ]
  },
  {
   "cell_type": "code",
   "execution_count": 23,
   "id": "e3d07249",
   "metadata": {},
   "outputs": [],
   "source": [
    "y_train = y_mm[:-150]\n",
    "y_test = y_mm[-150:]"
   ]
  },
  {
   "cell_type": "code",
   "execution_count": 24,
   "id": "d2c5f354",
   "metadata": {},
   "outputs": [
    {
     "name": "stdout",
     "output_type": "stream",
     "text": [
      "Training Shape: (9783, 10, 2) (9783, 20)\n",
      "Testing Shape: (150, 10, 2) (150, 20)\n"
     ]
    }
   ],
   "source": [
    "print(\"Training Shape:\", X_train.shape, y_train.shape)\n",
    "print(\"Testing Shape:\", X_test.shape, y_test.shape)"
   ]
  },
  {
   "cell_type": "markdown",
   "id": "5440df4d",
   "metadata": {},
   "source": [
    "Now we convert our data into tensors by calling <code>torch.tensor()</code> on our object, and setting the property <code>requires_grad = True</code>. Some old PyTorch tutorials might indicate that we need to apply <code>Variable</code> on here but this is deprecated. Now the input tensor to be forward propagated has to be can faciliate automatic back propagation through <code> backward()</code> without being wrapped."
   ]
  },
  {
   "cell_type": "code",
   "execution_count": 25,
   "id": "034616db",
   "metadata": {},
   "outputs": [],
   "source": [
    "import torch \n",
    "\n",
    "# convert to pytorch tensors \n",
    "X_train_tensors = torch.Tensor(X_train)\n",
    "X_test_tensors = torch.Tensor(X_test)\n",
    "\n",
    "y_train_tensors = torch.Tensor(y_train)\n",
    "y_test_tensors = torch.Tensor(y_test)"
   ]
  },
  {
   "cell_type": "markdown",
   "id": "e06cb075",
   "metadata": {
    "vscode": {
     "languageId": "bat"
    }
   },
   "source": [
    "Looking through the documentation for a multi-layer <code>torch.nn.LSTM</code> shows that the input shape depends on whether the parameter <code>batch_first</code> is true. Since we are accustomed to having the first dimension be the batch, we can set <code>batch_first</code> to true. The size of the input is then <code>(N, L, H_in)</code> where\n",
    "\n",
    "- N is the batch size \n",
    "- L is the sequence length\n",
    "- H_in is the input size (number of features)\n",
    "\n",
    "In other words, we wantt eh dimensions to be the rows of the dataframe in the first dimension. Followed by the length of the dataframe in the next dimension to represent the length of the input sequence, and finally the feature of which we have 4 in the final dimension. \n",
    "\n",
    "To reshape the tensors into our required shape we can use <code>torch.reshape</code>. This takes as arguments the tensors we are reshaping, and then a tuple of the shape we need to reshape to. For the rows of the dataframe, we can simply look at the shape of the first dimension <code>X_train_tensors.shape[0]</code>. Since we are applying an LSTM, we call tha tthe sequence length we feed in is simply 1 because the whole point of the LSTM is not feeding in tons of data at each because the emory is handled by the inner working of the LSTM cell. \n",
    "\n",
    "The last dimension is the number of features which is stored in the <code>X_train_tensors.shape[1]</code>. "
   ]
  },
  {
   "cell_type": "code",
   "execution_count": 26,
   "id": "f1f58cc0",
   "metadata": {},
   "outputs": [
    {
     "name": "stdout",
     "output_type": "stream",
     "text": [
      "Training shape: torch.Size([9783, 10, 2]) torch.Size([9783, 20])\n",
      "Testing shape: torch.Size([150, 10, 2]) torch.Size([150, 20])\n"
     ]
    }
   ],
   "source": [
    "# reshape to rows, timestamps, features \n",
    "\n",
    "X_train_tensors_final = torch.reshape(X_train_tensors, \n",
    "                                      (X_train_tensors.shape[0], prediction_window, \n",
    "                                      X_train_tensors.shape[2]))\n",
    "\n",
    "X_test_tensors_final = torch.reshape(X_test_tensors, \n",
    "                                     (X_test_tensors.shape[0], prediction_window, \n",
    "                                      X_test_tensors.shape[2]))\n",
    "\n",
    "print(\"Training shape:\", X_train_tensors.shape, y_train_tensors.shape)\n",
    "print(\"Testing shape:\", X_test_tensors_final.shape, y_test_tensors.shape)"
   ]
  },
  {
   "cell_type": "markdown",
   "id": "3f7382d2",
   "metadata": {},
   "source": [
    "Let's make sure that the data logic of the test set checks out. Sequential data is hard to get our heads around and especially when generating a test set for multistep output models. Here, we want to take the 100 previous predictors up to the current time step and predict 50 time steps into the future. In the test set, we have 150 batch feature samples, each consisting of 100 time steps and 4 feature predictors. \n",
    "\n",
    "In the targets for the test set, we again have 150 batch samples, each consisting of an array of length 50 of scalar outputs. "
   ]
  },
  {
   "cell_type": "markdown",
   "id": "2af31754",
   "metadata": {},
   "source": [
    "Since we want a way to validate our results, we need to predict the Bitcoin price for 50 time steps in the test set for which we have the data (i.e. the test targets). Because of the way we wrote the <code> split_sequence()</code>, we just need the last sample of 100 days in <code>X_test</code>, run the model on it and compare those predictions with the last sample of the 50 days of <code>y_test</code>. These correspond to a period of 100 days in the <code>X_test</code>'s last sample, proceeded immediately by the next 50 days in the last sample of <code>y_test</code>. "
   ]
  },
  {
   "cell_type": "code",
   "execution_count": 27,
   "id": "ebab4211",
   "metadata": {},
   "outputs": [
    {
     "data": {
      "text/plain": [
       "array([[ 1.00000000e+00, -4.23277528e-05],\n",
       "       [ 1.00000000e+00, -4.23279114e-05],\n",
       "       [ 1.00000000e+00, -4.23280700e-05],\n",
       "       [ 1.00000000e+00, -4.23282286e-05]])"
      ]
     },
     "execution_count": 27,
     "metadata": {},
     "output_type": "execute_result"
    }
   ],
   "source": [
    "X_check, y_check = split_sequences(X, y.values.reshape(-1,1), prediction_window, forward_window) # see above - just doing y.reshape is deprecated\n",
    "X_check[-1][0:4]"
   ]
  },
  {
   "cell_type": "code",
   "execution_count": 28,
   "id": "98c23be1",
   "metadata": {},
   "outputs": [
    {
     "data": {
      "text/html": [
       "<div>\n",
       "<style scoped>\n",
       "    .dataframe tbody tr th:only-of-type {\n",
       "        vertical-align: middle;\n",
       "    }\n",
       "\n",
       "    .dataframe tbody tr th {\n",
       "        vertical-align: top;\n",
       "    }\n",
       "\n",
       "    .dataframe thead th {\n",
       "        text-align: right;\n",
       "    }\n",
       "</style>\n",
       "<table border=\"1\" class=\"dataframe\">\n",
       "  <thead>\n",
       "    <tr style=\"text-align: right;\">\n",
       "      <th></th>\n",
       "      <th>SV Name</th>\n",
       "      <th>Clock Bias (seconds)</th>\n",
       "    </tr>\n",
       "    <tr>\n",
       "      <th>epoch</th>\n",
       "      <th></th>\n",
       "      <th></th>\n",
       "    </tr>\n",
       "  </thead>\n",
       "  <tbody>\n",
       "    <tr>\n",
       "      <th>2018-04-21 19:32:00</th>\n",
       "      <td>1</td>\n",
       "      <td>-0.000042</td>\n",
       "    </tr>\n",
       "    <tr>\n",
       "      <th>2018-04-21 19:33:00</th>\n",
       "      <td>1</td>\n",
       "      <td>-0.000042</td>\n",
       "    </tr>\n",
       "    <tr>\n",
       "      <th>2018-04-21 19:34:00</th>\n",
       "      <td>1</td>\n",
       "      <td>-0.000042</td>\n",
       "    </tr>\n",
       "    <tr>\n",
       "      <th>2018-04-21 19:35:00</th>\n",
       "      <td>1</td>\n",
       "      <td>-0.000042</td>\n",
       "    </tr>\n",
       "  </tbody>\n",
       "</table>\n",
       "</div>"
      ],
      "text/plain": [
       "                     SV Name  Clock Bias (seconds)\n",
       "epoch                                             \n",
       "2018-04-21 19:32:00        1             -0.000042\n",
       "2018-04-21 19:33:00        1             -0.000042\n",
       "2018-04-21 19:34:00        1             -0.000042\n",
       "2018-04-21 19:35:00        1             -0.000042"
      ]
     },
     "execution_count": 28,
     "metadata": {},
     "output_type": "execute_result"
    }
   ],
   "source": [
    "X.iloc[-149:-145]"
   ]
  },
  {
   "cell_type": "markdown",
   "id": "64414a01",
   "metadata": {},
   "source": [
    "The first four rows of the data match. Note that <code>X_check[-1]</code> should be identical to the <code>X.iloc[-149:-49]</code>, ending 50 days before the end of our dataset. Therefore, we are taking the 100 timesteps of information up to the 26th of Nov 2021, and attempting to predict the 50 days after that up to 14th January 2022. Our final check is to make sure that the final batch sample in our test targets matches these data predictions. "
   ]
  },
  {
   "cell_type": "code",
   "execution_count": 29,
   "id": "26221ef4",
   "metadata": {},
   "outputs": [
    {
     "data": {
      "text/plain": [
       "array([-4.23291801e-05, -4.23293387e-05, -4.23294972e-05, -4.23296558e-05,\n",
       "       -4.23298144e-05, -4.23299730e-05, -4.23301316e-05, -4.23302902e-05,\n",
       "       -4.23304488e-05, -4.23306074e-05, -4.23307659e-05, -4.23309245e-05,\n",
       "       -4.23310831e-05, -4.23312417e-05, -4.23314003e-05, -4.23315589e-05,\n",
       "       -4.23317175e-05, -4.23318760e-05, -4.23320346e-05, -4.23321932e-05])"
      ]
     },
     "execution_count": 29,
     "metadata": {},
     "output_type": "execute_result"
    }
   ],
   "source": [
    "y_check[-1]"
   ]
  },
  {
   "cell_type": "code",
   "execution_count": 30,
   "id": "e1b3245d",
   "metadata": {},
   "outputs": [
    {
     "data": {
      "text/plain": [
       "array([-4.23244225e-05, -4.23245811e-05, -4.23247397e-05, -4.23248982e-05,\n",
       "       -4.23250568e-05, -4.23252154e-05, -4.23253740e-05, -4.23255326e-05,\n",
       "       -4.23256912e-05, -4.23258498e-05, -4.23260083e-05, -4.23261669e-05,\n",
       "       -4.23263255e-05, -4.23264841e-05, -4.23266427e-05, -4.23268013e-05,\n",
       "       -4.23269599e-05, -4.23271185e-05, -4.23272770e-05, -4.23274356e-05,\n",
       "       -4.23275942e-05, -4.23277528e-05, -4.23279114e-05, -4.23280700e-05,\n",
       "       -4.23282286e-05, -4.23283871e-05, -4.23285457e-05, -4.23287043e-05,\n",
       "       -4.23288629e-05, -4.23290215e-05, -4.23291801e-05, -4.23293387e-05,\n",
       "       -4.23294972e-05, -4.23296558e-05, -4.23298144e-05, -4.23299730e-05,\n",
       "       -4.23301316e-05, -4.23302902e-05, -4.23304488e-05, -4.23306074e-05,\n",
       "       -4.23307659e-05, -4.23309245e-05, -4.23310831e-05, -4.23312417e-05,\n",
       "       -4.23314003e-05, -4.23315589e-05, -4.23317175e-05, -4.23318760e-05,\n",
       "       -4.23320346e-05, -4.23321932e-05])"
      ]
     },
     "execution_count": 30,
     "metadata": {},
     "output_type": "execute_result"
    }
   ],
   "source": [
    "df[\"Clock Bias (seconds)\"].values[-50:]"
   ]
  },
  {
   "cell_type": "markdown",
   "id": "5815ef9c",
   "metadata": {},
   "source": [
    "Summary: The main performance test for our model will be on the last batch sample in the test set. This will be predictors rom the 100 time steps up to the 26th of Nov 2021 and this will be used by our model to predict the next 50 days of Bitcoin prices up to the 14th of Jan 2022. In this way, we validate model performance by comparing predcitions to the actual prices in that 50 day window. "
   ]
  },
  {
   "cell_type": "markdown",
   "id": "9be8b75c",
   "metadata": {},
   "source": [
    "# Constructing the LSTM model"
   ]
  },
  {
   "cell_type": "markdown",
   "id": "51d94ac2",
   "metadata": {},
   "source": [
    "Now, let's construct the LSTM class, inheriting from the nn.Module. In constract to the previous univariate LSTM, we're going to build the model with the nn.LSTM rather than nn.LSTMCell because it's good to understand both options and we dont really need the nn.LSTMCell flexibility right now. We know that nn.LSTM is a recurrent application of the nn.LSTMCell. "
   ]
  },
  {
   "cell_type": "code",
   "execution_count": 31,
   "id": "d06c2f6c",
   "metadata": {},
   "outputs": [],
   "source": [
    "import torch.nn as nn\n",
    "\n",
    "class LSTM(nn.Module): \n",
    "    def __init__(self, num_classes, input_size, hidden_size, num_layers): \n",
    "        super().__init__()\n",
    "        self.num_classes = num_classes # output size \n",
    "        self.num_layers = num_layers # number of recurrent layers in the LSTM \n",
    "        self.input_size = input_size # input size\n",
    "        self.hidden_size = hidden_size # neurons in each lstm later\n",
    "\n",
    "        # LSTM model \n",
    "        self.lstm = nn.LSTM(input_size=input_size, hidden_size=hidden_size, num_layers=num_layers, batch_first=True, dropout=0.2)\n",
    "        self.fc1 = nn.Linear(hidden_size, 128) # fully connected \n",
    "        self.fc2 = nn.Linear(128, num_classes) # last FC\n",
    "        self.relu = nn.ReLU()\n",
    "\n",
    "    def forward(self, x): \n",
    "        # hidden state\n",
    "        h_0 = torch.zeros(self.num_layers, x.size(0), self.hidden_size)\n",
    "        # cell state\n",
    "        c_0 = torch.zeros(self.num_layers, x.size(0), self.hidden_size)\n",
    "        # propgagate input through LSTM\n",
    "        output, (hn, cn) =self.lstm(x, (h_0, c_0)) # (input, hidden and internal state)\n",
    "        hn = hn.view(-1, self.hidden_size) # reshape data for Dense layer \n",
    "        out = self.relu(hn)\n",
    "        out = self.fc1(out)\n",
    "        out = self.relu(out)\n",
    "        out = self.fc2(out)\n",
    "        return out"
   ]
  },
  {
   "cell_type": "markdown",
   "id": "1044e312",
   "metadata": {},
   "source": [
    "In the initializations, we start with the parent class, nn.Module. Most initializations in PyTorch are separated into two chunks: \n",
    "\n",
    "- Any wariables that the class will need for reference, for things such as the hidden layer size, input size, and number of layers\n",
    "- Defining the layers of the model without connecting them using the variables instatiated above \n",
    "\n",
    "Frist we need to shape the LSTM with input size, hidden size and number of recurrent layers. For instance num_layers=2 means stacking 2 LSTMs together to form a stacked LSTM with the second LSTM taking in outputs of the first LSTM and computing the final results. Thus we initialize these three variables in the first part of the __init__. We also need to force our model to output only 1 predicted value so we initialize the number of classes variable. \n",
    "\n",
    "In the second part of the __init__, we set out layers of our network with the first later obviously a recurrent aapplication of the LSTM cells, with the parameters specified above: \n",
    "\n",
    "<code> self.lstm = nn.LSTM(input_size=input_size, hidden_size=hidden_size, num_layers=num_layers, batch_first= True)</code>\n",
    "\n",
    "Next, we pass this to a fully connected layer which has an input of the hidden size (the size of the output from the last STM later), and outputs 128 activations. Then we pass these 128 activations to another hidden layer which accepts 128 inputs, and which we want our ouput num_classes (which in this clase would be 1). Finally we pass this activation through a non-linear function, the ReLU. \n",
    "\n",
    "<code>self.fc1 = nn.Linear(hidden_size, 128)</code>\n",
    "\n",
    "\n",
    "<code>self.fc2 = nn.Linear(128, num_classes)</code>\n",
    "\n",
    "\n",
    "<code>self.relu = nn.ReLU </code>"
   ]
  },
  {
   "cell_type": "markdown",
   "id": "d51ba428",
   "metadata": {},
   "source": [
    "# Training"
   ]
  },
  {
   "cell_type": "markdown",
   "id": "106fa0ea",
   "metadata": {},
   "source": [
    "Here we will use a typical regression loss function like the MSE."
   ]
  },
  {
   "cell_type": "code",
   "execution_count": 32,
   "id": "addac98a",
   "metadata": {},
   "outputs": [],
   "source": [
    "def training_loop(n_epochs, lstm, optimiser, loss_fn, X_train, y_train, X_test, y_test):\n",
    "    for epoch in range(n_epochs): \n",
    "        lstm.train()\n",
    "        outputs = lstm.forward(X_train) # forward pass\n",
    "        optimiser.zero_grad() # calculate the gradient by manually setting to 0 \n",
    "\n",
    "        # obtain loss function \n",
    "        loss = loss_fn(outputs, y_train)\n",
    "        loss.backward() # calculates the loss of the loss function \n",
    "        optimiser.step() # improve the loss, i.e. backprop \n",
    "\n",
    "        # test loss\n",
    "        lstm.eval()\n",
    "        test_preds = lstm(X_test)\n",
    "        test_loss = loss_fn(test_preds, y_test)\n",
    "\n",
    "        if epoch % 2 == 0: \n",
    "            print(\"Epoch: %d, train loss: %1.5f, test loss: %1.5f\" % (epoch, loss.item(), test_loss.item()))"
   ]
  },
  {
   "cell_type": "markdown",
   "id": "812b2410",
   "metadata": {},
   "source": [
    "Here, we are doing the forward through the network by passing the training tensors, which we shaped before. We then zero out the current gradients in the torch computational graph. We compare these outputs from the forward pass with the actual train targets using our loss function, and backpropagate with loss.backward() to calculate the gradients of the loss wrt to the parameters (the weights and biases). We then use this loss to update the parameters. "
   ]
  },
  {
   "cell_type": "code",
   "execution_count": 33,
   "id": "fc7ea564",
   "metadata": {},
   "outputs": [],
   "source": [
    "import warnings\n",
    "warnings.filterwarnings('ignore')\n",
    "\n",
    "n_epochs = 100\n",
    "learning_rate = 0.001 \n",
    "\n",
    "input_size = X_ss.shape[2] # num of features\n",
    "hidden_size = 2 # num of features in the hidden state\n",
    "num_layers = 1\n",
    "num_classes = forward_window # num of output classes\n",
    "\n",
    "lstm = LSTM(num_classes, input_size, hidden_size, num_layers)"
   ]
  },
  {
   "cell_type": "code",
   "execution_count": 34,
   "id": "bd9f82a2",
   "metadata": {},
   "outputs": [],
   "source": [
    "loss_fn = torch.nn.MSELoss()\n",
    "optimiser = torch.optim.Adam(lstm.parameters(), lr = learning_rate)"
   ]
  },
  {
   "cell_type": "code",
   "execution_count": 35,
   "id": "1862b3c8",
   "metadata": {},
   "outputs": [
    {
     "name": "stdout",
     "output_type": "stream",
     "text": [
      "Epoch: 0, train loss: 0.33310, test loss: 0.01963\n",
      "Epoch: 2, train loss: 0.29185, test loss: 0.02519\n",
      "Epoch: 4, train loss: 0.25477, test loss: 0.03465\n",
      "Epoch: 6, train loss: 0.22190, test loss: 0.04771\n",
      "Epoch: 8, train loss: 0.19322, test loss: 0.06396\n",
      "Epoch: 10, train loss: 0.16864, test loss: 0.08287\n",
      "Epoch: 12, train loss: 0.14801, test loss: 0.10372\n",
      "Epoch: 14, train loss: 0.13107, test loss: 0.12570\n",
      "Epoch: 16, train loss: 0.11747, test loss: 0.14789\n",
      "Epoch: 18, train loss: 0.10677, test loss: 0.16934\n",
      "Epoch: 20, train loss: 0.09852, test loss: 0.18920\n",
      "Epoch: 22, train loss: 0.09223, test loss: 0.20672\n",
      "Epoch: 24, train loss: 0.08745, test loss: 0.22138\n",
      "Epoch: 26, train loss: 0.08378, test loss: 0.23285\n",
      "Epoch: 28, train loss: 0.08089, test loss: 0.24100\n",
      "Epoch: 30, train loss: 0.07852, test loss: 0.24589\n",
      "Epoch: 32, train loss: 0.07647, test loss: 0.24773\n",
      "Epoch: 34, train loss: 0.07460, test loss: 0.24687\n",
      "Epoch: 36, train loss: 0.07280, test loss: 0.24370\n",
      "Epoch: 38, train loss: 0.07102, test loss: 0.23867\n",
      "Epoch: 40, train loss: 0.06922, test loss: 0.23222\n",
      "Epoch: 42, train loss: 0.06737, test loss: 0.22483\n",
      "Epoch: 44, train loss: 0.06546, test loss: 0.21691\n",
      "Epoch: 46, train loss: 0.06350, test loss: 0.20867\n",
      "Epoch: 48, train loss: 0.06150, test loss: 0.20033\n",
      "Epoch: 50, train loss: 0.05946, test loss: 0.19207\n",
      "Epoch: 52, train loss: 0.05739, test loss: 0.18399\n",
      "Epoch: 54, train loss: 0.05531, test loss: 0.17615\n",
      "Epoch: 56, train loss: 0.05321, test loss: 0.16857\n",
      "Epoch: 58, train loss: 0.05110, test loss: 0.16124\n",
      "Epoch: 60, train loss: 0.04898, test loss: 0.15413\n",
      "Epoch: 62, train loss: 0.04684, test loss: 0.14722\n",
      "Epoch: 64, train loss: 0.04468, test loss: 0.14050\n",
      "Epoch: 66, train loss: 0.04250, test loss: 0.13390\n",
      "Epoch: 68, train loss: 0.04033, test loss: 0.12742\n",
      "Epoch: 70, train loss: 0.03815, test loss: 0.12105\n",
      "Epoch: 72, train loss: 0.03597, test loss: 0.11479\n",
      "Epoch: 74, train loss: 0.03381, test loss: 0.10865\n",
      "Epoch: 76, train loss: 0.03168, test loss: 0.10261\n",
      "Epoch: 78, train loss: 0.02958, test loss: 0.09669\n",
      "Epoch: 80, train loss: 0.02754, test loss: 0.09092\n",
      "Epoch: 82, train loss: 0.02556, test loss: 0.08529\n",
      "Epoch: 84, train loss: 0.02364, test loss: 0.07980\n",
      "Epoch: 86, train loss: 0.02179, test loss: 0.07446\n",
      "Epoch: 88, train loss: 0.02002, test loss: 0.06926\n",
      "Epoch: 90, train loss: 0.01835, test loss: 0.06425\n",
      "Epoch: 92, train loss: 0.01676, test loss: 0.05943\n",
      "Epoch: 94, train loss: 0.01528, test loss: 0.05481\n",
      "Epoch: 96, train loss: 0.01392, test loss: 0.05041\n",
      "Epoch: 98, train loss: 0.01268, test loss: 0.04626\n"
     ]
    }
   ],
   "source": [
    "training_loop(n_epochs=n_epochs, \n",
    "              lstm=lstm, \n",
    "              optimiser=optimiser, \n",
    "              loss_fn = loss_fn, \n",
    "              X_train=X_train_tensors_final, \n",
    "              y_train=y_train_tensors, \n",
    "              X_test=X_test_tensors_final, \n",
    "              y_test=y_test_tensors)\n"
   ]
  },
  {
   "cell_type": "markdown",
   "id": "cfea4699",
   "metadata": {},
   "source": [
    "# Prediction\n",
    "\n",
    "A key part of prediction, if the variables have been standardized, is known was we need to pass to the model. That is what do we need to standardize before passing it to hte model. We just apply the same transforms to the predictors and targets so that whatever we feed to the model is exactly what the model is seeing. It wouldnt make sense to not stardize our inpits; the model would be confused as to why they no longer have zero mean and unit variance. \n",
    "\n",
    "Let's plot the result for the full dataset"
   ]
  },
  {
   "cell_type": "code",
   "execution_count": 36,
   "id": "b8b41188",
   "metadata": {},
   "outputs": [
    {
     "data": {
      "image/png": "[encoded data removed]",
      "text/plain": [
       "<Figure size 1000x600 with 1 Axes>"
      ]
     },
     "metadata": {},
     "output_type": "display_data"
    }
   ],
   "source": [
    "df_X_ss = ss.transform(df.drop(columns=['File'])) # old transformers \n",
    "df_y_mm = mm.transform(df[\"Clock Bias (seconds)\"].values.reshape(-1,1)) # older transformers\n",
    "\n",
    "#split sequences \n",
    "df_X_ss, df_y_mm = split_sequences(df_X_ss, df_y_mm, prediction_window, forward_window)\n",
    "\n",
    "# convert tensors \n",
    "df_X_ss = torch.Tensor(df_X_ss)\n",
    "df_y_mm = torch.Tensor(df_y_mm)\n",
    "\n",
    "#reshape dataset\n",
    "df_X_ss = torch.reshape(df_X_ss, (df_X_ss.shape[0], prediction_window, df_X_ss.shape[2]))\n",
    "\n",
    "train_predict = lstm(df_X_ss)\n",
    "data_predict = train_predict.data.numpy()\n",
    "dataY_plot = df_y_mm.data.numpy()\n",
    "\n",
    "data_predict = mm.inverse_transform(data_predict)\n",
    "dataY_plot = mm.inverse_transform(dataY_plot)\n",
    "\n",
    "true, preds = [], []\n",
    "\n",
    "for i in range(len(dataY_plot)): \n",
    "    true.append(dataY_plot[i][0])\n",
    "for i in range(len(data_predict)): \n",
    "    preds.append(data_predict[i][0])\n",
    "\n",
    "plt.figure(figsize=(10,6))\n",
    "plt.axvline(x=train_test_cutoff, c='r', linestyle='--') # size of the training set\n",
    "\n",
    "plt.plot(true, label='Actual Data')\n",
    "plt.plot(preds, label='Predicted Data')\n",
    "plt.title('Time Series Prediction')\n",
    "plt.legend()\n",
    "plt.savefig(\"whole_plot.png\", dpi = 300)\n",
    "plt.show()"
   ]
  },
  {
   "cell_type": "code",
   "execution_count": 37,
   "id": "1c2fc44b",
   "metadata": {},
   "outputs": [],
   "source": [
    "from sklearn.metrics import r2_score"
   ]
  },
  {
   "cell_type": "code",
   "execution_count": 38,
   "id": "7f429e5a",
   "metadata": {},
   "outputs": [
    {
     "data": {
      "text/plain": [
       "0.8010557016797581"
      ]
     },
     "execution_count": 38,
     "metadata": {},
     "output_type": "execute_result"
    }
   ],
   "source": [
    "r2 = r2_score(true, preds)\n",
    "r2"
   ]
  },
  {
   "cell_type": "code",
   "execution_count": 39,
   "id": "25860789",
   "metadata": {},
   "outputs": [
    {
     "data": {
      "text/plain": [
       "0.0035868863375535655"
      ]
     },
     "execution_count": 39,
     "metadata": {},
     "output_type": "execute_result"
    }
   ],
   "source": [
    "from sklearn.metrics import mean_absolute_percentage_error\n",
    "mean_absolute_percentage_error(true, preds)"
   ]
  },
  {
   "cell_type": "code",
   "execution_count": 40,
   "id": "aa9b50ef",
   "metadata": {},
   "outputs": [
    {
     "data": {
      "text/plain": [
       "2.0129183951259737e-07"
      ]
     },
     "execution_count": 40,
     "metadata": {},
     "output_type": "execute_result"
    }
   ],
   "source": [
    "from sklearn.metrics import root_mean_squared_error\n",
    "root_mean_squared_error(true, preds)"
   ]
  },
  {
   "cell_type": "code",
   "execution_count": 41,
   "id": "8cd70d95",
   "metadata": {},
   "outputs": [
    {
     "data": {
      "text/plain": [
       "1976.914770916642"
      ]
     },
     "execution_count": 41,
     "metadata": {},
     "output_type": "execute_result"
    }
   ],
   "source": [
    "adj_r2 = 1-(1-r2)*(len(true)-1)/(len(true)-X_ss.shape[0]-1)\n",
    "adj_r2"
   ]
  },
  {
   "cell_type": "markdown",
   "id": "caca5958",
   "metadata": {},
   "source": [
    "Although these results may seem good, it's not actually as good as it appears. This plot above, where the test data is any time step beyond the red-dashed line, seems to suggest that our moel is amazingly accurate at predicting the price of Bitcoin, a few months into the future. However, what's happening here is a form of data leakage, where information about the test targets has leaked into the test features. That is, whenever we run the model, it has access to the <code>Open</code> price for that day, which is obviously going to be extremely close to the price Bitcoin endsup at for the particular time step. When we loop over our predictions on the model, we append the first predicted value for that time-step. This means that every prediction we are plotting on here has the benefit of being the next predicted value - and not the sequence of 50 values into the future (as we set up in our problem definition). \n",
    "\n",
    "\n",
    "If we really want to see how our model is performing, we have to feed it the 100 time-steps of features before the final value in the test set and then use one model forward pass to calculate the 50 time-step prices in the test set. \n",
    "\n",
    "Recall from above that double-checked our test features in the final batch sample in the test set werre the 100 time steps up to the time-step we're attempting to predict. That is, we feed the model 100 days of information upt to 26th Nov 2021, and get it to predict 50 days of Bitcoin prices, from this day to the 14th Jan 2022. "
   ]
  },
  {
   "cell_type": "code",
   "execution_count": 42,
   "id": "9a05310e",
   "metadata": {},
   "outputs": [],
   "source": [
    "test_predict = lstm(X_test_tensors_final[-1].unsqueeze(0)) # obtains the last sample\n",
    "test_predict = test_predict.detach().numpy()\n",
    "test_predict = mm.inverse_transform(test_predict)\n",
    "test_predict = test_predict[0].tolist()"
   ]
  },
  {
   "cell_type": "code",
   "execution_count": 43,
   "id": "8393b126",
   "metadata": {},
   "outputs": [],
   "source": [
    "test_target = y_test_tensors[-1].detach().numpy()\n",
    "test_target = mm.inverse_transform(test_target.reshape(1,-1))\n",
    "test_target = test_target[0].tolist()"
   ]
  },
  {
   "cell_type": "code",
   "execution_count": 44,
   "id": "0558c254",
   "metadata": {},
   "outputs": [
    {
     "data": {
      "image/png": "[encoded data removed]",
      "text/plain": [
       "<Figure size 640x480 with 1 Axes>"
      ]
     },
     "metadata": {},
     "output_type": "display_data"
    }
   ],
   "source": [
    "plt.plot(test_target, label = \"Actual Data\")\n",
    "plt.plot(test_predict, label = \"LSTM Predictions\")\n",
    "plt.savefig(\"small_plot.png\", dpi = 300)\n",
    "plt.show();"
   ]
  },
  {
   "cell_type": "markdown",
   "id": "98e8e3d1",
   "metadata": {},
   "source": [
    "This is good. If we feed the last 100 days of information, our model successfully predicts a steady decline in the price of Bitcoin over the next 50 days. For one last plot, let's put this in perspective of the scale of the data. "
   ]
  },
  {
   "cell_type": "code",
   "execution_count": 45,
   "id": "09353f3c",
   "metadata": {},
   "outputs": [
    {
     "data": {
      "image/png": "[encoded data removed]",
      "text/plain": [
       "<Figure size 1000x600 with 1 Axes>"
      ]
     },
     "metadata": {},
     "output_type": "display_data"
    }
   ],
   "source": [
    "plt.figure(figsize=(10,6))\n",
    "a = [x for x in range(2500, len(y))]\n",
    "plt.plot(a, y[2500:], label=\"Actual Data\"); \n",
    "c = [x for x in range (len(y)-forward_window, len(y))]\n",
    "plt.plot(c, test_predict, label = \"One-shot multi-step prediction (50 days)\")\n",
    "plt.axvline(x=len(y)-50, c='r', linestyle=\"--\")\n",
    "plt.legend()\n",
    "plt.show()"
   ]
  },
  {
   "cell_type": "markdown",
   "id": "37ce39bc",
   "metadata": {},
   "source": [
    "So, if we'd run our model on 26 Nov 2021, we would have been correct in selling off our Bitcoin. The model correctly predicts a price drop, as well as the rate at which it drops. \n",
    "\n",
    "This orange whole curve is generated without looking at ANY target data. Yes, to be fair, the model is very familiar with all the actual targets before the dashed red line. However, once we move past the training set into the test set the model has no idea what the test targets are. It has to generate its prediction  from the input feature only. "
   ]
  },
  {
   "cell_type": "markdown",
   "id": "bde103c2",
   "metadata": {},
   "source": [
    "# Conclusion\n",
    "\n",
    "Interestingly, there's no info on the internet on how to construct multi-step out put LSTM models for multi-variate time-series data."
   ]
  },
  {
   "cell_type": "code",
   "execution_count": 46,
   "id": "fc05dfb4",
   "metadata": {},
   "outputs": [
    {
     "data": {
      "text/plain": [
       "-137460.8600691317"
      ]
     },
     "execution_count": 46,
     "metadata": {},
     "output_type": "execute_result"
    }
   ],
   "source": [
    "r2 = r2_score(test_target, test_predict)\n",
    "r2"
   ]
  },
  {
   "cell_type": "code",
   "execution_count": 47,
   "id": "8be8ad20",
   "metadata": {},
   "outputs": [
    {
     "data": {
      "text/plain": [
       "[-4.2329178540967405e-05,\n",
       " -4.232933861203492e-05,\n",
       " -4.232949504512362e-05,\n",
       " -4.2329655116191134e-05,\n",
       " -4.232981154927984e-05,\n",
       " -4.232997162034735e-05,\n",
       " -4.233013169141486e-05,\n",
       " -4.233028812450357e-05,\n",
       " -4.233044819557108e-05,\n",
       " -4.2330604628659785e-05,\n",
       " -4.23307646997273e-05,\n",
       " -4.233092477079481e-05,\n",
       " -4.2331081203883514e-05,\n",
       " -4.2331241274951026e-05,\n",
       " -4.233139770803973e-05,\n",
       " -4.233155777910724e-05,\n",
       " -4.2331717850174755e-05,\n",
       " -4.233187428326346e-05,\n",
       " -4.233203435433097e-05,\n",
       " -4.233219078741968e-05]"
      ]
     },
     "execution_count": 47,
     "metadata": {},
     "output_type": "execute_result"
    }
   ],
   "source": [
    "test_target"
   ]
  },
  {
   "cell_type": "code",
   "execution_count": 48,
   "id": "3c90c81c",
   "metadata": {},
   "outputs": [
    {
     "data": {
      "text/plain": [
       "[-4.192883352516219e-05,\n",
       " -4.182817792752758e-05,\n",
       " -4.1959599911933765e-05,\n",
       " -4.2085252061951905e-05,\n",
       " -4.185906800557859e-05,\n",
       " -4.2130159272346646e-05,\n",
       " -4.2032064811792225e-05,\n",
       " -4.195818837615661e-05,\n",
       " -4.190894833300263e-05,\n",
       " -4.2022693378385156e-05,\n",
       " -4.210569750284776e-05,\n",
       " -4.1889663407346234e-05,\n",
       " -4.2052368371514603e-05,\n",
       " -4.207869278616272e-05,\n",
       " -4.207640085951425e-05,\n",
       " -4.2001280235126615e-05,\n",
       " -4.196459849481471e-05,\n",
       " -4.211316627333872e-05,\n",
       " -4.210893530398607e-05,\n",
       " -4.1962601244449615e-05]"
      ]
     },
     "execution_count": 48,
     "metadata": {},
     "output_type": "execute_result"
    }
   ],
   "source": [
    "test_predict"
   ]
  },
  {
   "cell_type": "code",
   "execution_count": 49,
   "id": "85c2dab5",
   "metadata": {},
   "outputs": [
    {
     "data": {
      "text/plain": [
       "3.3905795522169665e-07"
      ]
     },
     "execution_count": 49,
     "metadata": {},
     "output_type": "execute_result"
    }
   ],
   "source": [
    "from sklearn.metrics import root_mean_squared_error\n",
    "root_mean_squared_error(test_target, test_predict)"
   ]
  },
  {
   "cell_type": "code",
   "execution_count": null,
   "id": "3b61ef9c",
   "metadata": {},
   "outputs": [],
   "source": []
  },
  {
   "cell_type": "code",
   "execution_count": null,
   "id": "e25cdebd",
   "metadata": {},
   "outputs": [],
   "source": []
  },
  {
   "cell_type": "code",
   "execution_count": null,
   "id": "b9c6573b",
   "metadata": {},
   "outputs": [],
   "source": []
  },
  {
   "cell_type": "code",
   "execution_count": null,
   "id": "c9da92f3",
   "metadata": {},
   "outputs": [],
   "source": []
  },
  {
   "cell_type": "code",
   "execution_count": null,
   "id": "985f4e96",
   "metadata": {},
   "outputs": [],
   "source": []
  }
 ],
 "metadata": {
  "kernelspec": {
   "display_name": "toy_transformer",
   "language": "python",
   "name": "python3"
  },
  "language_info": {
   "codemirror_mode": {
    "name": "ipython",
    "version": 3
   },
   "file_extension": ".py",
   "mimetype": "text/x-python",
   "name": "python",
   "nbconvert_exporter": "python",
   "pygments_lexer": "ipython3",
   "version": "3.10.16"
  }
 },
 "nbformat": 4,
 "nbformat_minor": 5
}
