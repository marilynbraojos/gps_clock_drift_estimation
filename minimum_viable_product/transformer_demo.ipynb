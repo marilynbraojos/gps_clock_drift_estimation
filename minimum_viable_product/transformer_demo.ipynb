{
 "cells": [
  {
   "cell_type": "markdown",
   "id": "b436402e",
   "metadata": {},
   "source": [
    "# Description: \n",
    "\n",
    "The previous part of this project investigated whether broadcast clock bias could be used to forecast a correction that would yield a more accurate clock bias correction. This was investigated by leveraging the IGS post-processed products as the ground truth clock bias, then the difference from it and the broadcast clock bias was evaluated and this value was used as the model's label. The previous model was an encoder only transformer, the subsequent model was a Temporal Fusion Transformer (specifically designed to forecast multi-variate time series). While both models achieved low RMSE metrics, their R2 values did not correlate with a model of optimal performance (i.e. model was likely just outputting a bias that was close enough but not truly predicting a specific behavior). This may be attributed to the clock bias \"correction\" data being largely a random walk process (with maybe an underlying bias?). While the augmented dickey-fuller test showed results in line with the data not being a random walk process even after testing after subtracting the data's bias from it, other tests demonstrated that it likely is. Other tests included: Fourier analysis (outcome: peaked at 0), data visualization (showed an almost perfect Gaussian distribution - despite tests resulting in a negative outcome for Gaussian classification). This holistic review leads to the conclusion that the data labels are largely noise, and unable to be modeled. \n",
    "\n",
    "This prompts a change in direction for the project: \n",
    "\n",
    "My thesis statement is the following - I am aiming to build low infrastructure ground systems for use on the Moon that leverage novel technology that demonstrated that far GNSS signals can be seen from the Moon. This means that in order to operate a Moon rover, we may be able to leverage these sparse GNSS signals, combined with machine learning, to achieve accurate timing on the Moon. \n",
    "\n",
    "How will this be done: This model will use ephemeris data as inputs and IGS post-processed clock bias products as the labels. Our objective is to model the final clock bias during times when limited inputs are known. \n",
    "\n",
    "This document will demonstrate if this is a possibility with a minimum viable product that uses 1 week of data. The data is expected to be split in a 80/20 fashion for training/validation."
   ]
  },
  {
   "cell_type": "markdown",
   "id": "e1159b4d",
   "metadata": {},
   "source": [
    "# Gathering the Data: \n",
    "\n",
    "The first step is to collect the relevant data. We will be collecting information from the GPS navigation files for a week, and putting them on a CSV. "
   ]
  },
  {
   "cell_type": "markdown",
   "id": "d2fc9070",
   "metadata": {},
   "source": []
  }
 ],
 "metadata": {
  "language_info": {
   "name": "python"
  }
 },
 "nbformat": 4,
 "nbformat_minor": 5
}
